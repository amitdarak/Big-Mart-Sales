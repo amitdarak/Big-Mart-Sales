{
 "cells": [
  {
   "cell_type": "code",
   "execution_count": 361,
   "metadata": {
    "collapsed": false
   },
   "outputs": [],
   "source": [
    "import pandas as pd\n",
    "import numpy as np\n",
    "import scipy.stats as stats\n",
    "import pylab as pl\n"
   ]
  },
  {
   "cell_type": "code",
   "execution_count": 362,
   "metadata": {
    "collapsed": true
   },
   "outputs": [],
   "source": [
    "#Read both the train and test files\n",
    "train = pd.read_csv('C:/Big Data/Big Mart Project/Train_data.csv')\n",
    "test = pd.read_csv('C:/Big Data/Big Mart Project/Test_data.csv')"
   ]
  },
  {
   "cell_type": "code",
   "execution_count": 363,
   "metadata": {
    "collapsed": false
   },
   "outputs": [
    {
     "data": {
      "text/html": [
       "<div>\n",
       "<table border=\"1\" class=\"dataframe\">\n",
       "  <thead>\n",
       "    <tr style=\"text-align: right;\">\n",
       "      <th></th>\n",
       "      <th>Item_Identifier</th>\n",
       "      <th>Item_Weight</th>\n",
       "      <th>Item_Fat_Content</th>\n",
       "      <th>Item_Visibility</th>\n",
       "      <th>Item_Type</th>\n",
       "      <th>Item_MRP</th>\n",
       "      <th>Outlet_Identifier</th>\n",
       "      <th>Outlet_Establishment_Year</th>\n",
       "      <th>Outlet_Size</th>\n",
       "      <th>Outlet_Location_Type</th>\n",
       "      <th>Outlet_Type</th>\n",
       "      <th>Item_Outlet_Sales</th>\n",
       "    </tr>\n",
       "  </thead>\n",
       "  <tbody>\n",
       "    <tr>\n",
       "      <th>0</th>\n",
       "      <td>FDA15</td>\n",
       "      <td>9.30</td>\n",
       "      <td>Low Fat</td>\n",
       "      <td>0.016047</td>\n",
       "      <td>Dairy</td>\n",
       "      <td>249.8092</td>\n",
       "      <td>OUT049</td>\n",
       "      <td>1999</td>\n",
       "      <td>Medium</td>\n",
       "      <td>Tier 1</td>\n",
       "      <td>Supermarket Type1</td>\n",
       "      <td>3735.1380</td>\n",
       "    </tr>\n",
       "    <tr>\n",
       "      <th>1</th>\n",
       "      <td>DRC01</td>\n",
       "      <td>5.92</td>\n",
       "      <td>Regular</td>\n",
       "      <td>0.019278</td>\n",
       "      <td>Soft Drinks</td>\n",
       "      <td>48.2692</td>\n",
       "      <td>OUT018</td>\n",
       "      <td>2009</td>\n",
       "      <td>Medium</td>\n",
       "      <td>Tier 3</td>\n",
       "      <td>Supermarket Type2</td>\n",
       "      <td>443.4228</td>\n",
       "    </tr>\n",
       "    <tr>\n",
       "      <th>2</th>\n",
       "      <td>FDN15</td>\n",
       "      <td>17.50</td>\n",
       "      <td>Low Fat</td>\n",
       "      <td>0.016760</td>\n",
       "      <td>Meat</td>\n",
       "      <td>141.6180</td>\n",
       "      <td>OUT049</td>\n",
       "      <td>1999</td>\n",
       "      <td>Medium</td>\n",
       "      <td>Tier 1</td>\n",
       "      <td>Supermarket Type1</td>\n",
       "      <td>2097.2700</td>\n",
       "    </tr>\n",
       "    <tr>\n",
       "      <th>3</th>\n",
       "      <td>FDX07</td>\n",
       "      <td>19.20</td>\n",
       "      <td>Regular</td>\n",
       "      <td>0.000000</td>\n",
       "      <td>Fruits and Vegetables</td>\n",
       "      <td>182.0950</td>\n",
       "      <td>OUT010</td>\n",
       "      <td>1998</td>\n",
       "      <td>NaN</td>\n",
       "      <td>Tier 3</td>\n",
       "      <td>Grocery Store</td>\n",
       "      <td>732.3800</td>\n",
       "    </tr>\n",
       "    <tr>\n",
       "      <th>4</th>\n",
       "      <td>NCD19</td>\n",
       "      <td>8.93</td>\n",
       "      <td>Low Fat</td>\n",
       "      <td>0.000000</td>\n",
       "      <td>Household</td>\n",
       "      <td>53.8614</td>\n",
       "      <td>OUT013</td>\n",
       "      <td>1987</td>\n",
       "      <td>High</td>\n",
       "      <td>Tier 3</td>\n",
       "      <td>Supermarket Type1</td>\n",
       "      <td>994.7052</td>\n",
       "    </tr>\n",
       "  </tbody>\n",
       "</table>\n",
       "</div>"
      ],
      "text/plain": [
       "  Item_Identifier  Item_Weight Item_Fat_Content  Item_Visibility  \\\n",
       "0           FDA15         9.30          Low Fat         0.016047   \n",
       "1           DRC01         5.92          Regular         0.019278   \n",
       "2           FDN15        17.50          Low Fat         0.016760   \n",
       "3           FDX07        19.20          Regular         0.000000   \n",
       "4           NCD19         8.93          Low Fat         0.000000   \n",
       "\n",
       "               Item_Type  Item_MRP Outlet_Identifier  \\\n",
       "0                  Dairy  249.8092            OUT049   \n",
       "1            Soft Drinks   48.2692            OUT018   \n",
       "2                   Meat  141.6180            OUT049   \n",
       "3  Fruits and Vegetables  182.0950            OUT010   \n",
       "4              Household   53.8614            OUT013   \n",
       "\n",
       "   Outlet_Establishment_Year Outlet_Size Outlet_Location_Type  \\\n",
       "0                       1999      Medium               Tier 1   \n",
       "1                       2009      Medium               Tier 3   \n",
       "2                       1999      Medium               Tier 1   \n",
       "3                       1998         NaN               Tier 3   \n",
       "4                       1987        High               Tier 3   \n",
       "\n",
       "         Outlet_Type  Item_Outlet_Sales  \n",
       "0  Supermarket Type1          3735.1380  \n",
       "1  Supermarket Type2           443.4228  \n",
       "2  Supermarket Type1          2097.2700  \n",
       "3      Grocery Store           732.3800  \n",
       "4  Supermarket Type1           994.7052  "
      ]
     },
     "execution_count": 363,
     "metadata": {},
     "output_type": "execute_result"
    }
   ],
   "source": [
    "train.head()"
   ]
  },
  {
   "cell_type": "code",
   "execution_count": 364,
   "metadata": {
    "collapsed": false
   },
   "outputs": [
    {
     "data": {
      "text/plain": [
       "False"
      ]
     },
     "execution_count": 364,
     "metadata": {},
     "output_type": "execute_result"
    }
   ],
   "source": [
    "#To check if number of columns are same in both, as we need to have equal number of columns to concat two datasets\n",
    "train.columns.equals(test.columns)"
   ]
  },
  {
   "cell_type": "code",
   "execution_count": 365,
   "metadata": {
    "collapsed": false
   },
   "outputs": [
    {
     "data": {
      "text/plain": [
       "Index(['Item_Outlet_Sales'], dtype='object')"
      ]
     },
     "execution_count": 365,
     "metadata": {},
     "output_type": "execute_result"
    }
   ],
   "source": [
    "#To check which features are different\n",
    "train.columns.difference(test.columns)"
   ]
  },
  {
   "cell_type": "code",
   "execution_count": 366,
   "metadata": {
    "collapsed": true
   },
   "outputs": [],
   "source": [
    "#Add new columns\n",
    "test['Item_Outlet_Sales'] = 0"
   ]
  },
  {
   "cell_type": "code",
   "execution_count": 367,
   "metadata": {
    "collapsed": false
   },
   "outputs": [
    {
     "data": {
      "text/plain": [
       "True"
      ]
     },
     "execution_count": 367,
     "metadata": {},
     "output_type": "execute_result"
    }
   ],
   "source": [
    "#To check if number of columns are same in both, as we need to have equal number of columns to concat two datasets\n",
    "train.columns.equals(test.columns)"
   ]
  },
  {
   "cell_type": "code",
   "execution_count": 368,
   "metadata": {
    "collapsed": false
   },
   "outputs": [
    {
     "name": "stdout",
     "output_type": "stream",
     "text": [
      "(8523, 12)\n",
      "(5681, 12)\n"
     ]
    }
   ],
   "source": [
    "print(train.shape)\n",
    "print(test.shape)"
   ]
  },
  {
   "cell_type": "code",
   "execution_count": 369,
   "metadata": {
    "collapsed": false
   },
   "outputs": [],
   "source": [
    "#Concat 2 datasets\n",
    "alldata = pd.concat([train, test], ignore_index=True)"
   ]
  },
  {
   "cell_type": "code",
   "execution_count": 370,
   "metadata": {
    "collapsed": false
   },
   "outputs": [
    {
     "data": {
      "text/plain": [
       "(14204, 12)"
      ]
     },
     "execution_count": 370,
     "metadata": {},
     "output_type": "execute_result"
    }
   ],
   "source": [
    "alldata.shape"
   ]
  },
  {
   "cell_type": "code",
   "execution_count": 371,
   "metadata": {
    "collapsed": false
   },
   "outputs": [
    {
     "data": {
      "text/html": [
       "<div>\n",
       "<table border=\"1\" class=\"dataframe\">\n",
       "  <thead>\n",
       "    <tr style=\"text-align: right;\">\n",
       "      <th></th>\n",
       "      <th>Item_Identifier</th>\n",
       "      <th>Item_Weight</th>\n",
       "      <th>Item_Fat_Content</th>\n",
       "      <th>Item_Visibility</th>\n",
       "      <th>Item_Type</th>\n",
       "      <th>Item_MRP</th>\n",
       "      <th>Outlet_Identifier</th>\n",
       "      <th>Outlet_Establishment_Year</th>\n",
       "      <th>Outlet_Size</th>\n",
       "      <th>Outlet_Location_Type</th>\n",
       "      <th>Outlet_Type</th>\n",
       "      <th>Item_Outlet_Sales</th>\n",
       "    </tr>\n",
       "  </thead>\n",
       "  <tbody>\n",
       "    <tr>\n",
       "      <th>14199</th>\n",
       "      <td>FDB58</td>\n",
       "      <td>10.5</td>\n",
       "      <td>Regular</td>\n",
       "      <td>0.013496</td>\n",
       "      <td>Snack Foods</td>\n",
       "      <td>141.3154</td>\n",
       "      <td>OUT046</td>\n",
       "      <td>1997</td>\n",
       "      <td>Small</td>\n",
       "      <td>Tier 1</td>\n",
       "      <td>Supermarket Type1</td>\n",
       "      <td>0.0</td>\n",
       "    </tr>\n",
       "    <tr>\n",
       "      <th>14200</th>\n",
       "      <td>FDD47</td>\n",
       "      <td>7.6</td>\n",
       "      <td>Regular</td>\n",
       "      <td>0.142991</td>\n",
       "      <td>Starchy Foods</td>\n",
       "      <td>169.1448</td>\n",
       "      <td>OUT018</td>\n",
       "      <td>2009</td>\n",
       "      <td>Medium</td>\n",
       "      <td>Tier 3</td>\n",
       "      <td>Supermarket Type2</td>\n",
       "      <td>0.0</td>\n",
       "    </tr>\n",
       "    <tr>\n",
       "      <th>14201</th>\n",
       "      <td>NCO17</td>\n",
       "      <td>10.0</td>\n",
       "      <td>Low Fat</td>\n",
       "      <td>0.073529</td>\n",
       "      <td>Health and Hygiene</td>\n",
       "      <td>118.7440</td>\n",
       "      <td>OUT045</td>\n",
       "      <td>2002</td>\n",
       "      <td>NaN</td>\n",
       "      <td>Tier 2</td>\n",
       "      <td>Supermarket Type1</td>\n",
       "      <td>0.0</td>\n",
       "    </tr>\n",
       "    <tr>\n",
       "      <th>14202</th>\n",
       "      <td>FDJ26</td>\n",
       "      <td>15.3</td>\n",
       "      <td>Regular</td>\n",
       "      <td>0.000000</td>\n",
       "      <td>Canned</td>\n",
       "      <td>214.6218</td>\n",
       "      <td>OUT017</td>\n",
       "      <td>2007</td>\n",
       "      <td>NaN</td>\n",
       "      <td>Tier 2</td>\n",
       "      <td>Supermarket Type1</td>\n",
       "      <td>0.0</td>\n",
       "    </tr>\n",
       "    <tr>\n",
       "      <th>14203</th>\n",
       "      <td>FDU37</td>\n",
       "      <td>9.5</td>\n",
       "      <td>Regular</td>\n",
       "      <td>0.104720</td>\n",
       "      <td>Canned</td>\n",
       "      <td>79.7960</td>\n",
       "      <td>OUT045</td>\n",
       "      <td>2002</td>\n",
       "      <td>NaN</td>\n",
       "      <td>Tier 2</td>\n",
       "      <td>Supermarket Type1</td>\n",
       "      <td>0.0</td>\n",
       "    </tr>\n",
       "  </tbody>\n",
       "</table>\n",
       "</div>"
      ],
      "text/plain": [
       "      Item_Identifier  Item_Weight Item_Fat_Content  Item_Visibility  \\\n",
       "14199           FDB58         10.5          Regular         0.013496   \n",
       "14200           FDD47          7.6          Regular         0.142991   \n",
       "14201           NCO17         10.0          Low Fat         0.073529   \n",
       "14202           FDJ26         15.3          Regular         0.000000   \n",
       "14203           FDU37          9.5          Regular         0.104720   \n",
       "\n",
       "                Item_Type  Item_MRP Outlet_Identifier  \\\n",
       "14199         Snack Foods  141.3154            OUT046   \n",
       "14200       Starchy Foods  169.1448            OUT018   \n",
       "14201  Health and Hygiene  118.7440            OUT045   \n",
       "14202              Canned  214.6218            OUT017   \n",
       "14203              Canned   79.7960            OUT045   \n",
       "\n",
       "       Outlet_Establishment_Year Outlet_Size Outlet_Location_Type  \\\n",
       "14199                       1997       Small               Tier 1   \n",
       "14200                       2009      Medium               Tier 3   \n",
       "14201                       2002         NaN               Tier 2   \n",
       "14202                       2007         NaN               Tier 2   \n",
       "14203                       2002         NaN               Tier 2   \n",
       "\n",
       "             Outlet_Type  Item_Outlet_Sales  \n",
       "14199  Supermarket Type1                0.0  \n",
       "14200  Supermarket Type2                0.0  \n",
       "14201  Supermarket Type1                0.0  \n",
       "14202  Supermarket Type1                0.0  \n",
       "14203  Supermarket Type1                0.0  "
      ]
     },
     "execution_count": 371,
     "metadata": {},
     "output_type": "execute_result"
    }
   ],
   "source": [
    "alldata.tail()"
   ]
  },
  {
   "cell_type": "code",
   "execution_count": 372,
   "metadata": {
    "collapsed": false
   },
   "outputs": [
    {
     "data": {
      "text/plain": [
       "Index(['Item_Identifier', 'Item_Weight', 'Item_Fat_Content', 'Item_Visibility',\n",
       "       'Item_Type', 'Item_MRP', 'Outlet_Identifier',\n",
       "       'Outlet_Establishment_Year', 'Outlet_Size', 'Outlet_Location_Type',\n",
       "       'Outlet_Type', 'Item_Outlet_Sales'],\n",
       "      dtype='object')"
      ]
     },
     "execution_count": 372,
     "metadata": {},
     "output_type": "execute_result"
    }
   ],
   "source": [
    "#Look at the feature names\n",
    "alldata.columns"
   ]
  },
  {
   "cell_type": "code",
   "execution_count": 373,
   "metadata": {
    "collapsed": false
   },
   "outputs": [
    {
     "data": {
      "text/plain": [
       "Item_Identifier               object\n",
       "Item_Weight                  float64\n",
       "Item_Fat_Content              object\n",
       "Item_Visibility              float64\n",
       "Item_Type                     object\n",
       "Item_MRP                     float64\n",
       "Outlet_Identifier             object\n",
       "Outlet_Establishment_Year      int64\n",
       "Outlet_Size                   object\n",
       "Outlet_Location_Type          object\n",
       "Outlet_Type                   object\n",
       "Item_Outlet_Sales            float64\n",
       "dtype: object"
      ]
     },
     "execution_count": 373,
     "metadata": {},
     "output_type": "execute_result"
    }
   ],
   "source": [
    "#Check datatypes\n",
    "alldata.dtypes"
   ]
  },
  {
   "cell_type": "code",
   "execution_count": 374,
   "metadata": {
    "collapsed": false
   },
   "outputs": [
    {
     "data": {
      "text/plain": [
       "Item_Identifier                 0\n",
       "Item_Weight                  2439\n",
       "Item_Fat_Content                0\n",
       "Item_Visibility                 0\n",
       "Item_Type                       0\n",
       "Item_MRP                        0\n",
       "Outlet_Identifier               0\n",
       "Outlet_Establishment_Year       0\n",
       "Outlet_Size                  4016\n",
       "Outlet_Location_Type            0\n",
       "Outlet_Type                     0\n",
       "Item_Outlet_Sales               0\n",
       "dtype: int64"
      ]
     },
     "execution_count": 374,
     "metadata": {},
     "output_type": "execute_result"
    }
   ],
   "source": [
    "#Check null values\n",
    "alldata.isnull().sum()"
   ]
  },
  {
   "cell_type": "markdown",
   "metadata": {},
   "source": [
    "# Item weight null values as per item identifier"
   ]
  },
  {
   "cell_type": "code",
   "execution_count": 375,
   "metadata": {
    "collapsed": false
   },
   "outputs": [],
   "source": [
    "alldata['Item_Weight'].fillna('?', inplace = True)"
   ]
  },
  {
   "cell_type": "code",
   "execution_count": 376,
   "metadata": {
    "collapsed": false
   },
   "outputs": [],
   "source": [
    "dic = {}\n",
    "for i in alldata['Item_Identifier']:\n",
    "    a = (alldata['Item_Identifier']==i)\n",
    "    b = alldata[a==True]\n",
    "    c = b['Item_Weight'].unique()\n",
    "    dic[i] = c"
   ]
  },
  {
   "cell_type": "code",
   "execution_count": 377,
   "metadata": {
    "collapsed": false
   },
   "outputs": [
    {
     "data": {
      "text/plain": [
       "{'FDP01': array([20.75, '?'], dtype=object),\n",
       " 'FDM09': array([11.15, '?'], dtype=object),\n",
       " 'FDV47': array([17.1, '?'], dtype=object),\n",
       " 'FDY38': array([13.6, '?'], dtype=object),\n",
       " 'FDL50': array([12.15, '?'], dtype=object),\n",
       " 'FDW24': array(['?', 6.8], dtype=object),\n",
       " 'FDJ02': array(['?', 17.2], dtype=object),\n",
       " 'NCK17': array(['?', 11.0], dtype=object),\n",
       " 'FDY55': array([16.75, '?'], dtype=object),\n",
       " 'FDI44': array(['?', 16.1], dtype=object),\n",
       " 'FDY28': array([7.47, '?'], dtype=object),\n",
       " 'FDZ22': array(['?', 9.395], dtype=object),\n",
       " 'DRF03': array([19.1, '?'], dtype=object),\n",
       " 'DRI25': array([19.6, '?'], dtype=object),\n",
       " 'NCK07': array([10.65, '?'], dtype=object),\n",
       " 'DRD27': array([18.75, '?'], dtype=object),\n",
       " 'FDW19': array([12.35, '?'], dtype=object),\n",
       " 'NCJ31': array([19.2, '?'], dtype=object),\n",
       " 'FDS46': array([17.6, '?'], dtype=object),\n",
       " 'FDD17': array([7.5, '?'], dtype=object),\n",
       " 'FDD58': array([7.76, '?'], dtype=object),\n",
       " 'FDQ16': array([19.7, '?'], dtype=object),\n",
       " 'FDC02': array([21.35, '?'], dtype=object),\n",
       " 'NCM53': array([18.75, '?'], dtype=object),\n",
       " 'NCY42': array([6.38, '?'], dtype=object),\n",
       " 'FDH21': array([10.395, '?'], dtype=object),\n",
       " 'FDG60': array(['?', 20.35], dtype=object),\n",
       " 'FDX08': array([12.85, '?'], dtype=object),\n",
       " 'DRC25': array(['?', 5.73], dtype=object),\n",
       " 'FDE51': array([5.925, '?'], dtype=object),\n",
       " 'FDH28': array([15.85, '?'], dtype=object),\n",
       " 'NCH07': array([13.15, '?'], dtype=object),\n",
       " 'FDZ38': array([17.6, '?'], dtype=object),\n",
       " 'NCB30': array([14.6, '?'], dtype=object),\n",
       " 'FDE36': array([5.26, '?'], dtype=object),\n",
       " 'FDZ51': array([11.3, '?'], dtype=object),\n",
       " 'FDO27': array([6.175, '?'], dtype=object),\n",
       " 'FDX28': array(['?', 6.325], dtype=object),\n",
       " 'FDJ48': array([11.3, '?'], dtype=object),\n",
       " 'NCM19': array(['?', 12.65], dtype=object),\n",
       " 'NCF42': array([17.35, '?'], dtype=object),\n",
       " 'NCH54': array([13.5, '?'], dtype=object),\n",
       " 'FDQ46': array([7.51, '?'], dtype=object),\n",
       " 'FDG57': array([14.7, '?'], dtype=object),\n",
       " 'FDH40': array([11.6, '?'], dtype=object),\n",
       " 'FDY24': array([4.88, '?'], dtype=object),\n",
       " 'FDE45': array([12.1, '?'], dtype=object),\n",
       " 'FDB05': array([5.155, '?'], dtype=object),\n",
       " 'FDR51': array(['?', 9.035], dtype=object),\n",
       " 'FDD03': array([13.3, '?'], dtype=object),\n",
       " 'DRJ51': array([14.1, '?'], dtype=object),\n",
       " 'FDM45': array([8.655, '?'], dtype=object),\n",
       " 'NCG07': array([12.3, '?'], dtype=object),\n",
       " 'FDZ25': array(['?', 15.7], dtype=object),\n",
       " 'FDB38': array(['?', 19.5], dtype=object),\n",
       " 'FDX10': array(['?', 6.385], dtype=object),\n",
       " 'FDT57': array([15.2, '?'], dtype=object),\n",
       " 'DRD12': array([6.96, '?'], dtype=object),\n",
       " 'FDB56': array([8.75, '?'], dtype=object),\n",
       " 'FDW25': array([5.175, '?'], dtype=object),\n",
       " 'FDQ52': array([17.0, '?'], dtype=object),\n",
       " 'NCF31': array([9.13, '?'], dtype=object),\n",
       " 'FDR34': array([17.0, '?'], dtype=object),\n",
       " 'FDX20': array([7.365, '?'], dtype=object),\n",
       " 'FDR35': array([12.5, '?'], dtype=object),\n",
       " 'FDT10': array([16.7, '?'], dtype=object),\n",
       " 'DRH49': array(['?', 19.7], dtype=object),\n",
       " 'NCJ18': array([12.35, '?'], dtype=object),\n",
       " 'FDP57': array([17.5, '?'], dtype=object),\n",
       " 'FDR15': array([9.3, '?'], dtype=object),\n",
       " 'FDN21': array(['?', 18.6], dtype=object),\n",
       " 'FDV39': array([11.3, '?'], dtype=object),\n",
       " 'DRD13': array([15.0, '?'], dtype=object),\n",
       " 'DRH13': array([8.575, '?'], dtype=object),\n",
       " 'DRG48': array([5.78, '?'], dtype=object),\n",
       " 'FDW26': array(['?', 11.8], dtype=object),\n",
       " 'FDO34': array([17.7, '?'], dtype=object),\n",
       " 'FDD20': array(['?', 14.15], dtype=object),\n",
       " 'NCC31': array([8.02, '?'], dtype=object),\n",
       " 'FDC29': array([8.39, '?'], dtype=object),\n",
       " 'FDJ27': array([17.7, '?'], dtype=object),\n",
       " 'FDG17': array([6.865, '?'], dtype=object),\n",
       " 'FDF38': array([11.8, '?'], dtype=object),\n",
       " 'FDQ47': array([7.155, '?'], dtype=object),\n",
       " 'FDL08': array([10.8, '?'], dtype=object),\n",
       " 'FDU31': array([10.5, '?'], dtype=object),\n",
       " 'FDV48': array([9.195, '?'], dtype=object),\n",
       " 'FDJ07': array([7.26, '?'], dtype=object),\n",
       " 'NCI54': array([15.2, '?'], dtype=object),\n",
       " 'DRM23': array([16.6, '?'], dtype=object),\n",
       " 'FDS07': array([12.35, '?'], dtype=object),\n",
       " 'FDP07': array([18.2, '?'], dtype=object),\n",
       " 'FDJ36': array([14.5, '?'], dtype=object),\n",
       " 'FDP45': array([15.7, '?'], dtype=object),\n",
       " 'FDS01': array(['?', 11.6], dtype=object),\n",
       " 'FDT25': array([7.5, '?'], dtype=object),\n",
       " 'NCT17': array(['?', 10.8], dtype=object),\n",
       " 'FDZ57': array([10.0, '?'], dtype=object),\n",
       " 'FDM01': array([7.895, '?'], dtype=object),\n",
       " 'FDD38': array([16.75, '?'], dtype=object),\n",
       " 'FDQ14': array([9.27, '?'], dtype=object),\n",
       " 'FDG24': array([7.975, '?'], dtype=object),\n",
       " 'NCH18': array([9.3, '?'], dtype=object),\n",
       " 'FDB27': array([7.575, '?'], dtype=object),\n",
       " 'FDA34': array(['?', 11.5], dtype=object),\n",
       " 'FDW35': array(['?', 10.6], dtype=object),\n",
       " 'FDN24': array([14.1, '?'], dtype=object),\n",
       " 'FDZ13': array([7.84, '?'], dtype=object),\n",
       " 'FDS35': array(['?', 9.3], dtype=object),\n",
       " 'FDT04': array([17.25, '?'], dtype=object),\n",
       " 'FDU22': array(['?', 12.35], dtype=object),\n",
       " 'FDO45': array([13.15, '?'], dtype=object),\n",
       " 'FDZ14': array(['?', 7.71], dtype=object),\n",
       " 'FDH12': array([9.6, '?'], dtype=object),\n",
       " 'NCI55': array([18.6, '?'], dtype=object),\n",
       " 'NCE19': array([8.97, '?'], dtype=object),\n",
       " 'NCR50': array([20.2, '?'], dtype=object),\n",
       " 'FDU16': array([19.25, '?'], dtype=object),\n",
       " 'FDS28': array([8.18, '?'], dtype=object),\n",
       " 'FDB12': array([11.15, '?'], dtype=object),\n",
       " 'FDM57': array([11.65, '?'], dtype=object),\n",
       " 'FDZ37': array([8.1, '?'], dtype=object),\n",
       " 'FDR47': array([17.85, '?'], dtype=object),\n",
       " 'FDS14': array([7.285, '?'], dtype=object),\n",
       " 'FDN56': array([5.46, '?'], dtype=object),\n",
       " 'FDP11': array([15.85, '?'], dtype=object),\n",
       " 'FDO37': array([8.06, '?'], dtype=object),\n",
       " 'FDW49': array([19.5, '?'], dtype=object),\n",
       " 'FDW20': array([20.75, '?'], dtype=object),\n",
       " 'FDV25': array([5.905, '?'], dtype=object),\n",
       " 'FDK58': array([11.35, '?'], dtype=object),\n",
       " 'FDY03': array([17.6, '?'], dtype=object),\n",
       " 'NCL06': array([14.65, '?'], dtype=object),\n",
       " 'FDC48': array([9.195, '?'], dtype=object),\n",
       " 'NCJ42': array([19.75, '?'], dtype=object),\n",
       " 'FDA38': array([5.44, '?'], dtype=object),\n",
       " 'FDP48': array(['?', 7.52], dtype=object),\n",
       " 'FDY04': array([17.7, '?'], dtype=object),\n",
       " 'NCD30': array([19.7, '?'], dtype=object),\n",
       " 'FDZ31': array([15.35, '?'], dtype=object),\n",
       " 'FDX56': array([17.1, '?'], dtype=object),\n",
       " 'NCP30': array([20.5, '?'], dtype=object),\n",
       " 'FDQ36': array(['?', 7.855], dtype=object),\n",
       " 'FDD34': array([7.945, '?'], dtype=object),\n",
       " 'FDA25': array([16.5, '?'], dtype=object),\n",
       " 'DRL01': array([19.5, '?'], dtype=object),\n",
       " 'FDE57': array([9.6, '?'], dtype=object),\n",
       " 'FDC21': array(['?', 14.6], dtype=object),\n",
       " 'FDX37': array([16.2, '?'], dtype=object),\n",
       " 'NCA53': array([11.395, '?'], dtype=object),\n",
       " 'NCO05': array([7.27, '?'], dtype=object),\n",
       " 'FDH14': array([17.1, '?'], dtype=object),\n",
       " 'NCM43': array([14.5, '?'], dtype=object),\n",
       " 'FDH57': array([10.895, '?'], dtype=object),\n",
       " 'NCZ05': array([8.485, '?'], dtype=object),\n",
       " 'NCK42': array([7.475, '?'], dtype=object),\n",
       " 'FDN57': array([18.25, '?'], dtype=object),\n",
       " 'FDL10': array([8.395, '?'], dtype=object),\n",
       " 'FDD47': array([7.6, '?'], dtype=object),\n",
       " 'FDB10': array([10.0, '?'], dtype=object),\n",
       " 'FDH05': array([14.35, '?'], dtype=object),\n",
       " 'FDN09': array([14.15, '?'], dtype=object),\n",
       " 'FDA44': array([19.7, '?'], dtype=object),\n",
       " 'FDU23': array([12.15, '?'], dtype=object),\n",
       " 'FDY45': array(['?', 17.5], dtype=object),\n",
       " 'FDQ09': array([7.235, '?'], dtype=object),\n",
       " 'NCW30': array([5.21, '?'], dtype=object),\n",
       " 'NCP17': array([19.35, '?'], dtype=object),\n",
       " 'FDU57': array(['?', 8.27], dtype=object),\n",
       " 'NCR29': array([7.565, '?'], dtype=object),\n",
       " 'FDJ40': array(['?', 13.6], dtype=object),\n",
       " 'FDW45': array(['?', 18.0], dtype=object),\n",
       " 'FDU60': array([20.0, '?'], dtype=object),\n",
       " 'FDC47': array([15.0, '?'], dtype=object),\n",
       " 'FDO56': array([10.195, '?'], dtype=object),\n",
       " 'FDQ45': array([9.5, '?'], dtype=object),\n",
       " 'FDJ53': array([10.5, '?'], dtype=object),\n",
       " 'NCA54': array([16.5, '?'], dtype=object),\n",
       " 'FDC17': array([12.15, '?'], dtype=object),\n",
       " 'FDZ40': array(['?', 8.935], dtype=object),\n",
       " 'FDA37': array([7.81, '?'], dtype=object),\n",
       " 'NCV54': array(['?', 11.1], dtype=object),\n",
       " 'NCW18': array([15.1, '?'], dtype=object),\n",
       " 'FDK55': array(['?', 18.5], dtype=object),\n",
       " 'NCD19': array([8.93, '?'], dtype=object),\n",
       " 'FDD10': array(['?', 20.6], dtype=object),\n",
       " 'NCE54': array([20.7, '?'], dtype=object),\n",
       " 'FDN28': array([5.88, '?'], dtype=object),\n",
       " 'NCI06': array([11.3, '?'], dtype=object),\n",
       " 'NCK53': array([11.6, '?'], dtype=object),\n",
       " 'FDN01': array([8.895, '?'], dtype=object),\n",
       " 'DRH23': array([14.65, '?'], dtype=object),\n",
       " 'FDW57': array([8.31, '?'], dtype=object),\n",
       " 'FDN10': array([11.5, '?'], dtype=object),\n",
       " 'FDX51': array([9.5, '?'], dtype=object),\n",
       " 'FDV07': array([9.5, '?'], dtype=object),\n",
       " 'FDZ58': array([17.85, '?'], dtype=object),\n",
       " 'FDX22': array([6.785, '?'], dtype=object),\n",
       " 'FDC46': array([17.7, '?'], dtype=object),\n",
       " 'FDZ07': array(['?', 15.1], dtype=object),\n",
       " 'DRL37': array([15.5, '?'], dtype=object),\n",
       " 'FDO58': array([19.6, '?'], dtype=object),\n",
       " 'FDH60': array([19.7, '?'], dtype=object),\n",
       " 'FDR48': array([11.65, '?'], dtype=object),\n",
       " 'FDI53': array([8.895, '?'], dtype=object),\n",
       " 'FDX23': array([6.445, '?'], dtype=object),\n",
       " 'NCT54': array([8.695, '?'], dtype=object),\n",
       " 'FDX09': array([9.0, '?'], dtype=object),\n",
       " 'FDE24': array([14.85, '?'], dtype=object),\n",
       " 'FDH45': array([15.1, '?'], dtype=object),\n",
       " 'NCS17': array([18.6, '?'], dtype=object),\n",
       " 'FDU47': array([12.8, '?'], dtype=object),\n",
       " 'NCY06': array([15.25, '?'], dtype=object),\n",
       " 'NCX30': array(['?', 16.7], dtype=object),\n",
       " 'FDW15': array([15.35, '?'], dtype=object),\n",
       " 'FDI21': array([5.59, '?'], dtype=object),\n",
       " 'NCE06': array(['?', 5.825], dtype=object),\n",
       " 'DRK39': array([7.02, '?'], dtype=object),\n",
       " 'FDU46': array([10.3, '?'], dtype=object),\n",
       " 'NCP06': array(['?', 20.7], dtype=object),\n",
       " 'FDH52': array(['?', 9.42], dtype=object),\n",
       " 'FDV33': array([9.6, '?'], dtype=object),\n",
       " 'FDU38': array([10.8, '?'], dtype=object),\n",
       " 'NCV17': array([18.85, '?'], dtype=object),\n",
       " 'FDJ38': array([8.6, '?'], dtype=object),\n",
       " 'FDM56': array(['?', 16.7], dtype=object),\n",
       " 'FDS25': array([6.885, '?'], dtype=object),\n",
       " 'NCG54': array([12.1, '?'], dtype=object),\n",
       " 'FDI19': array([15.1, '?'], dtype=object),\n",
       " 'FDY13': array([12.1, '?'], dtype=object),\n",
       " 'DRE15': array([13.35, '?'], dtype=object),\n",
       " 'FDM60': array([10.8, '?'], dtype=object),\n",
       " 'FDD46': array(['?', 6.035], dtype=object),\n",
       " 'NCQ54': array([17.7, '?'], dtype=object),\n",
       " 'FDX21': array(['?', 7.05], dtype=object),\n",
       " 'NCP29': array([8.42, '?'], dtype=object),\n",
       " 'FDX26': array(['?', 17.7], dtype=object),\n",
       " 'FDR27': array([15.1, '?'], dtype=object),\n",
       " 'FDQ24': array(['?', 15.7], dtype=object),\n",
       " 'FDM14': array([13.8, '?'], dtype=object),\n",
       " 'DRG23': array([8.88, '?'], dtype=object),\n",
       " 'FDG50': array([7.405, '?'], dtype=object),\n",
       " 'FDA28': array([16.1, '?'], dtype=object),\n",
       " 'NCL30': array([18.1, '?'], dtype=object),\n",
       " 'FDH58': array([12.3, '?'], dtype=object),\n",
       " 'FDK32': array(['?', 16.25], dtype=object),\n",
       " 'FDO15': array([16.75, '?'], dtype=object),\n",
       " 'FDM21': array(['?', 20.2], dtype=object),\n",
       " 'FDV20': array(['?', 20.2], dtype=object),\n",
       " 'FDW56': array([7.68, '?'], dtype=object),\n",
       " 'FDS32': array([17.75, '?'], dtype=object),\n",
       " 'FDB26': array([14.0, '?'], dtype=object),\n",
       " 'NCE31': array([7.67, '?'], dtype=object),\n",
       " 'FDB50': array([13.0, '?'], dtype=object),\n",
       " 'FDP34': array([12.85, '?'], dtype=object),\n",
       " 'FDL22': array([16.85, '?'], dtype=object),\n",
       " 'DRK47': array([7.905, '?'], dtype=object),\n",
       " 'FDG56': array([13.3, '?'], dtype=object),\n",
       " 'FDF46': array([7.07, '?'], dtype=object),\n",
       " 'NCW54': array([7.5, '?'], dtype=object),\n",
       " 'NCN29': array([15.2, '?'], dtype=object),\n",
       " 'NCO30': array([19.5, '?'], dtype=object),\n",
       " 'NCV42': array([6.26, '?'], dtype=object),\n",
       " 'FDA20': array([6.78, '?'], dtype=object),\n",
       " 'FDT21': array([7.42, '?'], dtype=object),\n",
       " 'FDA58': array([9.395, '?'], dtype=object),\n",
       " 'FDF02': array([16.2, '?'], dtype=object),\n",
       " 'NCQ17': array([10.3, '?'], dtype=object),\n",
       " 'FDA22': array([7.435, '?'], dtype=object),\n",
       " 'NCK18': array([9.6, '?'], dtype=object),\n",
       " 'FDI58': array([7.64, '?'], dtype=object),\n",
       " 'FDB20': array([7.72, '?'], dtype=object),\n",
       " 'NCX54': array([9.195, '?'], dtype=object),\n",
       " 'FDU26': array([16.7, '?'], dtype=object),\n",
       " 'FDJ41': array([6.85, '?'], dtype=object),\n",
       " 'FDY44': array([14.15, '?'], dtype=object),\n",
       " 'FDY09': array([15.6, '?'], dtype=object),\n",
       " 'FDM22': array([14.0, '?'], dtype=object),\n",
       " 'DRC27': array([13.8, '?'], dtype=object),\n",
       " 'FDF59': array([12.5, '?'], dtype=object),\n",
       " 'DRG01': array([14.8, '?'], dtype=object),\n",
       " 'FDH56': array([9.8, '?'], dtype=object),\n",
       " 'DRN35': array([8.01, '?'], dtype=object),\n",
       " 'NCP02': array([7.105, '?'], dtype=object),\n",
       " 'DRE60': array(['?', 9.395], dtype=object),\n",
       " 'FDL02': array([20.0, '?'], dtype=object),\n",
       " 'NCU53': array([5.485, '?'], dtype=object),\n",
       " 'FDR02': array([16.7, '?'], dtype=object),\n",
       " 'DRO59': array([11.8, '?'], dtype=object),\n",
       " 'NCY54': array([8.43, '?'], dtype=object),\n",
       " 'FDH47': array([13.5, '?'], dtype=object),\n",
       " 'FDG46': array(['?', 8.63], dtype=object),\n",
       " 'NCP54': array([15.35, '?'], dtype=object),\n",
       " 'FDH26': array([19.25, '?'], dtype=object),\n",
       " 'FDH44': array([19.1, '?'], dtype=object),\n",
       " 'NCK54': array([12.15, '?'], dtype=object),\n",
       " 'NCR42': array([9.105, '?'], dtype=object),\n",
       " 'DRJ11': array([9.5, '?'], dtype=object),\n",
       " 'FDY07': array([11.8, '?'], dtype=object),\n",
       " 'FDH17': array([16.2, '?'], dtype=object),\n",
       " 'FDR04': array([7.075, '?'], dtype=object),\n",
       " 'FDE22': array(['?', 9.695], dtype=object),\n",
       " 'FDK40': array([7.035, '?'], dtype=object),\n",
       " 'NCD31': array([12.1, '?'], dtype=object),\n",
       " 'FDN13': array([18.6, '?'], dtype=object),\n",
       " 'FDS51': array([13.35, '?'], dtype=object),\n",
       " 'FDA08': array([11.85, '?'], dtype=object),\n",
       " 'FDN58': array(['?', 13.8], dtype=object),\n",
       " 'NCE07': array([8.18, '?'], dtype=object),\n",
       " 'FDT32': array([19.0, '?'], dtype=object),\n",
       " 'NCC43': array([7.39, '?'], dtype=object),\n",
       " 'FDV03': array([17.6, '?'], dtype=object),\n",
       " 'DRF25': array([9.0, '?'], dtype=object),\n",
       " 'FDP15': array([15.2, '?'], dtype=object),\n",
       " 'DRF27': array(['?', 8.93], dtype=object),\n",
       " 'FDG45': array([8.1, '?'], dtype=object),\n",
       " 'FDR39': array([20.35, '?'], dtype=object),\n",
       " 'FDF47': array([20.85, '?'], dtype=object),\n",
       " 'NCP41': array([16.6, '?'], dtype=object),\n",
       " 'FDY16': array([18.35, '?'], dtype=object),\n",
       " 'FDS55': array([7.02, '?'], dtype=object),\n",
       " 'NCX41': array([19.0, '?'], dtype=object),\n",
       " 'FDS26': array([20.35, '?'], dtype=object),\n",
       " 'NCY30': array([20.25, '?'], dtype=object),\n",
       " 'FDB34': array(['?', 15.25], dtype=object),\n",
       " 'FDF33': array([7.97, '?'], dtype=object),\n",
       " 'FDI34': array([10.65, '?'], dtype=object),\n",
       " 'FDI56': array([7.325, '?'], dtype=object),\n",
       " 'FDL14': array([8.115, '?'], dtype=object),\n",
       " 'NCB18': array([19.6, '?'], dtype=object),\n",
       " 'FDT47': array(['?', 5.26], dtype=object),\n",
       " 'FDM15': array([11.8, '?'], dtype=object),\n",
       " 'FDK21': array([7.905, '?'], dtype=object),\n",
       " 'FDH50': array([15.0, '?'], dtype=object),\n",
       " 'FDT31': array([19.75, '?'], dtype=object),\n",
       " 'FDW48': array([18.0, '?'], dtype=object),\n",
       " 'FDK14': array([6.98, '?'], dtype=object),\n",
       " 'FDN23': array([6.575, '?'], dtype=object),\n",
       " 'FDQ49': array(['?', 20.2], dtype=object),\n",
       " 'FDV10': array([7.645, '?'], dtype=object),\n",
       " 'FDP58': array([11.1, '?'], dtype=object),\n",
       " 'FDP56': array([8.185, '?'], dtype=object),\n",
       " 'DRG13': array([17.25, '?'], dtype=object),\n",
       " 'FDV51': array([16.35, '?'], dtype=object),\n",
       " 'NCE55': array([8.92, '?'], dtype=object),\n",
       " 'NCJ54': array(['?', 9.895], dtype=object),\n",
       " 'DRF51': array([15.75, '?'], dtype=object),\n",
       " 'FDI08': array([18.2, '?'], dtype=object),\n",
       " 'FDX60': array([14.35, '?'], dtype=object),\n",
       " 'NCQ38': array([16.35, '?'], dtype=object),\n",
       " 'FDN04': array([11.8, '?'], dtype=object),\n",
       " 'FDM13': array([6.425, '?'], dtype=object),\n",
       " 'FDS48': array([15.15, '?'], dtype=object),\n",
       " 'FDG08': array([13.15, '?'], dtype=object),\n",
       " 'NCQ05': array([11.395, '?'], dtype=object),\n",
       " 'FDL13': array(['?', 13.85], dtype=object),\n",
       " 'FDM58': array([16.85, '?'], dtype=object),\n",
       " 'FDP24': array([20.6, '?'], dtype=object),\n",
       " 'NCN18': array([8.895, '?'], dtype=object),\n",
       " 'DRH37': array([17.6, '?'], dtype=object),\n",
       " 'FDJ58': array([15.6, '?'], dtype=object),\n",
       " 'FDB36': array([5.465, '?'], dtype=object),\n",
       " 'DRL59': array([16.75, '?'], dtype=object),\n",
       " 'FDS40': array([15.35, '?'], dtype=object),\n",
       " 'FDE04': array([19.75, '?'], dtype=object),\n",
       " 'FDP49': array([9.0, '?'], dtype=object),\n",
       " 'NCL29': array([9.695, '?'], dtype=object),\n",
       " 'DRE25': array([15.35, '?'], dtype=object),\n",
       " 'NCO53': array([16.2, '?'], dtype=object),\n",
       " 'FDI26': array(['?', 5.94], dtype=object),\n",
       " 'FDT50': array([6.75, '?'], dtype=object),\n",
       " 'FDF17': array([5.19, '?'], dtype=object),\n",
       " 'FDY56': array([16.35, '?'], dtype=object),\n",
       " 'FDP46': array([15.35, '?'], dtype=object),\n",
       " 'DRI11': array(['?', 8.26], dtype=object),\n",
       " 'FDY15': array([18.25, '?'], dtype=object),\n",
       " 'NCM26': array([20.5, '?'], dtype=object),\n",
       " 'FDY51': array([12.5, '?'], dtype=object),\n",
       " 'FDP08': array([20.5, '?'], dtype=object),\n",
       " 'NCD18': array([16.0, '?'], dtype=object),\n",
       " 'FDF34': array([9.3, '?'], dtype=object),\n",
       " 'NCO55': array([12.8, '?'], dtype=object),\n",
       " 'FDA19': array([7.52, '?'], dtype=object),\n",
       " 'FDH33': array([12.85, '?'], dtype=object),\n",
       " 'NCP18': array([12.15, '?'], dtype=object),\n",
       " 'DRK23': array([8.395, '?'], dtype=object),\n",
       " 'FDQ23': array([6.55, '?'], dtype=object),\n",
       " 'DRF37': array([17.25, '?'], dtype=object),\n",
       " 'FDW36': array(['?', 11.15], dtype=object),\n",
       " 'FDZ52': array([19.2, '?'], dtype=object),\n",
       " 'FDS21': array([19.85, '?'], dtype=object),\n",
       " 'FDC51': array([10.895, '?'], dtype=object),\n",
       " 'FDS33': array([6.67, '?'], dtype=object),\n",
       " 'FDT19': array([7.59, '?'], dtype=object),\n",
       " 'FDW04': array([8.985, '?'], dtype=object),\n",
       " 'FDR14': array([11.65, '?'], dtype=object),\n",
       " 'DRA59': array([8.27, '?'], dtype=object),\n",
       " 'NCM07': array([9.395, '?'], dtype=object),\n",
       " 'FDI28': array([14.3, '?'], dtype=object),\n",
       " 'FDB29': array([16.7, '?'], dtype=object),\n",
       " 'NCC54': array([17.75, '?'], dtype=object),\n",
       " 'FDL28': array([10.0, '?'], dtype=object),\n",
       " 'FDQ07': array([15.1, '?'], dtype=object),\n",
       " 'DRC12': array([17.85, '?'], dtype=object),\n",
       " 'DRL60': array([8.52, '?'], dtype=object),\n",
       " 'DRJ25': array([14.6, '?'], dtype=object),\n",
       " 'FDX32': array([15.1, '?'], dtype=object),\n",
       " 'FDY27': array([6.38, '?'], dtype=object),\n",
       " 'FDH22': array([6.405, '?'], dtype=object),\n",
       " 'FDE59': array([12.15, '?'], dtype=object),\n",
       " 'FDY47': array(['?', 8.6], dtype=object),\n",
       " 'FDX44': array([9.3, '?'], dtype=object),\n",
       " 'NCR06': array([12.5, '?'], dtype=object),\n",
       " 'FDB45': array([20.85, '?'], dtype=object),\n",
       " 'FDR26': array([20.7, '?'], dtype=object),\n",
       " 'FDK43': array([9.8, '?'], dtype=object),\n",
       " 'NCI18': array([18.35, '?'], dtype=object),\n",
       " 'NCS38': array([8.6, '?'], dtype=object),\n",
       " 'NCC55': array([10.695, '?'], dtype=object),\n",
       " 'FDY48': array([14.0, '?'], dtype=object),\n",
       " 'FDY25': array(['?', 12.0], dtype=object),\n",
       " 'FDY08': array([9.395, '?'], dtype=object),\n",
       " 'DRI37': array([15.85, '?'], dtype=object),\n",
       " 'FDK10': array(['?', 5.785], dtype=object),\n",
       " 'FDR45': array([10.8, '?'], dtype=object),\n",
       " 'FDW60': array([5.44, '?'], dtype=object),\n",
       " 'FDF20': array([12.85, '?'], dtype=object),\n",
       " 'FDJ32': array(['?', 10.695], dtype=object),\n",
       " 'DRG03': array([14.5, '?'], dtype=object),\n",
       " 'FDJ26': array([15.3, '?'], dtype=object),\n",
       " 'NCV29': array([11.8, '?'], dtype=object),\n",
       " 'FDH38': array([6.425, '?'], dtype=object),\n",
       " 'FDQ20': array([8.325, '?'], dtype=object),\n",
       " 'DRZ24': array([7.535, '?'], dtype=object),\n",
       " 'FDH24': array([20.7, '?'], dtype=object),\n",
       " 'NCT30': array([9.1, '?'], dtype=object),\n",
       " 'FDR36': array([6.715, '?'], dtype=object),\n",
       " 'FDP10': array(['?', 19.0], dtype=object),\n",
       " 'NCQ41': array([14.8, '?'], dtype=object),\n",
       " 'FDZ48': array([17.75, '?'], dtype=object),\n",
       " 'FDD05': array([19.35, '?'], dtype=object),\n",
       " 'FDS10': array(['?', 19.2], dtype=object),\n",
       " 'FDF09': array(['?', 6.215], dtype=object),\n",
       " 'FDQ03': array(['?', 15.0], dtype=object),\n",
       " 'FDC23': array([18.0, '?'], dtype=object),\n",
       " 'FDG21': array([17.35, '?'], dtype=object),\n",
       " 'DRI49': array([14.15, '?'], dtype=object),\n",
       " 'FDZ19': array([6.425, '?'], dtype=object),\n",
       " 'NCN26': array([10.85, '?'], dtype=object),\n",
       " 'NCU42': array([9.0, '?'], dtype=object),\n",
       " 'NCD42': array([16.5, '?'], dtype=object),\n",
       " 'FDW21': array(['?', 5.34], dtype=object),\n",
       " 'FDF57': array([14.5, '?'], dtype=object),\n",
       " 'DRP35': array(['?', 18.85], dtype=object),\n",
       " 'FDN48': array(['?', 13.35], dtype=object),\n",
       " 'FDU04': array(['?', 7.93], dtype=object),\n",
       " 'NCP53': array([14.75, '?'], dtype=object),\n",
       " 'FDT33': array([7.81, '?'], dtype=object),\n",
       " 'FDG44': array([6.13, '?'], dtype=object),\n",
       " 'FDF32': array([16.35, '?'], dtype=object),\n",
       " 'FDB03': array([17.75, '?'], dtype=object),\n",
       " 'FDE40': array(['?', 15.6], dtype=object),\n",
       " 'FDH20': array([16.1, '?'], dtype=object),\n",
       " 'FDS47': array([16.75, '?'], dtype=object),\n",
       " 'NCY05': array([13.5, '?'], dtype=object),\n",
       " 'FDB37': array([20.25, '?'], dtype=object),\n",
       " 'NCZ06': array(['?', 19.6], dtype=object),\n",
       " 'FDM36': array(['?', 11.65], dtype=object),\n",
       " 'DRD25': array([6.135, '?'], dtype=object),\n",
       " 'FDB23': array([19.2, '?'], dtype=object),\n",
       " 'FDS03': array(['?', 7.825], dtype=object),\n",
       " 'FDA51': array([8.05, '?'], dtype=object),\n",
       " 'FDU12': array([15.5, '?'], dtype=object),\n",
       " 'FDZ47': array(['?', 20.7], dtype=object),\n",
       " 'FDM27': array(['?', 12.35], dtype=object),\n",
       " 'FDE29': array([8.905, '?'], dtype=object),\n",
       " 'FDX33': array([9.195, '?'], dtype=object),\n",
       " 'FDQ39': array([14.8, '?'], dtype=object),\n",
       " 'NCD54': array([21.1, '?'], dtype=object),\n",
       " 'FDS36': array([8.38, '?'], dtype=object),\n",
       " 'NCS54': array([13.6, '?'], dtype=object),\n",
       " 'NCI31': array([20.0, '?'], dtype=object),\n",
       " 'FDA02': array([14.0, '?'], dtype=object),\n",
       " 'NCS06': array([7.935, '?'], dtype=object),\n",
       " 'FDO32': array([6.36, '?'], dtype=object),\n",
       " 'DRI03': array([6.03, '?'], dtype=object),\n",
       " 'FDL36': array([15.1, '?'], dtype=object),\n",
       " 'FDA03': array([18.5, '?'], dtype=object),\n",
       " 'FDJ28': array([12.3, '?'], dtype=object),\n",
       " 'DRF60': array([10.8, '?'], dtype=object),\n",
       " 'FDK02': array([12.5, '?'], dtype=object),\n",
       " 'FDV12': array([16.7, '?'], dtype=object),\n",
       " 'FDB35': array([12.3, '?'], dtype=object),\n",
       " 'FDU28': array([19.2, '?'], dtype=object),\n",
       " 'FDK28': array([5.695, '?'], dtype=object),\n",
       " 'FDO21': array([11.6, '?'], dtype=object),\n",
       " 'FDV55': array([17.75, '?'], dtype=object),\n",
       " 'FDU13': array([8.355, '?'], dtype=object),\n",
       " 'FDP04': array([15.35, '?'], dtype=object),\n",
       " 'FDB02': array([9.695, '?'], dtype=object),\n",
       " 'FDI15': array([13.8, '?'], dtype=object),\n",
       " 'FDP27': array([8.155, '?'], dtype=object),\n",
       " 'FDL51': array([20.7, '?'], dtype=object),\n",
       " 'FDB32': array([20.6, '?'], dtype=object),\n",
       " 'FDC53': array([8.68, '?'], dtype=object),\n",
       " 'FDS19': array([13.8, '?'], dtype=object),\n",
       " 'DRJ35': array([10.1, '?'], dtype=object),\n",
       " 'FDQ51': array([16.0, '?'], dtype=object),\n",
       " 'FDJ44': array([12.3, '?'], dtype=object),\n",
       " 'FDG10': array([6.63, '?'], dtype=object),\n",
       " 'FDS08': array([5.735, '?'], dtype=object),\n",
       " 'FDD50': array([18.85, '?'], dtype=object),\n",
       " 'FDN02': array([16.5, '?'], dtype=object),\n",
       " 'FDR08': array([18.7, '?'], dtype=object),\n",
       " 'FDW12': array(['?', 8.315], dtype=object),\n",
       " 'FDM51': array([11.8, '?'], dtype=object),\n",
       " 'NCW53': array(['?', 18.35], dtype=object),\n",
       " 'NCQ53': array([17.6, '?'], dtype=object),\n",
       " 'FDJ04': array([18.0, '?'], dtype=object),\n",
       " 'FDJ08': array(['?', 11.1], dtype=object),\n",
       " 'FDC58': array([10.195, '?'], dtype=object),\n",
       " 'FDI40': array([11.5, '?'], dtype=object),\n",
       " 'NCS42': array([8.6, '?'], dtype=object),\n",
       " 'FDA09': array([13.35, '?'], dtype=object),\n",
       " 'FDW31': array([11.35, '?'], dtype=object),\n",
       " 'NCS30': array([5.945, '?'], dtype=object),\n",
       " 'FDX52': array([11.5, '?'], dtype=object),\n",
       " 'FDO40': array([17.1, '?'], dtype=object),\n",
       " 'FDE33': array([19.35, '?'], dtype=object),\n",
       " 'FDL25': array([6.92, '?'], dtype=object),\n",
       " 'FDJ52': array([7.145, '?'], dtype=object),\n",
       " 'FDL46': array(['?', 20.35], dtype=object),\n",
       " 'FDX47': array([6.55, '?'], dtype=object),\n",
       " 'FDC40': array([16.0, '?'], dtype=object),\n",
       " 'NCF06': array([6.235, '?'], dtype=object),\n",
       " 'FDV44': array([8.365, '?'], dtype=object),\n",
       " 'NCQ29': array([12.0, '?'], dtype=object),\n",
       " 'FDL04': array([19.0, '?'], dtype=object),\n",
       " 'NCY17': array([18.2, '?'], dtype=object),\n",
       " 'NCL31': array([7.39, '?'], dtype=object),\n",
       " 'NCZ41': array([19.85, '?'], dtype=object),\n",
       " 'FDM33': array([15.6, '?'], dtype=object),\n",
       " 'DRA12': array([11.6, '?'], dtype=object),\n",
       " 'FDO49': array(['?', 10.6], dtype=object),\n",
       " 'DRE13': array([6.28, '?'], dtype=object),\n",
       " 'FDV58': array([20.85, '?'], dtype=object),\n",
       " 'NCZ54': array([14.65, '?'], dtype=object),\n",
       " 'FDR31': array(['?', 6.46], dtype=object),\n",
       " 'FDA33': array([6.48, '?'], dtype=object),\n",
       " 'FDY59': array([8.195, '?'], dtype=object),\n",
       " 'FDI46': array([9.5, '?'], dtype=object),\n",
       " 'FDK03': array([12.6, '?'], dtype=object),\n",
       " 'FDC32': array([18.35, '?'], dtype=object),\n",
       " 'FDD23': array([9.5, '?'], dtype=object),\n",
       " 'FDQ28': array([14.0, '?'], dtype=object),\n",
       " 'FDI24': array(['?', 10.3], dtype=object),\n",
       " 'FDI07': array([12.35, '?'], dtype=object),\n",
       " 'FDS24': array([20.85, '?'], dtype=object),\n",
       " 'NCJ05': array(['?', 18.7], dtype=object),\n",
       " 'FDO28': array([5.765, '?'], dtype=object),\n",
       " 'FDR11': array([10.5, '?'], dtype=object),\n",
       " 'FDT35': array([19.85, '?'], dtype=object),\n",
       " 'FDW14': array([8.3, '?'], dtype=object),\n",
       " 'NCE43': array([12.5, '?'], dtype=object),\n",
       " 'FDX15': array([17.2, '?'], dtype=object),\n",
       " 'FDJ10': array(['?', 5.095], dtype=object),\n",
       " 'FDV52': array([20.7, '?'], dtype=object),\n",
       " 'FDC37': array(['?', 15.5], dtype=object),\n",
       " 'FDM34': array([19.0, '?'], dtype=object),\n",
       " 'FDV23': array([11.0, '?'], dtype=object),\n",
       " 'FDG16': array([15.25, '?'], dtype=object),\n",
       " 'FDB52': array([17.75, '?'], dtype=object),\n",
       " 'NCX42': array(['?', 6.36], dtype=object),\n",
       " 'NCM17': array(['?', 7.93], dtype=object),\n",
       " 'NCD55': array(['?', 14.0], dtype=object),\n",
       " 'FDU56': array(['?', 16.85], dtype=object),\n",
       " 'FDP51': array([13.85, '?'], dtype=object),\n",
       " 'FDV13': array(['?', 17.35], dtype=object),\n",
       " 'DRF13': array([12.1, '?'], dtype=object),\n",
       " 'NCR53': array(['?', 12.15], dtype=object),\n",
       " 'FDT03': array([21.25, '?'], dtype=object),\n",
       " 'FDY02': array([8.945, '?'], dtype=object),\n",
       " 'FDS22': array([16.85, '?'], dtype=object),\n",
       " 'FDA14': array(['?', 16.1], dtype=object),\n",
       " 'FDU03': array([18.7, '?'], dtype=object),\n",
       " 'FDH08': array([7.51, '?'], dtype=object),\n",
       " 'FDF56': array([16.7, '?'], dtype=object),\n",
       " 'FDU24': array([6.78, '?'], dtype=object),\n",
       " 'FDO50': array([16.25, '?'], dtype=object),\n",
       " 'FDA36': array([5.985, '?'], dtype=object),\n",
       " 'NCN42': array([20.25, '?'], dtype=object),\n",
       " 'FDI32': array([17.7, '?'], dtype=object),\n",
       " 'FDT09': array([15.15, '?'], dtype=object),\n",
       " 'FDV15': array([10.3, '?'], dtype=object),\n",
       " 'FDO20': array([12.85, '?'], dtype=object),\n",
       " 'FDR60': array([14.3, '?'], dtype=object),\n",
       " 'FDJ20': array([20.7, '?'], dtype=object),\n",
       " 'FDN03': array([9.8, '?'], dtype=object),\n",
       " 'FDD57': array([18.1, '?'], dtype=object),\n",
       " 'NCM05': array(['?', 6.825], dtype=object),\n",
       " 'FDT55': array(['?', 13.6], dtype=object),\n",
       " 'FDA39': array([6.32, '?'], dtype=object),\n",
       " 'FDR33': array([7.31, '?'], dtype=object),\n",
       " 'FDN51': array([17.85, '?'], dtype=object),\n",
       " 'FDC08': array([19.0, '?'], dtype=object),\n",
       " 'FDK08': array(['?', 9.195], dtype=object),\n",
       " 'DRL49': array([13.15, '?'], dtype=object),\n",
       " 'NCN07': array([18.5, '?'], dtype=object),\n",
       " 'FDW58': array([20.75, '?'], dtype=object),\n",
       " 'FDC34': array([16.0, '?'], dtype=object),\n",
       " 'FDQ37': array([20.75, '?'], dtype=object),\n",
       " 'NCU05': array([11.8, '?'], dtype=object),\n",
       " 'DRI13': array([15.35, '?'], dtype=object),\n",
       " 'FDY26': array([20.6, '?'], dtype=object),\n",
       " 'NCX05': array(['?', 15.2], dtype=object),\n",
       " 'FDD48': array([10.395, '?'], dtype=object),\n",
       " 'DRF01': array([5.655, '?'], dtype=object),\n",
       " 'FDZ04': array([9.31, '?'], dtype=object),\n",
       " 'NCM30': array([19.1, '?'], dtype=object),\n",
       " 'DRJ47': array(['?', 18.25], dtype=object),\n",
       " 'FDF52': array([9.3, '?'], dtype=object),\n",
       " 'FDO48': array([15.0, '?'], dtype=object),\n",
       " 'FDL20': array([17.1, '?'], dtype=object),\n",
       " 'FDG29': array([17.6, '?'], dtype=object),\n",
       " 'FDX57': array([17.25, '?'], dtype=object),\n",
       " 'FDE56': array([17.25, '?'], dtype=object),\n",
       " 'FDE23': array([17.6, '?'], dtype=object),\n",
       " 'NCO41': array(['?', 12.5], dtype=object),\n",
       " 'FDA01': array([15.0, '?'], dtype=object),\n",
       " 'FDA45': array([21.25, '?'], dtype=object),\n",
       " 'FDV08': array([7.35, '?'], dtype=object),\n",
       " 'FDD41': array([6.765, '?'], dtype=object),\n",
       " 'NCC07': array([19.6, '?'], dtype=object),\n",
       " 'FDW34': array(['?', 9.6], dtype=object),\n",
       " 'FDN20': array([19.35, '?'], dtype=object),\n",
       " 'FDK46': array([9.6, '?'], dtype=object),\n",
       " 'FDR43': array(['?', 18.2], dtype=object),\n",
       " 'FDE28': array(['?', 9.5], dtype=object),\n",
       " 'FDG09': array([20.6, '?'], dtype=object),\n",
       " 'FDJ21': array([16.7, '?'], dtype=object),\n",
       " 'FDV59': array([13.35, '?'], dtype=object),\n",
       " 'FDS12': array([9.1, '?'], dtype=object),\n",
       " 'FDH02': array([7.27, '?'], dtype=object),\n",
       " 'NCO42': array(['?', 21.25], dtype=object),\n",
       " 'FDY40': array(['?', 15.5], dtype=object),\n",
       " 'DRM59': array(['?', 5.88], dtype=object),\n",
       " 'FDH19': array([19.35, '?'], dtype=object),\n",
       " 'FDS16': array([15.15, '?'], dtype=object),\n",
       " 'FDO23': array([17.85, '?'], dtype=object),\n",
       " 'NCC30': array([16.6, '?'], dtype=object),\n",
       " 'FDN08': array([7.72, '?'], dtype=object),\n",
       " 'FDD45': array([8.615, '?'], dtype=object),\n",
       " 'NCN30': array([16.35, '?'], dtype=object),\n",
       " 'FDB21': array([7.475, '?'], dtype=object),\n",
       " 'FDL12': array([15.85, '?'], dtype=object),\n",
       " 'FDS11': array([7.05, '?'], dtype=object),\n",
       " 'NCL07': array([13.85, '?'], dtype=object),\n",
       " 'DRK12': array(['?', 9.5], dtype=object),\n",
       " 'FDI45': array([13.1, '?'], dtype=object),\n",
       " 'DRM48': array([15.2, '?'], dtype=object),\n",
       " 'FDA47': array([10.5, '?'], dtype=object),\n",
       " 'NCF19': array([13.0, '?'], dtype=object),\n",
       " 'NCP43': array([17.75, '?'], dtype=object),\n",
       " 'FDZ39': array([19.7, '?'], dtype=object),\n",
       " 'FDK56': array([9.695, '?'], dtype=object),\n",
       " 'FDI33': array([16.5, '?'], dtype=object),\n",
       " 'DRB25': array([12.3, '?'], dtype=object),\n",
       " 'FDC39': array([7.405, '?'], dtype=object),\n",
       " 'FDH09': array([12.6, '?'], dtype=object),\n",
       " 'DRN59': array([15.0, '?'], dtype=object),\n",
       " 'FDP22': array(['?', 14.65], dtype=object),\n",
       " 'FDD35': array([12.15, '?'], dtype=object),\n",
       " 'FDM02': array([12.5, '?'], dtype=object),\n",
       " 'FDD02': array([16.6, '?'], dtype=object),\n",
       " 'FDW11': array([12.6, '?'], dtype=object),\n",
       " 'FDU48': array([18.85, '?'], dtype=object),\n",
       " 'FDF04': array([17.5, '?'], dtype=object),\n",
       " 'NCM31': array([6.095, '?'], dtype=object),\n",
       " 'FDR20': array([20.0, '?'], dtype=object),\n",
       " 'FDQ01': array([19.7, '?'], dtype=object),\n",
       " 'FDP21': array(['?', 7.42], dtype=object),\n",
       " 'FDB59': array([18.25, '?'], dtype=object),\n",
       " 'FDP40': array([4.555, '?'], dtype=object),\n",
       " 'DRY23': array(['?', 9.395], dtype=object),\n",
       " 'FDD51': array([11.15, '?'], dtype=object),\n",
       " 'DRM47': array(['?', 9.3], dtype=object),\n",
       " 'FDL39': array([16.1, '?'], dtype=object),\n",
       " 'FDZ43': array(['?', 11.0], dtype=object),\n",
       " 'FDZ60': array([20.5, '?'], dtype=object),\n",
       " 'FDQ26': array([13.5, '?'], dtype=object),\n",
       " 'FDZ21': array([17.6, '?'], dtype=object),\n",
       " 'FDC04': array(['?', 15.6], dtype=object),\n",
       " 'FDW27': array(['?', 5.86], dtype=object),\n",
       " 'FDU45': array(['?', 15.6], dtype=object),\n",
       " 'FDQ21': array([21.25, '?'], dtype=object),\n",
       " 'FDP31': array([21.1, '?'], dtype=object),\n",
       " 'FDA07': array([7.55, '?'], dtype=object),\n",
       " 'FDQ11': array([5.695, '?'], dtype=object),\n",
       " 'NCJ43': array([6.635, '?'], dtype=object),\n",
       " 'FDL27': array([6.17, '?'], dtype=object),\n",
       " 'FDZ09': array([17.6, '?'], dtype=object),\n",
       " 'FDL16': array(['?', 12.85], dtype=object),\n",
       " 'FDZ26': array([11.6, '?'], dtype=object),\n",
       " 'FDX40': array([12.85, '?'], dtype=object),\n",
       " 'FDO36': array(['?', 19.7], dtype=object),\n",
       " 'NCA17': array([20.6, '?'], dtype=object),\n",
       " 'DRC36': array(['?', 13.0], dtype=object),\n",
       " 'NCJ29': array([10.6, '?'], dtype=object),\n",
       " 'FDG28': array([9.285, '?'], dtype=object),\n",
       " 'FDL26': array([18.0, '?'], dtype=object),\n",
       " 'FDT24': array([12.35, '?'], dtype=object),\n",
       " 'FDE26': array([9.3, '?'], dtype=object),\n",
       " 'FDY20': array([12.5, '?'], dtype=object),\n",
       " 'NCZ30': array([6.59, '?'], dtype=object),\n",
       " 'NCG55': array([16.25, '?'], dtype=object),\n",
       " 'FDM24': array([6.135, '?'], dtype=object),\n",
       " 'FDY34': array([10.5, '?'], dtype=object),\n",
       " 'FDU49': array([19.5, '?'], dtype=object),\n",
       " 'FDE53': array(['?', 10.895], dtype=object),\n",
       " 'FDU43': array(['?', 19.35], dtype=object),\n",
       " 'FDB17': array([13.15, '?'], dtype=object),\n",
       " 'FDV36': array([18.7, '?'], dtype=object),\n",
       " 'FDY60': array([10.5, '?'], dtype=object),\n",
       " 'FDE17': array([20.1, '?'], dtype=object),\n",
       " 'FDI02': array([15.7, '?'], dtype=object),\n",
       " 'FDV32': array([7.785, '?'], dtype=object),\n",
       " 'FDA35': array([14.85, '?'], dtype=object),\n",
       " 'FDR23': array([15.85, '?'], dtype=object),\n",
       " 'FDT58': array([9.0, '?'], dtype=object),\n",
       " 'FDX35': array([5.035, '?'], dtype=object),\n",
       " 'FDT60': array([12.0, '?'], dtype=object),\n",
       " 'NCZ18': array([7.825, '?'], dtype=object),\n",
       " 'FDY11': array([6.71, '?'], dtype=object),\n",
       " 'NCF30': array([17.0, '?'], dtype=object),\n",
       " 'FDY36': array(['?', 12.3], dtype=object),\n",
       " 'DRP47': array([15.75, '?'], dtype=object),\n",
       " 'FDQ40': array([11.1, '?'], dtype=object),\n",
       " 'FDQ25': array(['?', 8.63], dtype=object),\n",
       " 'FDW40': array([14.0, '?'], dtype=object),\n",
       " 'FDD40': array([20.25, '?'], dtype=object),\n",
       " 'FDB22': array([8.02, '?'], dtype=object),\n",
       " 'FDX25': array(['?', 16.7], dtype=object),\n",
       " 'FDN33': array([6.305, '?'], dtype=object),\n",
       " 'FDV50': array([14.3, '?'], dtype=object),\n",
       " 'FDC10': array(['?', 9.8], dtype=object),\n",
       " 'FDM25': array(['?', 10.695], dtype=object),\n",
       " 'FDQ34': array([10.85, '?'], dtype=object),\n",
       " 'FDR46': array([16.85, '?'], dtype=object),\n",
       " 'NCY29': array([13.65, '?'], dtype=object),\n",
       " 'FDR16': array([5.845, '?'], dtype=object),\n",
       " 'FDK22': array([9.8, '?'], dtype=object),\n",
       " 'DRF36': array([16.1, '?'], dtype=object),\n",
       " 'FDJ09': array([15.0, '?'], dtype=object),\n",
       " 'FDY58': array([11.65, '?'], dtype=object),\n",
       " 'FDX13': array([7.725, '?'], dtype=object),\n",
       " 'FDK04': array([7.36, '?'], dtype=object),\n",
       " 'FDS13': array([6.465, '?'], dtype=object),\n",
       " 'FDE35': array([7.06, '?'], dtype=object),\n",
       " 'DRF23': array([4.61, '?'], dtype=object),\n",
       " 'FDE38': array(['?', 6.52], dtype=object),\n",
       " 'FDB04': array([11.35, '?'], dtype=object),\n",
       " 'NCV05': array([10.1, '?'], dtype=object),\n",
       " 'FDS02': array(['?', 10.195], dtype=object),\n",
       " 'FDM20': array([10.0, '?'], dtype=object),\n",
       " 'FDZ27': array([7.935, '?'], dtype=object),\n",
       " 'FDU15': array([13.65, '?'], dtype=object),\n",
       " 'FDR13': array([9.895, '?'], dtype=object),\n",
       " 'FDA15': array([9.3, '?'], dtype=object),\n",
       " 'FDA23': array([9.8, '?'], dtype=object),\n",
       " 'FDT15': array([12.15, '?'], dtype=object),\n",
       " 'FDN40': array([5.88, '?'], dtype=object),\n",
       " 'FDB39': array([11.6, '?'], dtype=object),\n",
       " 'NCV18': array([6.775, '?'], dtype=object),\n",
       " 'FDL24': array(['?', 10.3], dtype=object),\n",
       " 'FDV21': array(['?', 11.5], dtype=object),\n",
       " 'FDS44': array([12.65, '?'], dtype=object),\n",
       " 'FDY21': array([15.1, '?'], dtype=object),\n",
       " 'FDW10': array([21.2, '?'], dtype=object),\n",
       " 'FDQ19': array([7.35, '?'], dtype=object),\n",
       " 'NCJ17': array([7.68, '?'], dtype=object),\n",
       " 'FDS23': array([4.635, '?'], dtype=object),\n",
       " 'FDR25': array([17.0, '?'], dtype=object),\n",
       " 'FDM32': array([20.5, '?'], dtype=object),\n",
       " 'NCO54': array(['?', 19.5], dtype=object),\n",
       " 'FDE20': array([11.35, '?'], dtype=object),\n",
       " 'FDO46': array([9.6, '?'], dtype=object),\n",
       " 'NCF54': array([18.0, '?'], dtype=object),\n",
       " 'FDA48': array([12.1, '?'], dtype=object),\n",
       " 'FDL45': array([15.6, '?'], dtype=object),\n",
       " 'DRH51': array([17.6, '?'], dtype=object),\n",
       " 'FDM03': array([12.65, '?'], dtype=object),\n",
       " 'FDT14': array([10.695, '?'], dtype=object),\n",
       " 'DRC49': array(['?', 8.67], dtype=object),\n",
       " 'FDO60': array([20.0, '?'], dtype=object),\n",
       " 'NCU29': array([7.685, '?'], dtype=object),\n",
       " 'FDK48': array([7.445, '?'], dtype=object),\n",
       " 'FDN60': array(['?', 15.1], dtype=object),\n",
       " 'NCB07': array([19.2, '?'], dtype=object),\n",
       " 'FDW38': array(['?', 5.325], dtype=object),\n",
       " 'NCG42': array([19.2, '?'], dtype=object),\n",
       " 'DRI23': array(['?', 18.85], dtype=object),\n",
       " 'NCZ29': array([15.0, '?'], dtype=object),\n",
       " 'FDL48': array([19.35, '?'], dtype=object),\n",
       " 'NCO18': array([13.15, '?'], dtype=object),\n",
       " 'FDS58': array([9.285, '?'], dtype=object),\n",
       " 'FDP19': array([11.5, '?'], dtype=object),\n",
       " 'FDU14': array([17.75, '?'], dtype=object),\n",
       " 'FDB46': array([10.5, '?'], dtype=object),\n",
       " 'FDU55': array([16.2, '?'], dtype=object),\n",
       " 'DRH03': array(['?', 17.25], dtype=object),\n",
       " 'FDB33': array([17.75, '?'], dtype=object),\n",
       " 'FDJ33': array([8.895, '?'], dtype=object),\n",
       " 'NCL53': array([7.5, '?'], dtype=object),\n",
       " 'DRK59': array([8.895, '?'], dtype=object),\n",
       " 'FDP12': array([9.8, '?'], dtype=object),\n",
       " 'NCO06': array([19.25, '?'], dtype=object),\n",
       " 'NCR41': array([17.85, '?'], dtype=object),\n",
       " 'NCM06': array([7.475, '?'], dtype=object),\n",
       " 'FDA26': array([7.855, '?'], dtype=object),\n",
       " 'FDF50': array([4.905, '?'], dtype=object),\n",
       " 'FDZ03': array([13.65, '?'], dtype=object),\n",
       " 'FDZ35': array([9.6, '?'], dtype=object),\n",
       " 'FDS59': array([14.8, '?'], dtype=object),\n",
       " 'FDO19': array(['?', 17.7], dtype=object),\n",
       " 'NCB31': array([6.235, '?'], dtype=object),\n",
       " 'NCM55': array([15.6, '?'], dtype=object),\n",
       " 'FDT40': array([5.985, '?'], dtype=object),\n",
       " 'FDX14': array(['?', 13.1], dtype=object),\n",
       " 'FDQ32': array([17.85, '?'], dtype=object),\n",
       " 'FDR19': array([13.5, '?'], dtype=object),\n",
       " 'FDX12': array([18.2, '?'], dtype=object),\n",
       " 'FDO16': array([5.48, '?'], dtype=object),\n",
       " 'FDX02': array([16.0, '?'], dtype=object),\n",
       " 'FDV34': array([10.695, '?'], dtype=object),\n",
       " 'FDK57': array(['?', 10.195], dtype=object),\n",
       " 'FDO31': array([6.76, '?'], dtype=object),\n",
       " 'NCR18': array([15.85, '?'], dtype=object),\n",
       " 'FDR49': array([8.71, '?'], dtype=object),\n",
       " 'FDW22': array([9.695, '?'], dtype=object),\n",
       " 'FDN31': array([11.5, '?'], dtype=object),\n",
       " 'FDZ56': array([16.25, '?'], dtype=object),\n",
       " 'FDQ60': array(['?', 6.195], dtype=object),\n",
       " 'FDQ33': array([13.35, '?'], dtype=object),\n",
       " 'FDF16': array([7.3, '?'], dtype=object),\n",
       " 'FDI27': array([8.71, '?'], dtype=object),\n",
       " 'NCN54': array([20.35, '?'], dtype=object),\n",
       " 'DRG39': array([14.15, '?'], dtype=object),\n",
       " 'FDW37': array(['?', 19.2], dtype=object),\n",
       " 'FDV01': array(['?', 19.2], dtype=object),\n",
       " 'FDV31': array([9.8, '?'], dtype=object),\n",
       " 'NCQ42': array([20.35, '?'], dtype=object),\n",
       " 'FDW01': array(['?', 14.5], dtype=object),\n",
       " 'FDH46': array([6.935, '?'], dtype=object),\n",
       " 'FDB58': array([10.5, '?'], dtype=object),\n",
       " 'FDA32': array([14.0, '?'], dtype=object),\n",
       " 'FDX59': array(['?', 10.195], dtype=object),\n",
       " 'FDV38': array([19.25, '?'], dtype=object),\n",
       " 'FDJ45': array(['?', 17.75], dtype=object),\n",
       " 'FDN22': array([18.85, '?'], dtype=object),\n",
       " 'NCQ06': array(['?', 13.0], dtype=object),\n",
       " 'NCL41': array([12.35, '?'], dtype=object),\n",
       " 'FDC03': array([8.575, '?'], dtype=object),\n",
       " 'FDI41': array(['?', 18.5], dtype=object),\n",
       " 'NCR30': array([20.6, '?'], dtype=object),\n",
       " 'DRD24': array([13.85, '?'], dtype=object),\n",
       " 'FDC15': array([18.1, '?'], dtype=object),\n",
       " 'FDY32': array([7.605, '?'], dtype=object),\n",
       " 'FDU11': array([4.785, '?'], dtype=object),\n",
       " 'FDD26': array([8.71, '?'], dtype=object),\n",
       " 'FDA40': array([16.0, '?'], dtype=object),\n",
       " 'FDL43': array([10.1, '?'], dtype=object),\n",
       " 'FDF26': array([6.825, '?'], dtype=object),\n",
       " 'FDL03': array([19.25, '?'], dtype=object),\n",
       " 'FDZ33': array([10.195, '?'], dtype=object),\n",
       " 'FDP59': array([20.85, '?'], dtype=object),\n",
       " 'FDZ23': array([17.75, '?'], dtype=object),\n",
       " 'FDW47': array([15.0, '?'], dtype=object),\n",
       " 'FDI57': array([19.85, '?'], dtype=object),\n",
       " 'NCO43': array([5.5, '?'], dtype=object),\n",
       " 'FDE16': array([8.895, '?'], dtype=object),\n",
       " 'FDO10': array([13.65, '?'], dtype=object),\n",
       " 'FDG20': array([15.5, '?'], dtype=object),\n",
       " 'NCU18': array([15.1, '?'], dtype=object),\n",
       " 'FDT36': array([12.3, '?'], dtype=object),\n",
       " 'FDW13': array([8.5, '?'], dtype=object),\n",
       " 'NCU17': array([5.32, '?'], dtype=object),\n",
       " 'FDH53': array([20.5, '?'], dtype=object),\n",
       " 'DRK35': array([8.365, '?'], dtype=object),\n",
       " 'FDS56': array([5.785, '?'], dtype=object),\n",
       " 'FDH16': array([10.5, '?'], dtype=object),\n",
       " 'FDM52': array([15.1, '?'], dtype=object),\n",
       " 'FDW02': array([4.805, '?'], dtype=object),\n",
       " 'FDN52': array(['?', 9.395], dtype=object),\n",
       " 'DRK11': array([8.21, '?'], dtype=object),\n",
       " 'NCI30': array([20.25, '?'], dtype=object),\n",
       " 'FDT02': array([12.6, '?'], dtype=object),\n",
       " 'DRG25': array([10.5, '?'], dtype=object),\n",
       " 'DRG27': array([8.895, '?'], dtype=object),\n",
       " 'FDD16': array([20.5, '?'], dtype=object),\n",
       " 'NCP14': array([8.275, '?'], dtype=object),\n",
       " 'FDF22': array([6.865, '?'], dtype=object),\n",
       " 'FDU27': array(['?', 18.6], dtype=object),\n",
       " 'FDN34': array([15.6, '?'], dtype=object),\n",
       " 'FDJ56': array(['?', 8.985], dtype=object),\n",
       " 'FDO44': array(['?', 12.6], dtype=object),\n",
       " 'FDL21': array([15.85, '?'], dtype=object),\n",
       " 'FDY49': array(['?', 17.2], dtype=object),\n",
       " 'NCU30': array([5.11, '?'], dtype=object),\n",
       " 'FDK52': array([18.25, '?'], dtype=object),\n",
       " 'FDH31': array([12.0, '?'], dtype=object),\n",
       " 'FDU19': array(['?', 8.77], dtype=object),\n",
       " 'FDN16': array([12.6, '?'], dtype=object),\n",
       " 'NCB42': array([11.8, '?'], dtype=object),\n",
       " 'FDL44': array([18.25, '?'], dtype=object),\n",
       " 'NCO26': array([7.235, '?'], dtype=object),\n",
       " 'NCN14': array(['?', 19.1], dtype=object),\n",
       " 'FDU09': array([7.71, '?'], dtype=object),\n",
       " 'FDQ48': array([14.3, '?'], dtype=object),\n",
       " 'DRJ37': array([10.8, '?'], dtype=object),\n",
       " 'FDP16': array([18.6, '?'], dtype=object),\n",
       " 'FDZ28': array([20.0, '?'], dtype=object),\n",
       " 'FDA21': array([13.65, '?'], dtype=object),\n",
       " 'FDE32': array([20.7, '?'], dtype=object),\n",
       " 'FDC57': array(['?', 20.1], dtype=object),\n",
       " 'NCH42': array([6.86, '?'], dtype=object),\n",
       " 'NCW42': array([18.2, '?'], dtype=object),\n",
       " 'NCH55': array([16.35, '?'], dtype=object),\n",
       " 'DRK49': array([14.15, '?'], dtype=object),\n",
       " 'FDW50': array(['?', 13.1], dtype=object),\n",
       " 'NCG06': array([16.35, '?'], dtype=object),\n",
       " 'NCL17': array([7.39, '?'], dtype=object),\n",
       " 'FDL33': array([7.235, '?'], dtype=object),\n",
       " 'NCV30': array([20.2, '?'], dtype=object),\n",
       " 'FDU58': array([6.61, '?'], dtype=object),\n",
       " 'FDO52': array(['?', 11.6], dtype=object),\n",
       " 'NCQ43': array(['?', 17.75], dtype=object),\n",
       " 'NCT18': array([14.6, '?'], dtype=object),\n",
       " 'NCJ30': array([5.82, '?'], dtype=object),\n",
       " 'NCE30': array([16.0, '?'], dtype=object),\n",
       " 'NCA29': array([10.5, '?'], dtype=object),\n",
       " 'FDU33': array([7.63, '?'], dtype=object),\n",
       " 'DRL47': array([19.7, '?'], dtype=object),\n",
       " 'FDQ56': array([6.59, '?'], dtype=object),\n",
       " 'FDK36': array([7.09, '?'], dtype=object),\n",
       " 'FDD44': array([8.05, '?'], dtype=object),\n",
       " 'FDT13': array([14.85, '?'], dtype=object),\n",
       " 'DRI47': array([14.7, '?'], dtype=object),\n",
       " 'FDU51': array([20.2, '?'], dtype=object),\n",
       " 'FDU52': array([7.56, '?'], dtype=object),\n",
       " 'FDR32': array(['?', 6.78], dtype=object),\n",
       " 'FDT43': array([16.35, '?'], dtype=object),\n",
       " 'DRN47': array([12.1, '?'], dtype=object),\n",
       " 'DRJ59': array([11.65, '?'], dtype=object),\n",
       " 'FDE41': array([9.195, '?'], dtype=object),\n",
       " 'FDI22': array([12.6, '?'], dtype=object),\n",
       " 'FDR03': array([15.7, '?'], dtype=object),\n",
       " 'NCC19': array([6.57, '?'], dtype=object),\n",
       " 'FDC05': array([13.1, '?'], dtype=object),\n",
       " 'FDQ31': array([5.785, '?'], dtype=object),\n",
       " 'FDW59': array(['?', 13.15], dtype=object),\n",
       " 'FDT46': array([11.35, '?'], dtype=object),\n",
       " 'NCS05': array([11.5, '?'], dtype=object),\n",
       " 'FDP60': array([17.35, '?'], dtype=object),\n",
       " 'NCX53': array([20.1, '?'], dtype=object),\n",
       " 'FDV35': array([19.5, '?'], dtype=object),\n",
       " 'NCR54': array([16.35, '?'], dtype=object),\n",
       " 'FDC14': array(['?', 14.5], dtype=object),\n",
       " 'NCC18': array([19.1, '?'], dtype=object),\n",
       " 'DRM11': array([6.57, '?'], dtype=object),\n",
       " 'FDG04': array(['?', 13.1], dtype=object),\n",
       " 'FDQ13': array([11.1, '?'], dtype=object),\n",
       " 'DRH25': array(['?', 18.7], dtype=object),\n",
       " 'FDF14': array([7.55, '?'], dtype=object),\n",
       " 'FDI60': array([7.22, '?'], dtype=object),\n",
       " 'FDL57': array([15.1, '?'], dtype=object),\n",
       " 'FDU21': array([11.8, '?'], dtype=object),\n",
       " 'FDB51': array([6.92, '?'], dtype=object),\n",
       " 'FDE50': array(['?', 19.7], dtype=object),\n",
       " 'FDX39': array([14.3, '?'], dtype=object),\n",
       " 'FDH27': array([7.075, '?'], dtype=object),\n",
       " 'FDT37': array([14.15, '?'], dtype=object),\n",
       " 'NCY53': array([20.0, '?'], dtype=object),\n",
       " 'FDI05': array([8.35, '?'], dtype=object),\n",
       " 'FDU07': array([11.1, '?'], dtype=object),\n",
       " 'NCM42': array([6.13, '?'], dtype=object),\n",
       " 'FDZ20': array(['?', 16.1], dtype=object),\n",
       " 'FDS60': array([20.85, '?'], dtype=object),\n",
       " 'FDG26': array([18.85, '?'], dtype=object),\n",
       " 'DRC24': array([17.85, '?'], dtype=object),\n",
       " 'FDK33': array([17.85, '?'], dtype=object),\n",
       " 'NCO14': array([9.6, '?'], dtype=object),\n",
       " 'DRN11': array([7.85, '?'], dtype=object),\n",
       " 'FDI35': array([14.0, '?'], dtype=object),\n",
       " 'NCP42': array([8.51, '?'], dtype=object),\n",
       " 'FDW03': array([5.63, '?'], dtype=object),\n",
       " 'DRA24': array([19.35, '?'], dtype=object),\n",
       " 'FDN49': array([17.25, '?'], dtype=object),\n",
       " 'FDC20': array([10.65, '?'], dtype=object),\n",
       " 'FDX45': array([16.75, '?'], dtype=object),\n",
       " 'FDV40': array([17.35, '?'], dtype=object),\n",
       " ...}"
      ]
     },
     "execution_count": 377,
     "metadata": {},
     "output_type": "execute_result"
    }
   ],
   "source": [
    "dic"
   ]
  },
  {
   "cell_type": "code",
   "execution_count": 378,
   "metadata": {
    "collapsed": true
   },
   "outputs": [],
   "source": [
    "weights = {}\n",
    "for i in dic:\n",
    "    if len(dic[i])==2:\n",
    "        if dic[i][0]=='?':\n",
    "            weights[i]=dic[i][1]\n",
    "        else:\n",
    "            weights[i]=dic[i][0]\n",
    "    if len(dic[i])==1:\n",
    "        weights[i]=dic[i][0]"
   ]
  },
  {
   "cell_type": "code",
   "execution_count": 379,
   "metadata": {
    "collapsed": false
   },
   "outputs": [
    {
     "data": {
      "text/plain": [
       "{'FDP01': 20.75,\n",
       " 'FDM09': 11.15,\n",
       " 'DRC25': 5.73,\n",
       " 'FDY38': 13.6,\n",
       " 'FDL50': 12.15,\n",
       " 'FDW24': 6.8,\n",
       " 'FDJ02': 17.2,\n",
       " 'FDR35': 12.5,\n",
       " 'FDY55': 16.75,\n",
       " 'FDI44': 16.1,\n",
       " 'FDY28': 7.47,\n",
       " 'FDZ22': 9.395,\n",
       " 'DRI25': 19.6,\n",
       " 'NCK07': 10.65,\n",
       " 'FDN60': 15.1,\n",
       " 'FDW19': 12.35,\n",
       " 'NCJ31': 19.2,\n",
       " 'FDS46': 17.6,\n",
       " 'FDA38': 5.44,\n",
       " 'FDD58': 7.76,\n",
       " 'FDQ16': 19.7,\n",
       " 'FDC02': 21.35,\n",
       " 'NCM53': 18.75,\n",
       " 'NCY42': 6.38,\n",
       " 'FDG60': 20.35,\n",
       " 'FDX08': 12.85,\n",
       " 'FDR52': 12.65,\n",
       " 'FDE51': 5.925,\n",
       " 'FDH28': 15.85,\n",
       " 'NCH07': 13.15,\n",
       " 'FDZ38': 17.6,\n",
       " 'NCB30': 14.6,\n",
       " 'FDE36': 5.26,\n",
       " 'FDZ51': 11.3,\n",
       " 'FDX28': 6.325,\n",
       " 'FDJ48': 11.3,\n",
       " 'FDF50': 4.905,\n",
       " 'NCT30': 9.1,\n",
       " 'NCH54': 13.5,\n",
       " 'NCQ17': 10.3,\n",
       " 'FDG57': 14.7,\n",
       " 'FDH40': 11.6,\n",
       " 'FDY24': 4.88,\n",
       " 'FDE45': 12.1,\n",
       " 'FDB05': 5.155,\n",
       " 'FDR51': 9.035,\n",
       " 'FDD03': 13.3,\n",
       " 'DRJ51': 14.1,\n",
       " 'FDM45': 8.655,\n",
       " 'NCG07': 12.3,\n",
       " 'FDP38': 10.1,\n",
       " 'FDZ25': 15.7,\n",
       " 'FDB38': 19.5,\n",
       " 'FDX10': 6.385,\n",
       " 'FDT57': 15.2,\n",
       " 'DRD12': 6.96,\n",
       " 'FDB56': 8.75,\n",
       " 'FDW25': 5.175,\n",
       " 'FDQ52': 17.0,\n",
       " 'NCF31': 9.13,\n",
       " 'FDR34': 17.0,\n",
       " 'FDX20': 7.365,\n",
       " 'NCK17': 11.0,\n",
       " 'FDT10': 16.7,\n",
       " 'DRH49': 19.7,\n",
       " 'NCJ18': 12.35,\n",
       " 'FDP57': 17.5,\n",
       " 'FDR15': 9.3,\n",
       " 'FDN21': 18.6,\n",
       " 'FDV39': 11.3,\n",
       " 'DRD13': 15.0,\n",
       " 'DRH13': 8.575,\n",
       " 'DRG48': 5.78,\n",
       " 'FDW26': 11.8,\n",
       " 'FDO34': 17.7,\n",
       " 'FDD20': 14.15,\n",
       " 'NCC31': 8.02,\n",
       " 'FDC29': 8.39,\n",
       " 'FDU16': 19.25,\n",
       " 'FDG17': 6.865,\n",
       " 'FDF38': 11.8,\n",
       " 'FDQ47': 7.155,\n",
       " 'FDL08': 10.8,\n",
       " 'FDZ02': 6.905,\n",
       " 'FDU31': 10.5,\n",
       " 'FDV48': 9.195,\n",
       " 'FDJ07': 7.26,\n",
       " 'NCI54': 15.2,\n",
       " 'DRM23': 16.6,\n",
       " 'FDS07': 12.35,\n",
       " 'FDP07': 18.2,\n",
       " 'FDJ36': 14.5,\n",
       " 'FDP45': 15.7,\n",
       " 'FDT25': 7.5,\n",
       " 'NCT17': 10.8,\n",
       " 'FDZ57': 10.0,\n",
       " 'FDM01': 7.895,\n",
       " 'FDD38': 16.75,\n",
       " 'FDQ14': 9.27,\n",
       " 'FDG24': 7.975,\n",
       " 'NCH18': 9.3,\n",
       " 'FDB27': 7.575,\n",
       " 'FDA34': 11.5,\n",
       " 'FDW35': 10.6,\n",
       " 'FDO01': 21.1,\n",
       " 'FDZ13': 7.84,\n",
       " 'FDS35': 9.3,\n",
       " 'FDT04': 17.25,\n",
       " 'FDU22': 12.35,\n",
       " 'FDZ14': 7.71,\n",
       " 'FDH12': 9.6,\n",
       " 'FDJ27': 17.7,\n",
       " 'NCM30': 19.1,\n",
       " 'NCE19': 8.97,\n",
       " 'NCR50': 20.2,\n",
       " 'FDS28': 8.18,\n",
       " 'FDB12': 11.15,\n",
       " 'FDM57': 11.65,\n",
       " 'FDR47': 17.85,\n",
       " 'FDN56': 5.46,\n",
       " 'DRK59': 8.895,\n",
       " 'FDO37': 8.06,\n",
       " 'FDW49': 19.5,\n",
       " 'NCO06': 19.25,\n",
       " 'FDV25': 5.905,\n",
       " 'FDK58': 11.35,\n",
       " 'FDY03': 17.6,\n",
       " 'NCL06': 14.65,\n",
       " 'FDC48': 9.195,\n",
       " 'NCJ42': 19.75,\n",
       " 'FDD17': 7.5,\n",
       " 'FDP48': 7.52,\n",
       " 'FDY04': 17.7,\n",
       " 'NCD30': 19.7,\n",
       " 'FDZ31': 15.35,\n",
       " 'FDX56': 17.1,\n",
       " 'NCP30': 20.5,\n",
       " 'FDQ36': 7.855,\n",
       " 'FDD34': 7.945,\n",
       " 'FDA25': 16.5,\n",
       " 'DRL01': 19.5,\n",
       " 'FDC21': 14.6,\n",
       " 'FDX37': 16.2,\n",
       " 'NCA53': 11.395,\n",
       " 'NCM06': 7.475,\n",
       " 'FDH14': 17.1,\n",
       " 'FDR44': 6.11,\n",
       " 'NCM43': 14.5,\n",
       " 'FDH57': 10.895,\n",
       " 'FDS14': 7.285,\n",
       " 'NCK42': 7.475,\n",
       " 'NCT18': 14.6,\n",
       " 'NCA29': 10.5,\n",
       " 'FDD47': 7.6,\n",
       " 'FDU46': 10.3,\n",
       " 'FDB10': 10.0,\n",
       " 'FDH05': 14.35,\n",
       " 'FDN09': 14.15,\n",
       " 'FDU23': 12.15,\n",
       " 'FDS60': 20.85,\n",
       " 'FDQ09': 7.235,\n",
       " 'NCW30': 5.21,\n",
       " 'NCP17': 19.35,\n",
       " 'FDU57': 8.27,\n",
       " 'FDF08': 14.3,\n",
       " 'NCR29': 7.565,\n",
       " 'FDZ03': 13.65,\n",
       " 'FDW45': 18.0,\n",
       " 'FDY37': 17.0,\n",
       " 'FDC47': 15.0,\n",
       " 'FDZ35': 9.6,\n",
       " 'FDQ45': 9.5,\n",
       " 'FDJ53': 10.5,\n",
       " 'NCA54': 16.5,\n",
       " 'FDC17': 12.15,\n",
       " 'FDZ40': 8.935,\n",
       " 'FDA37': 7.81,\n",
       " 'FDA20': 6.78,\n",
       " 'FDP36': 10.395,\n",
       " 'FDK55': 18.5,\n",
       " 'NCD19': 8.93,\n",
       " 'FDD10': 20.6,\n",
       " 'NCE54': 20.7,\n",
       " 'FDN28': 5.88,\n",
       " 'NCI06': 11.3,\n",
       " 'FDN01': 8.895,\n",
       " 'DRH23': 14.65,\n",
       " 'FDW57': 8.31,\n",
       " 'FDN10': 11.5,\n",
       " 'FDX51': 9.5,\n",
       " 'FDV07': 9.5,\n",
       " 'FDZ58': 17.85,\n",
       " 'FDX22': 6.785,\n",
       " 'FDW46': 13.0,\n",
       " 'FDZ07': 15.1,\n",
       " 'DRL37': 15.5,\n",
       " 'FDO58': 19.6,\n",
       " 'FDH60': 19.7,\n",
       " 'FDI53': 8.895,\n",
       " 'FDX23': 6.445,\n",
       " 'NCT54': 8.695,\n",
       " 'FDX09': 9.0,\n",
       " 'FDE24': 14.85,\n",
       " 'FDH45': 15.1,\n",
       " 'NCS17': 18.6,\n",
       " 'FDU47': 12.8,\n",
       " 'NCY06': 15.25,\n",
       " 'NCX30': 16.7,\n",
       " 'FDW15': 15.35,\n",
       " 'FDI21': 5.59,\n",
       " 'NCE06': 5.825,\n",
       " 'DRK39': 7.02,\n",
       " 'DRF25': 9.0,\n",
       " 'NCP06': 20.7,\n",
       " 'FDH52': 9.42,\n",
       " 'FDV33': 9.6,\n",
       " 'FDU38': 10.8,\n",
       " 'NCV17': 18.85,\n",
       " 'FDM56': 16.7,\n",
       " 'FDS25': 6.885,\n",
       " 'NCG54': 12.1,\n",
       " 'FDI19': 15.1,\n",
       " 'FDY13': 12.1,\n",
       " 'DRE15': 13.35,\n",
       " 'FDM60': 10.8,\n",
       " 'FDD46': 6.035,\n",
       " 'NCQ54': 17.7,\n",
       " 'FDX21': 7.05,\n",
       " 'NCP29': 8.42,\n",
       " 'FDX26': 17.7,\n",
       " 'FDR27': 15.1,\n",
       " 'FDQ24': 15.7,\n",
       " 'FDM14': 13.8,\n",
       " 'DRG23': 8.88,\n",
       " 'FDG50': 7.405,\n",
       " 'FDA28': 16.1,\n",
       " 'NCL30': 18.1,\n",
       " 'FDH58': 12.3,\n",
       " 'NCM19': 12.65,\n",
       " 'FDM21': 20.2,\n",
       " 'FDV20': 20.2,\n",
       " 'FDW56': 7.68,\n",
       " 'FDA11': 7.75,\n",
       " 'FDS32': 17.75,\n",
       " 'FDB26': 14.0,\n",
       " 'NCE31': 7.67,\n",
       " 'FDV34': 10.695,\n",
       " 'FDP34': 12.85,\n",
       " 'FDL22': 16.85,\n",
       " 'DRK47': 7.905,\n",
       " 'FDG56': 13.3,\n",
       " 'FDF46': 7.07,\n",
       " 'NCW54': 7.5,\n",
       " 'NCN29': 15.2,\n",
       " 'NCO30': 19.5,\n",
       " 'NCV42': 6.26,\n",
       " 'FDT21': 7.42,\n",
       " 'FDF02': 16.2,\n",
       " 'FDA22': 7.435,\n",
       " 'NCK18': 9.6,\n",
       " 'FDI58': 7.64,\n",
       " 'FDB20': 7.72,\n",
       " 'FDB29': 16.7,\n",
       " 'FDJ41': 6.85,\n",
       " 'FDA44': 19.7,\n",
       " 'FDW22': 9.695,\n",
       " 'FDM22': 14.0,\n",
       " 'FDN44': 13.15,\n",
       " 'DRC27': 13.8,\n",
       " 'FDF59': 12.5,\n",
       " 'DRG01': 14.8,\n",
       " 'FDK60': 16.5,\n",
       " 'NCP02': 7.105,\n",
       " 'DRE60': 9.395,\n",
       " 'FDL02': 20.0,\n",
       " 'NCU53': 5.485,\n",
       " 'FDR02': 16.7,\n",
       " 'NCN43': 12.15,\n",
       " 'NCY54': 8.43,\n",
       " 'FDH47': 13.5,\n",
       " 'FDG46': 8.63,\n",
       " 'NCP54': 15.35,\n",
       " 'FDH26': 19.25,\n",
       " 'FDH44': 19.1,\n",
       " 'NCK54': 12.15,\n",
       " 'NCR42': 9.105,\n",
       " 'DRJ11': 9.5,\n",
       " 'FDY07': 11.8,\n",
       " 'FDH17': 16.2,\n",
       " 'FDR04': 7.075,\n",
       " 'FDE22': 9.695,\n",
       " 'FDU37': 9.5,\n",
       " 'FDK40': 7.035,\n",
       " 'NCD31': 12.1,\n",
       " 'FDN13': 18.6,\n",
       " 'FDS51': 13.35,\n",
       " 'FDA08': 11.85,\n",
       " 'FDN58': 13.8,\n",
       " 'NCE07': 8.18,\n",
       " 'FDT32': 19.0,\n",
       " 'NCC43': 7.39,\n",
       " 'FDV03': 17.6,\n",
       " 'FDP15': 15.2,\n",
       " 'DRF27': 8.93,\n",
       " 'FDE05': 10.895,\n",
       " 'FDR39': 20.35,\n",
       " 'FDF47': 20.85,\n",
       " 'NCP41': 16.6,\n",
       " 'FDY16': 18.35,\n",
       " 'FDS55': 7.02,\n",
       " 'NCX41': 19.0,\n",
       " 'FDS26': 20.35,\n",
       " 'NCY30': 20.25,\n",
       " 'FDB34': 15.25,\n",
       " 'FDF33': 7.97,\n",
       " 'FDI34': 10.65,\n",
       " 'FDI56': 7.325,\n",
       " 'FDL14': 8.115,\n",
       " 'NCB18': 19.6,\n",
       " 'FDT47': 5.26,\n",
       " 'FDK21': 7.905,\n",
       " 'FDX44': 9.3,\n",
       " 'FDT31': 19.75,\n",
       " 'FDW48': 18.0,\n",
       " 'FDK14': 6.98,\n",
       " 'FDN23': 6.575,\n",
       " 'FDQ49': 20.2,\n",
       " 'FDV10': 7.645,\n",
       " 'FDP58': 11.1,\n",
       " 'FDP56': 8.185,\n",
       " 'FDV51': 16.35,\n",
       " 'NCE55': 8.92,\n",
       " 'NCJ54': 9.895,\n",
       " 'DRF51': 15.75,\n",
       " 'FDX60': 14.35,\n",
       " 'NCQ38': 16.35,\n",
       " 'FDN04': 11.8,\n",
       " 'FDT37': 14.15,\n",
       " 'FDS48': 15.15,\n",
       " 'FDG08': 13.15,\n",
       " 'NCQ05': 11.395,\n",
       " 'FDL13': 13.85,\n",
       " 'FDM58': 16.85,\n",
       " 'FDP24': 20.6,\n",
       " 'NCN18': 8.895,\n",
       " 'DRH37': 17.6,\n",
       " 'FDJ58': 15.6,\n",
       " 'FDB36': 5.465,\n",
       " 'FDS40': 15.35,\n",
       " 'FDR33': 7.31,\n",
       " 'FDP49': 9.0,\n",
       " 'NCL29': 9.695,\n",
       " 'DRE25': 15.35,\n",
       " 'NCO53': 16.2,\n",
       " 'FDT50': 6.75,\n",
       " 'FDF17': 5.19,\n",
       " 'FDI33': 16.5,\n",
       " 'FDP46': 15.35,\n",
       " 'DRI11': 8.26,\n",
       " 'FDY15': 18.25,\n",
       " 'NCM26': 20.5,\n",
       " 'FDY51': 12.5,\n",
       " 'FDP08': 20.5,\n",
       " 'NCD18': 16.0,\n",
       " 'FDF34': 9.3,\n",
       " 'NCA42': 6.965,\n",
       " 'FDA19': 7.52,\n",
       " 'FDH33': 12.85,\n",
       " 'NCP18': 12.15,\n",
       " 'FDP22': 14.65,\n",
       " 'FDQ23': 6.55,\n",
       " 'DRF37': 17.25,\n",
       " 'FDZ52': 19.2,\n",
       " 'FDS21': 19.85,\n",
       " 'FDC51': 10.895,\n",
       " 'FDS33': 6.67,\n",
       " 'FDT19': 7.59,\n",
       " 'FDH21': 10.395,\n",
       " 'FDR14': 11.65,\n",
       " 'DRA59': 8.27,\n",
       " 'FDN22': 18.85,\n",
       " 'FDI28': 14.3,\n",
       " 'FDY19': 19.75,\n",
       " 'FDL28': 10.0,\n",
       " 'FDQ07': 15.1,\n",
       " 'DRC12': 17.85,\n",
       " 'DRL60': 8.52,\n",
       " 'DRJ25': 14.6,\n",
       " 'FDX32': 15.1,\n",
       " 'FDY27': 6.38,\n",
       " 'FDH22': 6.405,\n",
       " 'FDE59': 12.15,\n",
       " 'NCQ06': 13.0,\n",
       " 'FDV36': 18.7,\n",
       " 'NCR06': 12.5,\n",
       " 'FDB45': 20.85,\n",
       " 'FDN34': 15.6,\n",
       " 'FDK43': 9.8,\n",
       " 'NCI18': 18.35,\n",
       " 'NCS38': 8.6,\n",
       " 'NCC55': 10.695,\n",
       " 'FDY48': 14.0,\n",
       " 'FDY25': 12.0,\n",
       " 'FDU58': 6.61,\n",
       " 'DRI37': 15.85,\n",
       " 'FDK10': 5.785,\n",
       " 'FDR45': 10.8,\n",
       " 'FDW60': 5.44,\n",
       " 'FDG09': 20.6,\n",
       " 'FDF20': 12.85,\n",
       " 'FDJ32': 10.695,\n",
       " 'DRG03': 14.5,\n",
       " 'DRN11': 7.85,\n",
       " 'NCV29': 11.8,\n",
       " 'FDH38': 6.425,\n",
       " 'FDQ20': 8.325,\n",
       " 'FDD48': 10.395,\n",
       " 'FDH24': 20.7,\n",
       " 'FDR36': 6.715,\n",
       " 'FDP10': 19.0,\n",
       " 'NCQ41': 14.8,\n",
       " 'FDZ48': 17.75,\n",
       " 'FDD05': 19.35,\n",
       " 'FDS10': 19.2,\n",
       " 'FDW44': 9.5,\n",
       " 'FDF09': 6.215,\n",
       " 'FDQ03': 15.0,\n",
       " 'FDC23': 18.0,\n",
       " 'NCG18': 15.3,\n",
       " 'FDG21': 17.35,\n",
       " 'DRI49': 14.15,\n",
       " 'FDF05': 17.5,\n",
       " 'NCV30': 20.2,\n",
       " 'NCN26': 10.85,\n",
       " 'NCU42': 9.0,\n",
       " 'NCX17': 21.25,\n",
       " 'FDW21': 5.34,\n",
       " 'NCX54': 9.195,\n",
       " 'FDS11': 7.05,\n",
       " 'DRP35': 18.85,\n",
       " 'FDN48': 13.35,\n",
       " 'NCP53': 14.75,\n",
       " 'FDT33': 7.81,\n",
       " 'FDF40': 20.25,\n",
       " 'FDF32': 16.35,\n",
       " 'FDB03': 17.75,\n",
       " 'FDE40': 15.6,\n",
       " 'FDA43': 10.895,\n",
       " 'FDS47': 16.75,\n",
       " 'NCY05': 13.5,\n",
       " 'FDR10': 17.6,\n",
       " 'NCZ06': 19.6,\n",
       " 'DRD25': 6.135,\n",
       " 'FDB23': 19.2,\n",
       " 'FDS03': 7.825,\n",
       " 'FDA51': 8.05,\n",
       " 'FDU12': 15.5,\n",
       " 'FDZ47': 20.7,\n",
       " 'FDM27': 12.35,\n",
       " 'FDE29': 8.905,\n",
       " 'FDX33': 9.195,\n",
       " 'FDQ39': 14.8,\n",
       " 'NCD54': 21.1,\n",
       " 'NCS54': 13.6,\n",
       " 'NCA30': 19.0,\n",
       " 'FDA02': 14.0,\n",
       " 'DRJ49': 6.865,\n",
       " 'FDO32': 6.36,\n",
       " 'DRI03': 6.03,\n",
       " 'FDL36': 15.1,\n",
       " 'FDA03': 18.5,\n",
       " 'FDJ28': 12.3,\n",
       " 'DRF60': 10.8,\n",
       " 'FDK02': 12.5,\n",
       " 'FDV12': 16.7,\n",
       " 'FDB35': 12.3,\n",
       " 'FDU28': 19.2,\n",
       " 'FDK28': 5.695,\n",
       " 'FDO21': 11.6,\n",
       " 'FDV55': 17.75,\n",
       " 'FDU13': 8.355,\n",
       " 'FDP04': 15.35,\n",
       " 'FDB02': 9.695,\n",
       " 'FDI15': 13.8,\n",
       " 'FDP27': 8.155,\n",
       " 'FDL51': 20.7,\n",
       " 'FDB32': 20.6,\n",
       " 'FDC53': 8.68,\n",
       " 'FDS19': 13.8,\n",
       " 'DRJ35': 10.1,\n",
       " 'FDQ51': 16.0,\n",
       " 'FDJ44': 12.3,\n",
       " 'FDG20': 15.5,\n",
       " 'FDS08': 5.735,\n",
       " 'FDD50': 18.85,\n",
       " 'FDN02': 16.5,\n",
       " 'FDR08': 18.7,\n",
       " 'FDW12': 8.315,\n",
       " 'FDM51': 11.8,\n",
       " 'NCW53': 18.35,\n",
       " 'NCQ53': 17.6,\n",
       " 'FDJ04': 18.0,\n",
       " 'FDJ08': 11.1,\n",
       " 'FDM46': 7.365,\n",
       " 'FDC58': 10.195,\n",
       " 'FDI40': 11.5,\n",
       " 'NCS42': 8.6,\n",
       " 'FDD52': 18.25,\n",
       " 'FDO60': 20.0,\n",
       " 'FDW31': 11.35,\n",
       " 'FDG22': 17.6,\n",
       " 'FDO40': 17.1,\n",
       " 'FDE33': 19.35,\n",
       " 'FDP37': 15.6,\n",
       " 'FDO25': 6.3,\n",
       " 'FDL25': 6.92,\n",
       " 'FDY35': 17.6,\n",
       " 'FDL46': 20.35,\n",
       " 'FDX47': 6.55,\n",
       " 'FDC40': 16.0,\n",
       " 'NCF06': 6.235,\n",
       " 'FDV44': 8.365,\n",
       " 'NCQ29': 12.0,\n",
       " 'FDL04': 19.0,\n",
       " 'FDS01': 11.6,\n",
       " 'NCL31': 7.39,\n",
       " 'NCZ41': 19.85,\n",
       " 'FDM33': 15.6,\n",
       " 'DRA12': 11.6,\n",
       " 'FDO49': 10.6,\n",
       " 'DRE13': 6.28,\n",
       " 'FDV58': 20.85,\n",
       " 'NCZ54': 14.65,\n",
       " 'FDR31': 6.46,\n",
       " 'FDA33': 6.48,\n",
       " 'FDY59': 8.195,\n",
       " 'FDI46': 9.5,\n",
       " 'FDY44': 14.15,\n",
       " 'FDC32': 18.35,\n",
       " 'DRD37': 9.8,\n",
       " 'FDQ28': 14.0,\n",
       " 'FDI24': 10.3,\n",
       " 'FDI07': 12.35,\n",
       " 'FDS24': 20.85,\n",
       " 'NCJ05': 18.7,\n",
       " 'FDO28': 5.765,\n",
       " 'FDR11': 10.5,\n",
       " 'FDT35': 19.85,\n",
       " 'FDW14': 8.3,\n",
       " 'NCE43': 12.5,\n",
       " 'FDA36': 5.985,\n",
       " 'FDY36': 12.3,\n",
       " 'FDV52': 20.7,\n",
       " 'FDC37': 15.5,\n",
       " 'FDM34': 19.0,\n",
       " 'FDV23': 11.0,\n",
       " 'FDG16': 15.25,\n",
       " 'FDB52': 17.75,\n",
       " 'NCX42': 6.36,\n",
       " 'FDM15': 11.8,\n",
       " 'NCD55': 14.0,\n",
       " 'FDU56': 16.85,\n",
       " 'FDP51': 13.85,\n",
       " 'FDV13': 17.35,\n",
       " 'DRF13': 12.1,\n",
       " 'NCR53': 12.15,\n",
       " 'FDY02': 8.945,\n",
       " 'FDS22': 16.85,\n",
       " 'FDA14': 16.1,\n",
       " 'FDU03': 18.7,\n",
       " 'FDH08': 7.51,\n",
       " 'FDF56': 16.7,\n",
       " 'DRF03': 19.1,\n",
       " 'FDO50': 16.25,\n",
       " 'NCN42': 20.25,\n",
       " 'FDI32': 17.7,\n",
       " 'FDT09': 15.15,\n",
       " 'FDV15': 10.3,\n",
       " 'FDO20': 12.85,\n",
       " 'FDR60': 14.3,\n",
       " 'FDJ20': 20.7,\n",
       " 'FDN03': 9.8,\n",
       " 'FDD57': 18.1,\n",
       " 'NCM05': 6.825,\n",
       " 'FDT55': 13.6,\n",
       " 'FDA39': 6.32,\n",
       " 'FDE04': 19.75,\n",
       " 'FDN51': 17.85,\n",
       " 'FDC08': 19.0,\n",
       " 'FDK08': 9.195,\n",
       " 'DRL49': 13.15,\n",
       " 'NCN07': 18.5,\n",
       " 'FDW58': 20.75,\n",
       " 'FDC34': 16.0,\n",
       " 'FDQ37': 20.75,\n",
       " 'NCU05': 11.8,\n",
       " 'FDR40': 9.1,\n",
       " 'FDY26': 20.6,\n",
       " 'NCX05': 15.2,\n",
       " 'DRF01': 5.655,\n",
       " 'FDJ50': 8.645,\n",
       " 'FDE14': 13.65,\n",
       " 'NCL53': 7.5,\n",
       " 'FDD41': 6.765,\n",
       " 'FDJ22': 18.75,\n",
       " 'FDF52': 9.3,\n",
       " 'FDO48': 15.0,\n",
       " 'FDL20': 17.1,\n",
       " 'FDG29': 17.6,\n",
       " 'FDX57': 17.25,\n",
       " 'FDE56': 17.25,\n",
       " 'FDE23': 17.6,\n",
       " 'NCO41': 12.5,\n",
       " 'FDA01': 15.0,\n",
       " 'FDA45': 21.25,\n",
       " 'FDV08': 7.35,\n",
       " 'DRJ47': 18.25,\n",
       " 'NCC07': 19.6,\n",
       " 'FDW34': 9.6,\n",
       " 'FDN20': 19.35,\n",
       " 'FDK46': 9.6,\n",
       " 'FDI45': 13.1,\n",
       " 'FDE28': 9.5,\n",
       " 'NCN53': 5.175,\n",
       " 'FDJ21': 16.7,\n",
       " 'FDV59': 13.35,\n",
       " 'FDS12': 9.1,\n",
       " 'FDU45': 15.6,\n",
       " 'NCO42': 21.25,\n",
       " 'FDY40': 15.5,\n",
       " 'DRM59': 5.88,\n",
       " 'FDH19': 19.35,\n",
       " 'FDE26': 9.3,\n",
       " 'FDO23': 17.85,\n",
       " 'NCC30': 16.6,\n",
       " 'FDN08': 7.72,\n",
       " 'FDD45': 8.615,\n",
       " 'NCN30': 16.35,\n",
       " 'FDB21': 7.475,\n",
       " 'DRE01': 10.1,\n",
       " 'NCL07': 13.85,\n",
       " 'DRK12': 9.5,\n",
       " 'DRM48': 15.2,\n",
       " 'FDA47': 10.5,\n",
       " 'NCF19': 13.0,\n",
       " 'FDC39': 7.405,\n",
       " 'NCN17': 11.0,\n",
       " 'FDK56': 9.695,\n",
       " 'FDY56': 16.35,\n",
       " 'DRB25': 12.3,\n",
       " 'FDH09': 12.6,\n",
       " 'DRN59': 15.0,\n",
       " 'DRK23': 8.395,\n",
       " 'FDD35': 12.15,\n",
       " 'FDM02': 12.5,\n",
       " 'NCN54': 20.35,\n",
       " 'FDW11': 12.6,\n",
       " 'NCQ42': 20.35,\n",
       " 'FDH46': 6.935,\n",
       " 'NCM31': 6.095,\n",
       " 'FDR20': 20.0,\n",
       " 'DRG15': 6.13,\n",
       " 'FDP21': 7.42,\n",
       " 'FDB59': 18.25,\n",
       " 'FDP40': 4.555,\n",
       " 'FDU27': 18.6,\n",
       " 'DRM47': 9.3,\n",
       " 'FDZ43': 11.0,\n",
       " 'FDZ60': 20.5,\n",
       " 'NCR05': 10.1,\n",
       " 'FDQ26': 13.5,\n",
       " 'FDZ21': 17.6,\n",
       " 'FDC04': 15.6,\n",
       " 'FDW27': 5.86,\n",
       " 'FDH02': 7.27,\n",
       " 'FDQ21': 21.25,\n",
       " 'FDU07': 11.1,\n",
       " 'FDA07': 7.55,\n",
       " 'FDK33': 17.85,\n",
       " 'FDL27': 6.17,\n",
       " 'FDX15': 17.2,\n",
       " 'FDL16': 12.85,\n",
       " 'FDZ26': 11.6,\n",
       " 'FDX40': 12.85,\n",
       " 'FDO36': 19.7,\n",
       " 'FDU19': 8.77,\n",
       " 'DRC36': 13.0,\n",
       " 'NCJ29': 10.6,\n",
       " 'FDG28': 9.285,\n",
       " 'FDX27': 20.7,\n",
       " 'FDT24': 12.35,\n",
       " 'FDG53': 10.0,\n",
       " 'FDY20': 12.5,\n",
       " 'NCZ30': 6.59,\n",
       " 'NCG55': 16.25,\n",
       " 'FDM24': 6.135,\n",
       " 'FDW09': 13.65,\n",
       " 'FDT38': 18.7,\n",
       " 'FDU49': 19.5,\n",
       " 'FDE53': 10.895,\n",
       " 'FDU43': 19.35,\n",
       " 'FDB17': 13.15,\n",
       " 'NCD07': 9.1,\n",
       " 'FDE17': 20.1,\n",
       " 'FDI02': 15.7,\n",
       " 'FDV32': 7.785,\n",
       " 'FDA35': 14.85,\n",
       " 'FDR23': 15.85,\n",
       " 'FDT58': 9.0,\n",
       " 'FDX35': 5.035,\n",
       " 'FDI04': 13.65,\n",
       " 'NCZ18': 7.825,\n",
       " 'FDC28': 7.905,\n",
       " 'FDY11': 6.71,\n",
       " 'NCF30': 17.0,\n",
       " 'FDL52': 6.635,\n",
       " 'FDT12': 6.215,\n",
       " 'DRH51': 17.6,\n",
       " 'FDQ25': 8.63,\n",
       " 'FDW40': 14.0,\n",
       " 'FDB22': 8.02,\n",
       " 'FDX25': 16.7,\n",
       " 'FDN33': 6.305,\n",
       " 'FDV50': 14.3,\n",
       " 'FDC10': 9.8,\n",
       " 'FDM25': 10.695,\n",
       " 'FDQ34': 10.85,\n",
       " 'FDR46': 16.85,\n",
       " 'NCY29': 13.65,\n",
       " 'FDR16': 5.845,\n",
       " 'FDK22': 9.8,\n",
       " 'DRF36': 16.1,\n",
       " 'FDL12': 15.85,\n",
       " 'FDD39': 16.7,\n",
       " 'FDX13': 7.725,\n",
       " 'FDF10': 15.5,\n",
       " 'FDL34': 16.0,\n",
       " 'FDF57': 14.5,\n",
       " 'DRL23': 18.35,\n",
       " 'FDE38': 6.52,\n",
       " 'FDB04': 11.35,\n",
       " 'NCV05': 10.1,\n",
       " 'FDX48': 17.75,\n",
       " 'FDS02': 10.195,\n",
       " 'FDM20': 10.0,\n",
       " 'FDZ27': 7.935,\n",
       " 'FDU15': 13.65,\n",
       " 'FDR13': 9.895,\n",
       " 'FDA15': 9.3,\n",
       " 'FDA23': 9.8,\n",
       " 'FDT15': 12.15,\n",
       " 'FDB39': 11.6,\n",
       " 'NCV18': 6.775,\n",
       " 'FDL24': 10.3,\n",
       " 'FDV21': 11.5,\n",
       " 'FDS44': 12.65,\n",
       " 'FDN12': 15.6,\n",
       " 'FDY21': 15.1,\n",
       " 'FDW10': 21.2,\n",
       " 'FDQ19': 7.35,\n",
       " 'NCJ17': 7.68,\n",
       " 'FDS23': 4.635,\n",
       " 'FDI35': 14.0,\n",
       " 'FDM32': 20.5,\n",
       " 'NCO54': 19.5,\n",
       " 'FDE20': 11.35,\n",
       " 'FDO46': 9.6,\n",
       " 'NCF54': 18.0,\n",
       " 'FDA48': 12.1,\n",
       " 'FDL45': 15.6,\n",
       " 'FDS49': 9.0,\n",
       " 'FDM03': 12.65,\n",
       " 'FDT14': 10.695,\n",
       " 'FDA21': 13.65,\n",
       " 'DRC49': 8.67,\n",
       " 'FDV47': 17.1,\n",
       " 'NCU29': 7.685,\n",
       " 'FDK48': 7.445,\n",
       " 'DRD27': 18.75,\n",
       " 'NCB07': 19.2,\n",
       " 'FDW38': 5.325,\n",
       " 'NCG42': 19.2,\n",
       " 'FDZ39': 19.7,\n",
       " 'NCZ29': 15.0,\n",
       " 'FDL48': 19.35,\n",
       " 'NCO18': 13.15,\n",
       " 'FDS58': 9.285,\n",
       " 'FDP19': 11.5,\n",
       " 'FDU14': 17.75,\n",
       " 'FDB46': 10.5,\n",
       " 'FDU55': 16.2,\n",
       " 'DRH03': 17.25,\n",
       " 'FDB33': 17.75,\n",
       " 'FDJ33': 8.895,\n",
       " 'FDP11': 15.85,\n",
       " 'FDP12': 9.8,\n",
       " 'FDW20': 20.75,\n",
       " 'NCQ50': 18.75,\n",
       " 'NCO05': 7.27,\n",
       " 'FDA26': 7.855,\n",
       " 'FDJ40': 13.6,\n",
       " 'FDO56': 10.195,\n",
       " 'FDW04': 8.985,\n",
       " 'FDS59': 14.8,\n",
       " 'FDO19': 17.7,\n",
       " 'NCB31': 6.235,\n",
       " 'NCM55': 15.6,\n",
       " 'FDT40': 5.985,\n",
       " 'FDX14': 13.1,\n",
       " 'FDQ32': 17.85,\n",
       " 'FDR19': 13.5,\n",
       " 'FDX12': 18.2,\n",
       " 'FDO16': 5.48,\n",
       " 'FDX02': 16.0,\n",
       " 'FDT26': 18.85,\n",
       " 'FDB50': 13.0,\n",
       " 'FDK57': 10.195,\n",
       " 'FDO31': 6.76,\n",
       " 'NCR18': 15.85,\n",
       " 'FDR49': 8.71,\n",
       " 'FDY09': 15.6,\n",
       " 'FDN31': 11.5,\n",
       " 'DRD01': 12.1,\n",
       " 'FDZ56': 16.25,\n",
       " 'FDQ60': 6.195,\n",
       " 'FDQ33': 13.35,\n",
       " 'FDF16': 7.3,\n",
       " 'FDI27': 8.71,\n",
       " 'FDD02': 16.6,\n",
       " 'NCL17': 7.39,\n",
       " 'FDW37': 19.2,\n",
       " 'FDV01': 19.2,\n",
       " 'FDV31': 9.8,\n",
       " 'FDU48': 18.85,\n",
       " 'FDW01': 14.5,\n",
       " 'FDF04': 17.5,\n",
       " 'FDB58': 10.5,\n",
       " 'FDA32': 14.0,\n",
       " 'FDV38': 19.25,\n",
       " 'FDW36': 11.15,\n",
       " 'NCM07': 9.395,\n",
       " 'FDY47': 8.6,\n",
       " 'NCL41': 12.35,\n",
       " 'FDU24': 6.78,\n",
       " 'FDI41': 18.5,\n",
       " 'NCR30': 20.6,\n",
       " 'DRD24': 13.85,\n",
       " 'FDC15': 18.1,\n",
       " 'FDY32': 7.605,\n",
       " 'FDU11': 4.785,\n",
       " 'DRD60': 15.7,\n",
       " 'FDD26': 8.71,\n",
       " 'FDA40': 16.0,\n",
       " 'FDL43': 10.1,\n",
       " 'FDF26': 6.825,\n",
       " 'FDL03': 19.25,\n",
       " 'FDZ33': 10.195,\n",
       " 'FDP59': 20.85,\n",
       " 'FDZ23': 17.75,\n",
       " 'FDW47': 15.0,\n",
       " 'FDI57': 19.85,\n",
       " 'NCO43': 5.5,\n",
       " 'FDE16': 8.895,\n",
       " 'FDO10': 13.65,\n",
       " 'FDG10': 6.63,\n",
       " 'NCU18': 15.1,\n",
       " 'FDJ52': 7.145,\n",
       " 'FDW13': 8.5,\n",
       " 'NCU17': 5.32,\n",
       " 'FDH53': 20.5,\n",
       " 'DRK35': 8.365,\n",
       " 'FDS56': 5.785,\n",
       " 'FDH16': 10.5,\n",
       " 'FDM52': 15.1,\n",
       " 'FDW02': 4.805,\n",
       " 'FDN52': 9.395,\n",
       " 'DRK11': 8.21,\n",
       " 'NCI30': 20.25,\n",
       " 'FDT02': 12.6,\n",
       " 'DRG25': 10.5,\n",
       " 'DRG27': 8.895,\n",
       " 'FDD16': 20.5,\n",
       " 'NCP14': 8.275,\n",
       " 'FDM13': 6.425,\n",
       " 'FDD51': 11.15,\n",
       " 'FDR26': 20.7,\n",
       " 'FDJ56': 8.985,\n",
       " 'FDO44': 12.6,\n",
       " 'FDL21': 15.85,\n",
       " 'FDY49': 17.2,\n",
       " 'NCU30': 5.11,\n",
       " 'FDK52': 18.25,\n",
       " 'FDH31': 12.0,\n",
       " 'FDN16': 12.6,\n",
       " 'FDT60': 12.0,\n",
       " 'FDL44': 18.25,\n",
       " 'FDQ40': 11.1,\n",
       " 'NCN14': 19.1,\n",
       " 'FDU09': 7.71,\n",
       " 'FDR28': 13.85,\n",
       " 'FDQ48': 14.3,\n",
       " 'DRJ37': 10.8,\n",
       " 'FDP16': 18.6,\n",
       " 'FDZ28': 20.0,\n",
       " 'FDK03': 12.6,\n",
       " 'FDE32': 20.7,\n",
       " 'FDC57': 20.1,\n",
       " 'NCH42': 6.86,\n",
       " 'NCW42': 18.2,\n",
       " 'NCH55': 16.35,\n",
       " 'DRK49': 14.15,\n",
       " 'FDW50': 13.1,\n",
       " 'NCG06': 16.35,\n",
       " 'FDH20': 16.1,\n",
       " 'DRG39': 14.15,\n",
       " 'FDL33': 7.235,\n",
       " 'FDJ45': 17.75,\n",
       " 'FDY08': 9.395,\n",
       " 'NCQ43': 17.75,\n",
       " 'FDN57': 18.25,\n",
       " 'NCJ30': 5.82,\n",
       " 'NCE30': 16.0,\n",
       " 'FDL10': 8.395,\n",
       " 'FDQ46': 7.51,\n",
       " 'FDU33': 7.63,\n",
       " 'DRL47': 19.7,\n",
       " 'FDQ56': 6.59,\n",
       " 'FDK36': 7.09,\n",
       " 'FDD44': 8.05,\n",
       " 'FDT13': 14.85,\n",
       " 'DRI47': 14.7,\n",
       " 'FDU51': 20.2,\n",
       " 'FDU52': 7.56,\n",
       " 'FDR32': 6.78,\n",
       " 'FDT43': 16.35,\n",
       " 'DRN47': 12.1,\n",
       " 'DRJ59': 11.65,\n",
       " 'FDE41': 9.195,\n",
       " 'FDI22': 12.6,\n",
       " 'FDR03': 15.7,\n",
       " 'NCC19': 6.57,\n",
       " 'FDC05': 13.1,\n",
       " 'FDQ31': 5.785,\n",
       " 'FDW59': 13.15,\n",
       " 'FDW08': 12.1,\n",
       " 'NCS05': 11.5,\n",
       " 'FDP60': 17.35,\n",
       " 'FDS13': 6.465,\n",
       " 'NCX53': 20.1,\n",
       " 'FDV35': 19.5,\n",
       " 'NCR54': 16.35,\n",
       " 'FDC14': 14.5,\n",
       " 'NCC18': 19.1,\n",
       " 'DRM11': 6.57,\n",
       " 'FDG04': 13.1,\n",
       " 'DRH39': 20.7,\n",
       " 'FDF14': 7.55,\n",
       " 'FDI60': 7.22,\n",
       " 'FDL57': 15.1,\n",
       " 'FDU21': 11.8,\n",
       " 'FDB51': 6.92,\n",
       " 'FDE50': 19.7,\n",
       " 'FDX39': 14.3,\n",
       " 'FDH27': 7.075,\n",
       " 'FDZ09': 17.6,\n",
       " 'NCY53': 20.0,\n",
       " 'FDI05': 8.35,\n",
       " 'FDP31': 21.1,\n",
       " 'NCM42': 6.13,\n",
       " 'FDZ20': 16.1,\n",
       " 'FDY45': 17.5,\n",
       " 'FDG26': 18.85,\n",
       " 'DRC24': 17.85,\n",
       " 'FDQ11': 5.695,\n",
       " 'NCO14': 9.6,\n",
       " 'FDJ26': 15.3,\n",
       " 'NCP42': 8.51,\n",
       " 'FDW03': 5.63,\n",
       " 'DRA24': 19.35,\n",
       " 'FDN49': 17.25,\n",
       " 'FDC03': 8.575,\n",
       " 'FDC20': 10.65,\n",
       " 'FDX45': 16.75,\n",
       " 'FDV40': 17.35,\n",
       " 'FDS04': 10.195,\n",
       " 'DRZ24': 7.535,\n",
       " 'FDS16': 15.15,\n",
       " 'FDB49': 8.3,\n",
       " 'FDW32': 18.35,\n",
       " 'FDO04': 16.6,\n",
       " 'FDZ32': 7.785,\n",
       " 'FDK50': 7.96,\n",
       " 'FDP33': 18.7,\n",
       " 'FDX19': 19.1,\n",
       " 'FDQ15': 20.35,\n",
       " 'FDC60': 5.425,\n",
       " 'NCR17': 9.8,\n",
       " 'NCV41': 14.35,\n",
       " 'FDC41': 15.6,\n",
       " 'NCI17': 8.645,\n",
       " ...}"
      ]
     },
     "execution_count": 379,
     "metadata": {},
     "output_type": "execute_result"
    }
   ],
   "source": [
    "weights"
   ]
  },
  {
   "cell_type": "code",
   "execution_count": 380,
   "metadata": {
    "collapsed": true
   },
   "outputs": [],
   "source": [
    "New_Weights = []\n",
    "for i in alldata['Item_Identifier']:\n",
    "    a = weights[i]\n",
    "    New_Weights.append(a)\n",
    "    "
   ]
  },
  {
   "cell_type": "code",
   "execution_count": 381,
   "metadata": {
    "collapsed": true
   },
   "outputs": [],
   "source": [
    "New_Weights = pd.Series(New_Weights)"
   ]
  },
  {
   "cell_type": "code",
   "execution_count": 382,
   "metadata": {
    "collapsed": false
   },
   "outputs": [
    {
     "data": {
      "text/plain": [
       "0         9.300\n",
       "1         5.920\n",
       "2        17.500\n",
       "3        19.200\n",
       "4         8.930\n",
       "5        10.395\n",
       "6        13.650\n",
       "7        19.000\n",
       "8        16.200\n",
       "9        19.200\n",
       "10       11.800\n",
       "11       18.500\n",
       "12       15.100\n",
       "13       17.600\n",
       "14       16.350\n",
       "15        9.000\n",
       "16       11.800\n",
       "17        9.000\n",
       "18        8.260\n",
       "19       13.350\n",
       "20       18.850\n",
       "21        8.315\n",
       "22       14.600\n",
       "23       15.500\n",
       "24       13.850\n",
       "25       13.000\n",
       "26        7.645\n",
       "27       11.650\n",
       "28        5.925\n",
       "29       14.500\n",
       "          ...  \n",
       "14174     9.500\n",
       "14175     6.650\n",
       "14176     6.760\n",
       "14177     7.275\n",
       "14178    15.100\n",
       "14179     7.405\n",
       "14180    16.200\n",
       "14181    15.600\n",
       "14182     5.000\n",
       "14183     9.800\n",
       "14184    16.200\n",
       "14185     9.800\n",
       "14186    16.200\n",
       "14187    13.000\n",
       "14188    19.600\n",
       "14189     9.300\n",
       "14190     9.395\n",
       "14191    15.600\n",
       "14192    11.500\n",
       "14193    10.395\n",
       "14194    15.000\n",
       "14195     6.860\n",
       "14196     7.070\n",
       "14197    15.700\n",
       "14198    13.000\n",
       "14199    10.500\n",
       "14200     7.600\n",
       "14201    10.000\n",
       "14202    15.300\n",
       "14203     9.500\n",
       "dtype: float64"
      ]
     },
     "execution_count": 382,
     "metadata": {},
     "output_type": "execute_result"
    }
   ],
   "source": [
    "New_Weights"
   ]
  },
  {
   "cell_type": "code",
   "execution_count": 383,
   "metadata": {
    "collapsed": false
   },
   "outputs": [],
   "source": [
    "alldata.drop('Item_Weight', axis = 1, inplace=True)"
   ]
  },
  {
   "cell_type": "code",
   "execution_count": 384,
   "metadata": {
    "collapsed": false
   },
   "outputs": [
    {
     "data": {
      "text/html": [
       "<div>\n",
       "<table border=\"1\" class=\"dataframe\">\n",
       "  <thead>\n",
       "    <tr style=\"text-align: right;\">\n",
       "      <th></th>\n",
       "      <th>Item_Identifier</th>\n",
       "      <th>Item_Fat_Content</th>\n",
       "      <th>Item_Visibility</th>\n",
       "      <th>Item_Type</th>\n",
       "      <th>Item_MRP</th>\n",
       "      <th>Outlet_Identifier</th>\n",
       "      <th>Outlet_Establishment_Year</th>\n",
       "      <th>Outlet_Size</th>\n",
       "      <th>Outlet_Location_Type</th>\n",
       "      <th>Outlet_Type</th>\n",
       "      <th>Item_Outlet_Sales</th>\n",
       "    </tr>\n",
       "  </thead>\n",
       "  <tbody>\n",
       "    <tr>\n",
       "      <th>0</th>\n",
       "      <td>FDA15</td>\n",
       "      <td>Low Fat</td>\n",
       "      <td>0.016047</td>\n",
       "      <td>Dairy</td>\n",
       "      <td>249.8092</td>\n",
       "      <td>OUT049</td>\n",
       "      <td>1999</td>\n",
       "      <td>Medium</td>\n",
       "      <td>Tier 1</td>\n",
       "      <td>Supermarket Type1</td>\n",
       "      <td>3735.1380</td>\n",
       "    </tr>\n",
       "    <tr>\n",
       "      <th>1</th>\n",
       "      <td>DRC01</td>\n",
       "      <td>Regular</td>\n",
       "      <td>0.019278</td>\n",
       "      <td>Soft Drinks</td>\n",
       "      <td>48.2692</td>\n",
       "      <td>OUT018</td>\n",
       "      <td>2009</td>\n",
       "      <td>Medium</td>\n",
       "      <td>Tier 3</td>\n",
       "      <td>Supermarket Type2</td>\n",
       "      <td>443.4228</td>\n",
       "    </tr>\n",
       "    <tr>\n",
       "      <th>2</th>\n",
       "      <td>FDN15</td>\n",
       "      <td>Low Fat</td>\n",
       "      <td>0.016760</td>\n",
       "      <td>Meat</td>\n",
       "      <td>141.6180</td>\n",
       "      <td>OUT049</td>\n",
       "      <td>1999</td>\n",
       "      <td>Medium</td>\n",
       "      <td>Tier 1</td>\n",
       "      <td>Supermarket Type1</td>\n",
       "      <td>2097.2700</td>\n",
       "    </tr>\n",
       "    <tr>\n",
       "      <th>3</th>\n",
       "      <td>FDX07</td>\n",
       "      <td>Regular</td>\n",
       "      <td>0.000000</td>\n",
       "      <td>Fruits and Vegetables</td>\n",
       "      <td>182.0950</td>\n",
       "      <td>OUT010</td>\n",
       "      <td>1998</td>\n",
       "      <td>NaN</td>\n",
       "      <td>Tier 3</td>\n",
       "      <td>Grocery Store</td>\n",
       "      <td>732.3800</td>\n",
       "    </tr>\n",
       "    <tr>\n",
       "      <th>4</th>\n",
       "      <td>NCD19</td>\n",
       "      <td>Low Fat</td>\n",
       "      <td>0.000000</td>\n",
       "      <td>Household</td>\n",
       "      <td>53.8614</td>\n",
       "      <td>OUT013</td>\n",
       "      <td>1987</td>\n",
       "      <td>High</td>\n",
       "      <td>Tier 3</td>\n",
       "      <td>Supermarket Type1</td>\n",
       "      <td>994.7052</td>\n",
       "    </tr>\n",
       "  </tbody>\n",
       "</table>\n",
       "</div>"
      ],
      "text/plain": [
       "  Item_Identifier Item_Fat_Content  Item_Visibility              Item_Type  \\\n",
       "0           FDA15          Low Fat         0.016047                  Dairy   \n",
       "1           DRC01          Regular         0.019278            Soft Drinks   \n",
       "2           FDN15          Low Fat         0.016760                   Meat   \n",
       "3           FDX07          Regular         0.000000  Fruits and Vegetables   \n",
       "4           NCD19          Low Fat         0.000000              Household   \n",
       "\n",
       "   Item_MRP Outlet_Identifier  Outlet_Establishment_Year Outlet_Size  \\\n",
       "0  249.8092            OUT049                       1999      Medium   \n",
       "1   48.2692            OUT018                       2009      Medium   \n",
       "2  141.6180            OUT049                       1999      Medium   \n",
       "3  182.0950            OUT010                       1998         NaN   \n",
       "4   53.8614            OUT013                       1987        High   \n",
       "\n",
       "  Outlet_Location_Type        Outlet_Type  Item_Outlet_Sales  \n",
       "0               Tier 1  Supermarket Type1          3735.1380  \n",
       "1               Tier 3  Supermarket Type2           443.4228  \n",
       "2               Tier 1  Supermarket Type1          2097.2700  \n",
       "3               Tier 3      Grocery Store           732.3800  \n",
       "4               Tier 3  Supermarket Type1           994.7052  "
      ]
     },
     "execution_count": 384,
     "metadata": {},
     "output_type": "execute_result"
    }
   ],
   "source": [
    "alldata.head()"
   ]
  },
  {
   "cell_type": "code",
   "execution_count": 385,
   "metadata": {
    "collapsed": false
   },
   "outputs": [
    {
     "data": {
      "text/plain": [
       "(14204, 11)"
      ]
     },
     "execution_count": 385,
     "metadata": {},
     "output_type": "execute_result"
    }
   ],
   "source": [
    "alldata.shape"
   ]
  },
  {
   "cell_type": "code",
   "execution_count": 386,
   "metadata": {
    "collapsed": true
   },
   "outputs": [],
   "source": [
    "alldata['Item_weight'] = New_Weights"
   ]
  },
  {
   "cell_type": "code",
   "execution_count": 387,
   "metadata": {
    "collapsed": false
   },
   "outputs": [
    {
     "data": {
      "text/plain": [
       "(14204, 12)"
      ]
     },
     "execution_count": 387,
     "metadata": {},
     "output_type": "execute_result"
    }
   ],
   "source": [
    "alldata.shape"
   ]
  },
  {
   "cell_type": "code",
   "execution_count": 388,
   "metadata": {
    "collapsed": false
   },
   "outputs": [
    {
     "data": {
      "text/html": [
       "<div>\n",
       "<table border=\"1\" class=\"dataframe\">\n",
       "  <thead>\n",
       "    <tr style=\"text-align: right;\">\n",
       "      <th></th>\n",
       "      <th>Item_Identifier</th>\n",
       "      <th>Item_Fat_Content</th>\n",
       "      <th>Item_Visibility</th>\n",
       "      <th>Item_Type</th>\n",
       "      <th>Item_MRP</th>\n",
       "      <th>Outlet_Identifier</th>\n",
       "      <th>Outlet_Establishment_Year</th>\n",
       "      <th>Outlet_Size</th>\n",
       "      <th>Outlet_Location_Type</th>\n",
       "      <th>Outlet_Type</th>\n",
       "      <th>Item_Outlet_Sales</th>\n",
       "      <th>Item_weight</th>\n",
       "    </tr>\n",
       "  </thead>\n",
       "  <tbody>\n",
       "    <tr>\n",
       "      <th>0</th>\n",
       "      <td>FDA15</td>\n",
       "      <td>Low Fat</td>\n",
       "      <td>0.016047</td>\n",
       "      <td>Dairy</td>\n",
       "      <td>249.8092</td>\n",
       "      <td>OUT049</td>\n",
       "      <td>1999</td>\n",
       "      <td>Medium</td>\n",
       "      <td>Tier 1</td>\n",
       "      <td>Supermarket Type1</td>\n",
       "      <td>3735.1380</td>\n",
       "      <td>9.30</td>\n",
       "    </tr>\n",
       "    <tr>\n",
       "      <th>1</th>\n",
       "      <td>DRC01</td>\n",
       "      <td>Regular</td>\n",
       "      <td>0.019278</td>\n",
       "      <td>Soft Drinks</td>\n",
       "      <td>48.2692</td>\n",
       "      <td>OUT018</td>\n",
       "      <td>2009</td>\n",
       "      <td>Medium</td>\n",
       "      <td>Tier 3</td>\n",
       "      <td>Supermarket Type2</td>\n",
       "      <td>443.4228</td>\n",
       "      <td>5.92</td>\n",
       "    </tr>\n",
       "    <tr>\n",
       "      <th>2</th>\n",
       "      <td>FDN15</td>\n",
       "      <td>Low Fat</td>\n",
       "      <td>0.016760</td>\n",
       "      <td>Meat</td>\n",
       "      <td>141.6180</td>\n",
       "      <td>OUT049</td>\n",
       "      <td>1999</td>\n",
       "      <td>Medium</td>\n",
       "      <td>Tier 1</td>\n",
       "      <td>Supermarket Type1</td>\n",
       "      <td>2097.2700</td>\n",
       "      <td>17.50</td>\n",
       "    </tr>\n",
       "    <tr>\n",
       "      <th>3</th>\n",
       "      <td>FDX07</td>\n",
       "      <td>Regular</td>\n",
       "      <td>0.000000</td>\n",
       "      <td>Fruits and Vegetables</td>\n",
       "      <td>182.0950</td>\n",
       "      <td>OUT010</td>\n",
       "      <td>1998</td>\n",
       "      <td>NaN</td>\n",
       "      <td>Tier 3</td>\n",
       "      <td>Grocery Store</td>\n",
       "      <td>732.3800</td>\n",
       "      <td>19.20</td>\n",
       "    </tr>\n",
       "    <tr>\n",
       "      <th>4</th>\n",
       "      <td>NCD19</td>\n",
       "      <td>Low Fat</td>\n",
       "      <td>0.000000</td>\n",
       "      <td>Household</td>\n",
       "      <td>53.8614</td>\n",
       "      <td>OUT013</td>\n",
       "      <td>1987</td>\n",
       "      <td>High</td>\n",
       "      <td>Tier 3</td>\n",
       "      <td>Supermarket Type1</td>\n",
       "      <td>994.7052</td>\n",
       "      <td>8.93</td>\n",
       "    </tr>\n",
       "  </tbody>\n",
       "</table>\n",
       "</div>"
      ],
      "text/plain": [
       "  Item_Identifier Item_Fat_Content  Item_Visibility              Item_Type  \\\n",
       "0           FDA15          Low Fat         0.016047                  Dairy   \n",
       "1           DRC01          Regular         0.019278            Soft Drinks   \n",
       "2           FDN15          Low Fat         0.016760                   Meat   \n",
       "3           FDX07          Regular         0.000000  Fruits and Vegetables   \n",
       "4           NCD19          Low Fat         0.000000              Household   \n",
       "\n",
       "   Item_MRP Outlet_Identifier  Outlet_Establishment_Year Outlet_Size  \\\n",
       "0  249.8092            OUT049                       1999      Medium   \n",
       "1   48.2692            OUT018                       2009      Medium   \n",
       "2  141.6180            OUT049                       1999      Medium   \n",
       "3  182.0950            OUT010                       1998         NaN   \n",
       "4   53.8614            OUT013                       1987        High   \n",
       "\n",
       "  Outlet_Location_Type        Outlet_Type  Item_Outlet_Sales  Item_weight  \n",
       "0               Tier 1  Supermarket Type1          3735.1380         9.30  \n",
       "1               Tier 3  Supermarket Type2           443.4228         5.92  \n",
       "2               Tier 1  Supermarket Type1          2097.2700        17.50  \n",
       "3               Tier 3      Grocery Store           732.3800        19.20  \n",
       "4               Tier 3  Supermarket Type1           994.7052         8.93  "
      ]
     },
     "execution_count": 388,
     "metadata": {},
     "output_type": "execute_result"
    }
   ],
   "source": [
    "alldata.head()"
   ]
  },
  {
   "cell_type": "code",
   "execution_count": 389,
   "metadata": {
    "collapsed": false
   },
   "outputs": [],
   "source": [
    "alldata = alldata[['Item_Identifier', 'Item_weight', 'Item_Fat_Content', 'Item_Visibility', 'Item_Type', 'Item_MRP', 'Outlet_Identifier', 'Outlet_Establishment_Year', 'Outlet_Size', 'Outlet_Location_Type', 'Outlet_Type','Item_Outlet_Sales']]"
   ]
  },
  {
   "cell_type": "code",
   "execution_count": 390,
   "metadata": {
    "collapsed": false
   },
   "outputs": [
    {
     "data": {
      "text/html": [
       "<div>\n",
       "<table border=\"1\" class=\"dataframe\">\n",
       "  <thead>\n",
       "    <tr style=\"text-align: right;\">\n",
       "      <th></th>\n",
       "      <th>Item_Identifier</th>\n",
       "      <th>Item_weight</th>\n",
       "      <th>Item_Fat_Content</th>\n",
       "      <th>Item_Visibility</th>\n",
       "      <th>Item_Type</th>\n",
       "      <th>Item_MRP</th>\n",
       "      <th>Outlet_Identifier</th>\n",
       "      <th>Outlet_Establishment_Year</th>\n",
       "      <th>Outlet_Size</th>\n",
       "      <th>Outlet_Location_Type</th>\n",
       "      <th>Outlet_Type</th>\n",
       "      <th>Item_Outlet_Sales</th>\n",
       "    </tr>\n",
       "  </thead>\n",
       "  <tbody>\n",
       "    <tr>\n",
       "      <th>59</th>\n",
       "      <td>FDI26</td>\n",
       "      <td>5.94</td>\n",
       "      <td>Low Fat</td>\n",
       "      <td>0.061082</td>\n",
       "      <td>Canned</td>\n",
       "      <td>180.0344</td>\n",
       "      <td>OUT019</td>\n",
       "      <td>1985</td>\n",
       "      <td>Small</td>\n",
       "      <td>Tier 1</td>\n",
       "      <td>Grocery Store</td>\n",
       "      <td>892.1720</td>\n",
       "    </tr>\n",
       "    <tr>\n",
       "      <th>2999</th>\n",
       "      <td>FDI26</td>\n",
       "      <td>5.94</td>\n",
       "      <td>Low Fat</td>\n",
       "      <td>0.035084</td>\n",
       "      <td>Canned</td>\n",
       "      <td>176.4344</td>\n",
       "      <td>OUT017</td>\n",
       "      <td>2007</td>\n",
       "      <td>NaN</td>\n",
       "      <td>Tier 2</td>\n",
       "      <td>Supermarket Type1</td>\n",
       "      <td>2141.2128</td>\n",
       "    </tr>\n",
       "    <tr>\n",
       "      <th>3624</th>\n",
       "      <td>FDI26</td>\n",
       "      <td>5.94</td>\n",
       "      <td>Low Fat</td>\n",
       "      <td>0.034941</td>\n",
       "      <td>Canned</td>\n",
       "      <td>177.3344</td>\n",
       "      <td>OUT049</td>\n",
       "      <td>1999</td>\n",
       "      <td>Medium</td>\n",
       "      <td>Tier 1</td>\n",
       "      <td>Supermarket Type1</td>\n",
       "      <td>1605.9096</td>\n",
       "    </tr>\n",
       "    <tr>\n",
       "      <th>5588</th>\n",
       "      <td>FDI26</td>\n",
       "      <td>5.94</td>\n",
       "      <td>Low Fat</td>\n",
       "      <td>0.034957</td>\n",
       "      <td>Canned</td>\n",
       "      <td>177.1344</td>\n",
       "      <td>OUT045</td>\n",
       "      <td>2002</td>\n",
       "      <td>NaN</td>\n",
       "      <td>Tier 2</td>\n",
       "      <td>Supermarket Type1</td>\n",
       "      <td>2854.9504</td>\n",
       "    </tr>\n",
       "    <tr>\n",
       "      <th>6141</th>\n",
       "      <td>FDI26</td>\n",
       "      <td>5.94</td>\n",
       "      <td>Low Fat</td>\n",
       "      <td>0.034880</td>\n",
       "      <td>Canned</td>\n",
       "      <td>177.9344</td>\n",
       "      <td>OUT035</td>\n",
       "      <td>2004</td>\n",
       "      <td>Small</td>\n",
       "      <td>Tier 2</td>\n",
       "      <td>Supermarket Type1</td>\n",
       "      <td>4460.8600</td>\n",
       "    </tr>\n",
       "    <tr>\n",
       "      <th>7592</th>\n",
       "      <td>FDI26</td>\n",
       "      <td>5.94</td>\n",
       "      <td>Low Fat</td>\n",
       "      <td>0.034718</td>\n",
       "      <td>Canned</td>\n",
       "      <td>179.4344</td>\n",
       "      <td>OUT027</td>\n",
       "      <td>1985</td>\n",
       "      <td>Medium</td>\n",
       "      <td>Tier 3</td>\n",
       "      <td>Supermarket Type3</td>\n",
       "      <td>6066.7696</td>\n",
       "    </tr>\n",
       "    <tr>\n",
       "      <th>7686</th>\n",
       "      <td>FDI26</td>\n",
       "      <td>5.94</td>\n",
       "      <td>Low Fat</td>\n",
       "      <td>0.035029</td>\n",
       "      <td>Canned</td>\n",
       "      <td>179.8344</td>\n",
       "      <td>OUT018</td>\n",
       "      <td>2009</td>\n",
       "      <td>Medium</td>\n",
       "      <td>Tier 3</td>\n",
       "      <td>Supermarket Type2</td>\n",
       "      <td>1249.0408</td>\n",
       "    </tr>\n",
       "    <tr>\n",
       "      <th>12175</th>\n",
       "      <td>FDI26</td>\n",
       "      <td>5.94</td>\n",
       "      <td>Low Fat</td>\n",
       "      <td>0.034887</td>\n",
       "      <td>Canned</td>\n",
       "      <td>177.7344</td>\n",
       "      <td>OUT046</td>\n",
       "      <td>1997</td>\n",
       "      <td>Small</td>\n",
       "      <td>Tier 1</td>\n",
       "      <td>Supermarket Type1</td>\n",
       "      <td>0.0000</td>\n",
       "    </tr>\n",
       "    <tr>\n",
       "      <th>13480</th>\n",
       "      <td>FDI26</td>\n",
       "      <td>5.94</td>\n",
       "      <td>Low Fat</td>\n",
       "      <td>0.034858</td>\n",
       "      <td>Canned</td>\n",
       "      <td>180.4344</td>\n",
       "      <td>OUT013</td>\n",
       "      <td>1987</td>\n",
       "      <td>High</td>\n",
       "      <td>Tier 3</td>\n",
       "      <td>Supermarket Type1</td>\n",
       "      <td>0.0000</td>\n",
       "    </tr>\n",
       "  </tbody>\n",
       "</table>\n",
       "</div>"
      ],
      "text/plain": [
       "      Item_Identifier  Item_weight Item_Fat_Content  Item_Visibility  \\\n",
       "59              FDI26         5.94          Low Fat         0.061082   \n",
       "2999            FDI26         5.94          Low Fat         0.035084   \n",
       "3624            FDI26         5.94          Low Fat         0.034941   \n",
       "5588            FDI26         5.94          Low Fat         0.034957   \n",
       "6141            FDI26         5.94          Low Fat         0.034880   \n",
       "7592            FDI26         5.94          Low Fat         0.034718   \n",
       "7686            FDI26         5.94          Low Fat         0.035029   \n",
       "12175           FDI26         5.94          Low Fat         0.034887   \n",
       "13480           FDI26         5.94          Low Fat         0.034858   \n",
       "\n",
       "      Item_Type  Item_MRP Outlet_Identifier  Outlet_Establishment_Year  \\\n",
       "59       Canned  180.0344            OUT019                       1985   \n",
       "2999     Canned  176.4344            OUT017                       2007   \n",
       "3624     Canned  177.3344            OUT049                       1999   \n",
       "5588     Canned  177.1344            OUT045                       2002   \n",
       "6141     Canned  177.9344            OUT035                       2004   \n",
       "7592     Canned  179.4344            OUT027                       1985   \n",
       "7686     Canned  179.8344            OUT018                       2009   \n",
       "12175    Canned  177.7344            OUT046                       1997   \n",
       "13480    Canned  180.4344            OUT013                       1987   \n",
       "\n",
       "      Outlet_Size Outlet_Location_Type        Outlet_Type  Item_Outlet_Sales  \n",
       "59          Small               Tier 1      Grocery Store           892.1720  \n",
       "2999          NaN               Tier 2  Supermarket Type1          2141.2128  \n",
       "3624       Medium               Tier 1  Supermarket Type1          1605.9096  \n",
       "5588          NaN               Tier 2  Supermarket Type1          2854.9504  \n",
       "6141        Small               Tier 2  Supermarket Type1          4460.8600  \n",
       "7592       Medium               Tier 3  Supermarket Type3          6066.7696  \n",
       "7686       Medium               Tier 3  Supermarket Type2          1249.0408  \n",
       "12175       Small               Tier 1  Supermarket Type1             0.0000  \n",
       "13480        High               Tier 3  Supermarket Type1             0.0000  "
      ]
     },
     "execution_count": 390,
     "metadata": {},
     "output_type": "execute_result"
    }
   ],
   "source": [
    "alldata[alldata.Item_Identifier == 'FDI26']"
   ]
  },
  {
   "cell_type": "markdown",
   "metadata": {},
   "source": [
    "# Explore other columns"
   ]
  },
  {
   "cell_type": "code",
   "execution_count": 391,
   "metadata": {
    "collapsed": false
   },
   "outputs": [
    {
     "data": {
      "text/plain": [
       "count       14204\n",
       "unique          5\n",
       "top       Low Fat\n",
       "freq         8485\n",
       "Name: Item_Fat_Content, dtype: object"
      ]
     },
     "execution_count": 391,
     "metadata": {},
     "output_type": "execute_result"
    }
   ],
   "source": [
    "#Item Fat Content\n",
    "alldata['Item_Fat_Content'].describe()"
   ]
  },
  {
   "cell_type": "code",
   "execution_count": 392,
   "metadata": {
    "collapsed": false
   },
   "outputs": [
    {
     "data": {
      "text/plain": [
       "array(['Low Fat', 'Regular', 'low fat', 'LF', 'reg'], dtype=object)"
      ]
     },
     "execution_count": 392,
     "metadata": {},
     "output_type": "execute_result"
    }
   ],
   "source": [
    "alldata['Item_Fat_Content'].unique()"
   ]
  },
  {
   "cell_type": "code",
   "execution_count": 393,
   "metadata": {
    "collapsed": true
   },
   "outputs": [],
   "source": [
    "#Low Fat, low fat, LF are all same and reg, Regular as well. So replace them\n",
    "alldata['Item_Fat_Content'].replace({'low fat' : 'Low Fat', 'LF':'Low Fat', 'reg':'Regular'}, inplace = True)"
   ]
  },
  {
   "cell_type": "code",
   "execution_count": 394,
   "metadata": {
    "collapsed": false
   },
   "outputs": [
    {
     "data": {
      "text/plain": [
       "array(['Low Fat', 'Regular'], dtype=object)"
      ]
     },
     "execution_count": 394,
     "metadata": {},
     "output_type": "execute_result"
    }
   ],
   "source": [
    "alldata['Item_Fat_Content'].unique()"
   ]
  },
  {
   "cell_type": "code",
   "execution_count": 395,
   "metadata": {
    "collapsed": false
   },
   "outputs": [
    {
     "data": {
      "text/plain": [
       "Low Fat    9185\n",
       "Regular    5019\n",
       "Name: Item_Fat_Content, dtype: int64"
      ]
     },
     "execution_count": 395,
     "metadata": {},
     "output_type": "execute_result"
    }
   ],
   "source": [
    "# Look at the frequency of each type of item\n",
    "alldata['Item_Fat_Content'].value_counts()"
   ]
  },
  {
   "cell_type": "code",
   "execution_count": 396,
   "metadata": {
    "collapsed": true
   },
   "outputs": [],
   "source": [
    "import seaborn as sns\n",
    "import matplotlib.pyplot as plt\n",
    "%matplotlib inline"
   ]
  },
  {
   "cell_type": "code",
   "execution_count": 397,
   "metadata": {
    "collapsed": false
   },
   "outputs": [
    {
     "data": {
      "text/plain": [
       "<matplotlib.axes._subplots.AxesSubplot at 0x11e15ef82b0>"
      ]
     },
     "execution_count": 397,
     "metadata": {},
     "output_type": "execute_result"
    },
    {
     "data": {
      "image/png": "[encoded data removed]",
      "text/plain": [
       "<matplotlib.figure.Figure at 0x11e1072cf98>"
      ]
     },
     "metadata": {},
     "output_type": "display_data"
    }
   ],
   "source": [
    "sns.countplot(x = 'Item_Fat_Content', hue = 'Outlet_Type', data=alldata)"
   ]
  },
  {
   "cell_type": "code",
   "execution_count": 398,
   "metadata": {
    "collapsed": false
   },
   "outputs": [
    {
     "data": {
      "text/plain": [
       "<matplotlib.axes._subplots.AxesSubplot at 0x11e15614630>"
      ]
     },
     "execution_count": 398,
     "metadata": {},
     "output_type": "execute_result"
    },
    {
     "data": {
      "image/png": "[encoded data removed]",
      "text/plain": [
       "<matplotlib.figure.Figure at 0x11e1566c748>"
      ]
     },
     "metadata": {},
     "output_type": "display_data"
    }
   ],
   "source": [
    "sns.countplot(x = 'Item_Fat_Content', hue = 'Outlet_Location_Type', data=alldata)"
   ]
  },
  {
   "cell_type": "markdown",
   "metadata": {},
   "source": [
    "# Item Identifier"
   ]
  },
  {
   "cell_type": "code",
   "execution_count": 399,
   "metadata": {
    "collapsed": false
   },
   "outputs": [
    {
     "data": {
      "text/plain": [
       "count     14204\n",
       "unique     1559\n",
       "top       FDZ23\n",
       "freq         10\n",
       "Name: Item_Identifier, dtype: object"
      ]
     },
     "execution_count": 399,
     "metadata": {},
     "output_type": "execute_result"
    }
   ],
   "source": [
    "alldata['Item_Identifier'].describe()"
   ]
  },
  {
   "cell_type": "markdown",
   "metadata": {},
   "source": [
    "# ITEM MRP"
   ]
  },
  {
   "cell_type": "code",
   "execution_count": 400,
   "metadata": {
    "collapsed": false
   },
   "outputs": [
    {
     "data": {
      "text/plain": [
       "count    14204.000000\n",
       "mean       141.004977\n",
       "std         62.086938\n",
       "min         31.290000\n",
       "25%         94.012000\n",
       "50%        142.247000\n",
       "75%        185.855600\n",
       "max        266.888400\n",
       "Name: Item_MRP, dtype: float64"
      ]
     },
     "execution_count": 400,
     "metadata": {},
     "output_type": "execute_result"
    }
   ],
   "source": [
    "# Explore another feature\n",
    "alldata['Item_MRP'].describe()"
   ]
  },
  {
   "cell_type": "code",
   "execution_count": 401,
   "metadata": {
    "collapsed": false
   },
   "outputs": [
    {
     "data": {
      "text/plain": [
       "<matplotlib.axes._subplots.AxesSubplot at 0x11e15687780>"
      ]
     },
     "execution_count": 401,
     "metadata": {},
     "output_type": "execute_result"
    },
    {
     "data": {
      "image/png": "[encoded data removed]",
      "text/plain": [
       "<matplotlib.figure.Figure at 0x11e156de7b8>"
      ]
     },
     "metadata": {},
     "output_type": "display_data"
    }
   ],
   "source": [
    "alldata['Item_MRP'].hist()"
   ]
  },
  {
   "cell_type": "markdown",
   "metadata": {},
   "source": [
    "# Item Type"
   ]
  },
  {
   "cell_type": "code",
   "execution_count": 402,
   "metadata": {
    "collapsed": false
   },
   "outputs": [
    {
     "data": {
      "text/plain": [
       "count                     14204\n",
       "unique                       16\n",
       "top       Fruits and Vegetables\n",
       "freq                       2013\n",
       "Name: Item_Type, dtype: object"
      ]
     },
     "execution_count": 402,
     "metadata": {},
     "output_type": "execute_result"
    }
   ],
   "source": [
    "#Select another feature\n",
    "alldata['Item_Type'].describe()"
   ]
  },
  {
   "cell_type": "code",
   "execution_count": 403,
   "metadata": {
    "collapsed": false
   },
   "outputs": [
    {
     "data": {
      "text/plain": [
       "array(['Dairy', 'Soft Drinks', 'Meat', 'Fruits and Vegetables',\n",
       "       'Household', 'Baking Goods', 'Snack Foods', 'Frozen Foods',\n",
       "       'Breakfast', 'Health and Hygiene', 'Hard Drinks', 'Canned',\n",
       "       'Breads', 'Starchy Foods', 'Others', 'Seafood'], dtype=object)"
      ]
     },
     "execution_count": 403,
     "metadata": {},
     "output_type": "execute_result"
    }
   ],
   "source": [
    "#See all the unique items that we are selling\n",
    "alldata['Item_Type'].unique()"
   ]
  },
  {
   "cell_type": "code",
   "execution_count": 404,
   "metadata": {
    "collapsed": false
   },
   "outputs": [
    {
     "data": {
      "text/plain": [
       "Fruits and Vegetables    2013\n",
       "Snack Foods              1989\n",
       "Household                1548\n",
       "Frozen Foods             1426\n",
       "Dairy                    1136\n",
       "Baking Goods             1086\n",
       "Canned                   1084\n",
       "Health and Hygiene        858\n",
       "Meat                      736\n",
       "Soft Drinks               726\n",
       "Breads                    416\n",
       "Hard Drinks               362\n",
       "Others                    280\n",
       "Starchy Foods             269\n",
       "Breakfast                 186\n",
       "Seafood                    89\n",
       "Name: Item_Type, dtype: int64"
      ]
     },
     "execution_count": 404,
     "metadata": {},
     "output_type": "execute_result"
    }
   ],
   "source": [
    "alldata['Item_Type'].value_counts()"
   ]
  },
  {
   "cell_type": "code",
   "execution_count": 405,
   "metadata": {
    "collapsed": false
   },
   "outputs": [
    {
     "data": {
      "text/plain": [
       "<matplotlib.axes._subplots.AxesSubplot at 0x11e15666fd0>"
      ]
     },
     "execution_count": 405,
     "metadata": {},
     "output_type": "execute_result"
    },
    {
     "data": {
      "image/png": "[encoded data removed]",
      "text/plain": [
       "<matplotlib.figure.Figure at 0x11e156ffc50>"
      ]
     },
     "metadata": {},
     "output_type": "display_data"
    }
   ],
   "source": [
    "alldata.Item_Type.value_counts().plot(kind='bar')"
   ]
  },
  {
   "cell_type": "markdown",
   "metadata": {
    "collapsed": true
   },
   "source": [
    "# Item Visibility"
   ]
  },
  {
   "cell_type": "code",
   "execution_count": 406,
   "metadata": {
    "collapsed": false
   },
   "outputs": [
    {
     "data": {
      "text/plain": [
       "count    14204.000000\n",
       "mean         0.065953\n",
       "std          0.051459\n",
       "min          0.000000\n",
       "25%          0.027036\n",
       "50%          0.054021\n",
       "75%          0.094037\n",
       "max          0.328391\n",
       "Name: Item_Visibility, dtype: float64"
      ]
     },
     "execution_count": 406,
     "metadata": {},
     "output_type": "execute_result"
    }
   ],
   "source": [
    "alldata['Item_Visibility'].describe()"
   ]
  },
  {
   "cell_type": "code",
   "execution_count": 407,
   "metadata": {
    "collapsed": false
   },
   "outputs": [
    {
     "data": {
      "text/plain": [
       "879"
      ]
     },
     "execution_count": 407,
     "metadata": {},
     "output_type": "execute_result"
    }
   ],
   "source": [
    "#To check number of rows where item visibility is 0\n",
    "(alldata.loc[(alldata['Item_Visibility'] == 0), 'Item_Visibility']).count()"
   ]
  },
  {
   "cell_type": "code",
   "execution_count": 408,
   "metadata": {
    "collapsed": false
   },
   "outputs": [
    {
     "data": {
      "text/plain": [
       "0.06595278007399345"
      ]
     },
     "execution_count": 408,
     "metadata": {},
     "output_type": "execute_result"
    }
   ],
   "source": [
    "alldata.Item_Visibility.mean()"
   ]
  },
  {
   "cell_type": "code",
   "execution_count": 409,
   "metadata": {
    "collapsed": false
   },
   "outputs": [
    {
     "data": {
      "text/plain": [
       "Item_Identifier\n",
       "DRA12    0.034938\n",
       "DRA24    0.045646\n",
       "DRA59    0.133384\n",
       "DRB01    0.079736\n",
       "DRB13    0.006799\n",
       "Name: Item_Visibility, dtype: float64"
      ]
     },
     "execution_count": 409,
     "metadata": {},
     "output_type": "execute_result"
    }
   ],
   "source": [
    "#To find out itemwise mean visibility and impute wrt each item\n",
    "itemwisemeanvisibility = alldata.groupby('Item_Identifier').Item_Visibility.mean()\n",
    "itemwisemeanvisibility.head()"
   ]
  },
  {
   "cell_type": "code",
   "execution_count": 410,
   "metadata": {
    "collapsed": false
   },
   "outputs": [
    {
     "data": {
      "text/plain": [
       "0    False\n",
       "1    False\n",
       "2    False\n",
       "3     True\n",
       "4     True\n",
       "Name: Item_Visibility, dtype: bool"
      ]
     },
     "execution_count": 410,
     "metadata": {},
     "output_type": "execute_result"
    }
   ],
   "source": [
    "#Find out all rows where visibility = 0\n",
    "mask = alldata['Item_Visibility']==0\n",
    "mask.head()"
   ]
  },
  {
   "cell_type": "code",
   "execution_count": 411,
   "metadata": {
    "collapsed": false
   },
   "outputs": [],
   "source": [
    "#Fill 0's with mean visibility by the same item identifier which is unique\n",
    "alldata.loc[mask,'Item_Visibility'] = itemwisemeanvisibility[alldata.loc[mask, 'Item_Identifier']].values"
   ]
  },
  {
   "cell_type": "code",
   "execution_count": 412,
   "metadata": {
    "collapsed": false
   },
   "outputs": [
    {
     "data": {
      "text/plain": [
       "count    14204.000000\n",
       "mean         0.069710\n",
       "std          0.049728\n",
       "min          0.003575\n",
       "25%          0.031145\n",
       "50%          0.057194\n",
       "75%          0.096930\n",
       "max          0.328391\n",
       "Name: Item_Visibility, dtype: float64"
      ]
     },
     "execution_count": 412,
     "metadata": {},
     "output_type": "execute_result"
    }
   ],
   "source": [
    "#Checking item visibility again\n",
    "alldata.Item_Visibility.describe()"
   ]
  },
  {
   "cell_type": "markdown",
   "metadata": {},
   "source": [
    "# Establishment year"
   ]
  },
  {
   "cell_type": "code",
   "execution_count": 413,
   "metadata": {
    "collapsed": false
   },
   "outputs": [
    {
     "data": {
      "text/plain": [
       "0        1999\n",
       "1        2009\n",
       "2        1999\n",
       "3        1998\n",
       "4        1987\n",
       "5        2009\n",
       "6        1987\n",
       "7        1985\n",
       "8        2002\n",
       "9        2007\n",
       "10       1999\n",
       "11       1997\n",
       "12       1999\n",
       "13       1997\n",
       "14       1987\n",
       "15       1997\n",
       "16       2009\n",
       "17       1999\n",
       "18       1985\n",
       "19       2004\n",
       "20       1987\n",
       "21       1985\n",
       "22       2004\n",
       "23       1985\n",
       "24       1997\n",
       "25       2007\n",
       "26       2004\n",
       "27       1987\n",
       "28       1998\n",
       "29       1985\n",
       "         ... \n",
       "14174    1987\n",
       "14175    2002\n",
       "14176    2004\n",
       "14177    1987\n",
       "14178    1985\n",
       "14179    1985\n",
       "14180    1997\n",
       "14181    1987\n",
       "14182    1999\n",
       "14183    1987\n",
       "14184    1985\n",
       "14185    2007\n",
       "14186    2009\n",
       "14187    2009\n",
       "14188    1985\n",
       "14189    1997\n",
       "14190    1997\n",
       "14191    1998\n",
       "14192    1985\n",
       "14193    2007\n",
       "14194    1999\n",
       "14195    1999\n",
       "14196    2009\n",
       "14197    1997\n",
       "14198    1999\n",
       "14199    1997\n",
       "14200    2009\n",
       "14201    2002\n",
       "14202    2007\n",
       "14203    2002\n",
       "Name: Outlet_Establishment_Year, dtype: int64"
      ]
     },
     "execution_count": 413,
     "metadata": {},
     "output_type": "execute_result"
    }
   ],
   "source": [
    "alldata['Outlet_Establishment_Year']"
   ]
  },
  {
   "cell_type": "code",
   "execution_count": 414,
   "metadata": {
    "collapsed": true
   },
   "outputs": [],
   "source": [
    "#Update the age instead of using year of establishment\n",
    "alldata['Outlet_Establishment_Year'] = 2016 - alldata['Outlet_Establishment_Year']"
   ]
  },
  {
   "cell_type": "markdown",
   "metadata": {},
   "source": [
    "# Outlet Identifier"
   ]
  },
  {
   "cell_type": "code",
   "execution_count": 415,
   "metadata": {
    "collapsed": false
   },
   "outputs": [
    {
     "data": {
      "text/plain": [
       "0"
      ]
     },
     "execution_count": 415,
     "metadata": {},
     "output_type": "execute_result"
    }
   ],
   "source": [
    "#Data looks good, hence no changes required\n",
    "alldata['Outlet_Identifier'].isnull().sum()"
   ]
  },
  {
   "cell_type": "code",
   "execution_count": 416,
   "metadata": {
    "collapsed": false
   },
   "outputs": [
    {
     "data": {
      "text/plain": [
       "OUT027    1559\n",
       "OUT013    1553\n",
       "OUT046    1550\n",
       "OUT035    1550\n",
       "OUT049    1550\n",
       "OUT045    1548\n",
       "OUT018    1546\n",
       "OUT017    1543\n",
       "OUT010     925\n",
       "OUT019     880\n",
       "Name: Outlet_Identifier, dtype: int64"
      ]
     },
     "execution_count": 416,
     "metadata": {},
     "output_type": "execute_result"
    }
   ],
   "source": [
    "alldata['Outlet_Identifier'].value_counts()"
   ]
  },
  {
   "cell_type": "markdown",
   "metadata": {},
   "source": [
    "# Outlet location type"
   ]
  },
  {
   "cell_type": "code",
   "execution_count": 417,
   "metadata": {
    "collapsed": false
   },
   "outputs": [
    {
     "data": {
      "text/plain": [
       "0    Tier 1\n",
       "1    Tier 3\n",
       "2    Tier 1\n",
       "3    Tier 3\n",
       "4    Tier 3\n",
       "Name: Outlet_Location_Type, dtype: object"
      ]
     },
     "execution_count": 417,
     "metadata": {},
     "output_type": "execute_result"
    }
   ],
   "source": [
    "#This data as well looks good and hence no need to change\n",
    "alldata['Outlet_Location_Type'].head()"
   ]
  },
  {
   "cell_type": "markdown",
   "metadata": {},
   "source": [
    "# Imputing Outlet size feature"
   ]
  },
  {
   "cell_type": "code",
   "execution_count": 418,
   "metadata": {
    "collapsed": false
   },
   "outputs": [
    {
     "data": {
      "text/plain": [
       "4016"
      ]
     },
     "execution_count": 418,
     "metadata": {},
     "output_type": "execute_result"
    }
   ],
   "source": [
    "#Check number of null values\n",
    "alldata['Outlet_Size'].isnull().sum()"
   ]
  },
  {
   "cell_type": "code",
   "execution_count": 419,
   "metadata": {
    "collapsed": false
   },
   "outputs": [
    {
     "data": {
      "text/plain": [
       "array(['Medium', nan, 'High', 'Small'], dtype=object)"
      ]
     },
     "execution_count": 419,
     "metadata": {},
     "output_type": "execute_result"
    }
   ],
   "source": [
    "#Check unique count\n",
    "alldata['Outlet_Size'].unique()"
   ]
  },
  {
   "cell_type": "code",
   "execution_count": 420,
   "metadata": {
    "collapsed": false
   },
   "outputs": [
    {
     "data": {
      "text/plain": [
       "Medium    4655\n",
       "Small     3980\n",
       "High      1553\n",
       "Name: Outlet_Size, dtype: int64"
      ]
     },
     "execution_count": 420,
     "metadata": {},
     "output_type": "execute_result"
    }
   ],
   "source": [
    "#Check frequency of each type of outlet size\n",
    "alldata['Outlet_Size'].value_counts()"
   ]
  },
  {
   "cell_type": "code",
   "execution_count": 421,
   "metadata": {
    "collapsed": false
   },
   "outputs": [
    {
     "data": {
      "text/plain": [
       "Outlet_Size  Outlet_Type      \n",
       "High         Supermarket Type1    1553\n",
       "Medium       Supermarket Type3    1559\n",
       "             Supermarket Type1    1550\n",
       "             Supermarket Type2    1546\n",
       "Small        Supermarket Type1    3100\n",
       "             Grocery Store         880\n",
       "Name: Outlet_Type, dtype: int64"
      ]
     },
     "execution_count": 421,
     "metadata": {},
     "output_type": "execute_result"
    }
   ],
   "source": [
    "alldata.groupby('Outlet_Size').Outlet_Type.value_counts()"
   ]
  },
  {
   "cell_type": "code",
   "execution_count": 422,
   "metadata": {
    "collapsed": false
   },
   "outputs": [
    {
     "data": {
      "text/html": [
       "<div>\n",
       "<table border=\"1\" class=\"dataframe\">\n",
       "  <thead>\n",
       "    <tr style=\"text-align: right;\">\n",
       "      <th>Outlet_Type</th>\n",
       "      <th>Grocery Store</th>\n",
       "      <th>Supermarket Type1</th>\n",
       "      <th>Supermarket Type2</th>\n",
       "      <th>Supermarket Type3</th>\n",
       "      <th>All</th>\n",
       "    </tr>\n",
       "    <tr>\n",
       "      <th>Outlet_Size</th>\n",
       "      <th></th>\n",
       "      <th></th>\n",
       "      <th></th>\n",
       "      <th></th>\n",
       "      <th></th>\n",
       "    </tr>\n",
       "  </thead>\n",
       "  <tbody>\n",
       "    <tr>\n",
       "      <th>High</th>\n",
       "      <td>0</td>\n",
       "      <td>1553</td>\n",
       "      <td>0</td>\n",
       "      <td>0</td>\n",
       "      <td>1553</td>\n",
       "    </tr>\n",
       "    <tr>\n",
       "      <th>Medium</th>\n",
       "      <td>0</td>\n",
       "      <td>1550</td>\n",
       "      <td>1546</td>\n",
       "      <td>1559</td>\n",
       "      <td>4655</td>\n",
       "    </tr>\n",
       "    <tr>\n",
       "      <th>Small</th>\n",
       "      <td>880</td>\n",
       "      <td>3100</td>\n",
       "      <td>0</td>\n",
       "      <td>0</td>\n",
       "      <td>3980</td>\n",
       "    </tr>\n",
       "    <tr>\n",
       "      <th>All</th>\n",
       "      <td>1805</td>\n",
       "      <td>9294</td>\n",
       "      <td>1546</td>\n",
       "      <td>1559</td>\n",
       "      <td>14204</td>\n",
       "    </tr>\n",
       "  </tbody>\n",
       "</table>\n",
       "</div>"
      ],
      "text/plain": [
       "Outlet_Type  Grocery Store  Supermarket Type1  Supermarket Type2  \\\n",
       "Outlet_Size                                                        \n",
       "High                     0               1553                  0   \n",
       "Medium                   0               1550               1546   \n",
       "Small                  880               3100                  0   \n",
       "All                   1805               9294               1546   \n",
       "\n",
       "Outlet_Type  Supermarket Type3    All  \n",
       "Outlet_Size                            \n",
       "High                         0   1553  \n",
       "Medium                    1559   4655  \n",
       "Small                        0   3980  \n",
       "All                       1559  14204  "
      ]
     },
     "execution_count": 422,
     "metadata": {},
     "output_type": "execute_result"
    }
   ],
   "source": [
    "pd.crosstab(alldata['Outlet_Size'], alldata['Outlet_Type'],dropna=False, margins=True)"
   ]
  },
  {
   "cell_type": "code",
   "execution_count": 423,
   "metadata": {
    "collapsed": false
   },
   "outputs": [],
   "source": [
    "#Impute oulet size with small, where ever outlet type is grocery store\n",
    "alldata.loc[alldata['Outlet_Type']=='Grocery Store', 'Outlet_Size'] = 'Small'"
   ]
  },
  {
   "cell_type": "code",
   "execution_count": 424,
   "metadata": {
    "collapsed": false
   },
   "outputs": [
    {
     "data": {
      "text/html": [
       "<div>\n",
       "<table border=\"1\" class=\"dataframe\">\n",
       "  <thead>\n",
       "    <tr style=\"text-align: right;\">\n",
       "      <th>Outlet_Type</th>\n",
       "      <th>Grocery Store</th>\n",
       "      <th>Supermarket Type1</th>\n",
       "      <th>Supermarket Type2</th>\n",
       "      <th>Supermarket Type3</th>\n",
       "      <th>All</th>\n",
       "    </tr>\n",
       "    <tr>\n",
       "      <th>Outlet_Size</th>\n",
       "      <th></th>\n",
       "      <th></th>\n",
       "      <th></th>\n",
       "      <th></th>\n",
       "      <th></th>\n",
       "    </tr>\n",
       "  </thead>\n",
       "  <tbody>\n",
       "    <tr>\n",
       "      <th>High</th>\n",
       "      <td>0</td>\n",
       "      <td>1553</td>\n",
       "      <td>0</td>\n",
       "      <td>0</td>\n",
       "      <td>1553</td>\n",
       "    </tr>\n",
       "    <tr>\n",
       "      <th>Medium</th>\n",
       "      <td>0</td>\n",
       "      <td>1550</td>\n",
       "      <td>1546</td>\n",
       "      <td>1559</td>\n",
       "      <td>4655</td>\n",
       "    </tr>\n",
       "    <tr>\n",
       "      <th>Small</th>\n",
       "      <td>1805</td>\n",
       "      <td>3100</td>\n",
       "      <td>0</td>\n",
       "      <td>0</td>\n",
       "      <td>4905</td>\n",
       "    </tr>\n",
       "    <tr>\n",
       "      <th>All</th>\n",
       "      <td>1805</td>\n",
       "      <td>9294</td>\n",
       "      <td>1546</td>\n",
       "      <td>1559</td>\n",
       "      <td>14204</td>\n",
       "    </tr>\n",
       "  </tbody>\n",
       "</table>\n",
       "</div>"
      ],
      "text/plain": [
       "Outlet_Type  Grocery Store  Supermarket Type1  Supermarket Type2  \\\n",
       "Outlet_Size                                                        \n",
       "High                     0               1553                  0   \n",
       "Medium                   0               1550               1546   \n",
       "Small                 1805               3100                  0   \n",
       "All                   1805               9294               1546   \n",
       "\n",
       "Outlet_Type  Supermarket Type3    All  \n",
       "Outlet_Size                            \n",
       "High                         0   1553  \n",
       "Medium                    1559   4655  \n",
       "Small                        0   4905  \n",
       "All                       1559  14204  "
      ]
     },
     "execution_count": 424,
     "metadata": {},
     "output_type": "execute_result"
    }
   ],
   "source": [
    "#To check if the above code has been executed successfully\n",
    "pd.crosstab(alldata['Outlet_Size'], alldata['Outlet_Type'],dropna=False, margins=True)"
   ]
  },
  {
   "cell_type": "code",
   "execution_count": 425,
   "metadata": {
    "collapsed": false
   },
   "outputs": [
    {
     "data": {
      "text/html": [
       "<div>\n",
       "<table border=\"1\" class=\"dataframe\">\n",
       "  <thead>\n",
       "    <tr style=\"text-align: right;\">\n",
       "      <th>Outlet_Location_Type</th>\n",
       "      <th>Tier 1</th>\n",
       "      <th>Tier 2</th>\n",
       "      <th>Tier 3</th>\n",
       "      <th>All</th>\n",
       "    </tr>\n",
       "    <tr>\n",
       "      <th>Outlet_Size</th>\n",
       "      <th></th>\n",
       "      <th></th>\n",
       "      <th></th>\n",
       "      <th></th>\n",
       "    </tr>\n",
       "  </thead>\n",
       "  <tbody>\n",
       "    <tr>\n",
       "      <th>High</th>\n",
       "      <td>0</td>\n",
       "      <td>0</td>\n",
       "      <td>1553</td>\n",
       "      <td>1553</td>\n",
       "    </tr>\n",
       "    <tr>\n",
       "      <th>Medium</th>\n",
       "      <td>1550</td>\n",
       "      <td>0</td>\n",
       "      <td>3105</td>\n",
       "      <td>4655</td>\n",
       "    </tr>\n",
       "    <tr>\n",
       "      <th>Small</th>\n",
       "      <td>2430</td>\n",
       "      <td>1550</td>\n",
       "      <td>925</td>\n",
       "      <td>4905</td>\n",
       "    </tr>\n",
       "    <tr>\n",
       "      <th>All</th>\n",
       "      <td>3980</td>\n",
       "      <td>4641</td>\n",
       "      <td>5583</td>\n",
       "      <td>14204</td>\n",
       "    </tr>\n",
       "  </tbody>\n",
       "</table>\n",
       "</div>"
      ],
      "text/plain": [
       "Outlet_Location_Type  Tier 1  Tier 2  Tier 3    All\n",
       "Outlet_Size                                        \n",
       "High                       0       0    1553   1553\n",
       "Medium                  1550       0    3105   4655\n",
       "Small                   2430    1550     925   4905\n",
       "All                     3980    4641    5583  14204"
      ]
     },
     "execution_count": 425,
     "metadata": {},
     "output_type": "execute_result"
    }
   ],
   "source": [
    "#To check against outlet location type\n",
    "pd.crosstab(alldata['Outlet_Size'], alldata['Outlet_Location_Type'],dropna=False, margins=True)"
   ]
  },
  {
   "cell_type": "code",
   "execution_count": 426,
   "metadata": {
    "collapsed": true
   },
   "outputs": [],
   "source": [
    "#Tier 2 has only small outlet size, hence we can assume it will have only small size\n",
    "alldata.loc[alldata['Outlet_Location_Type']=='Tier 2', 'Outlet_Size'] = 'Small'"
   ]
  },
  {
   "cell_type": "code",
   "execution_count": 427,
   "metadata": {
    "collapsed": false
   },
   "outputs": [
    {
     "data": {
      "text/plain": [
       "0"
      ]
     },
     "execution_count": 427,
     "metadata": {},
     "output_type": "execute_result"
    }
   ],
   "source": [
    "#Hence all the null values have been imputed\n",
    "alldata.Outlet_Size.isnull().sum()"
   ]
  },
  {
   "cell_type": "code",
   "execution_count": 428,
   "metadata": {
    "collapsed": false
   },
   "outputs": [
    {
     "data": {
      "text/plain": [
       "array(['Medium', 'Small', 'High'], dtype=object)"
      ]
     },
     "execution_count": 428,
     "metadata": {},
     "output_type": "execute_result"
    }
   ],
   "source": [
    "alldata['Outlet_Size'].unique()"
   ]
  },
  {
   "cell_type": "code",
   "execution_count": 429,
   "metadata": {
    "collapsed": false
   },
   "outputs": [
    {
     "data": {
      "text/html": [
       "<div>\n",
       "<table border=\"1\" class=\"dataframe\">\n",
       "  <thead>\n",
       "    <tr style=\"text-align: right;\">\n",
       "      <th></th>\n",
       "      <th>Item_Identifier</th>\n",
       "      <th>Item_weight</th>\n",
       "      <th>Item_Fat_Content</th>\n",
       "      <th>Item_Visibility</th>\n",
       "      <th>Item_Type</th>\n",
       "      <th>Item_MRP</th>\n",
       "      <th>Outlet_Identifier</th>\n",
       "      <th>Outlet_Establishment_Year</th>\n",
       "      <th>Outlet_Size</th>\n",
       "      <th>Outlet_Location_Type</th>\n",
       "      <th>Outlet_Type</th>\n",
       "      <th>Item_Outlet_Sales</th>\n",
       "    </tr>\n",
       "  </thead>\n",
       "  <tbody>\n",
       "    <tr>\n",
       "      <th>14199</th>\n",
       "      <td>FDB58</td>\n",
       "      <td>10.5</td>\n",
       "      <td>Regular</td>\n",
       "      <td>0.013496</td>\n",
       "      <td>Snack Foods</td>\n",
       "      <td>141.3154</td>\n",
       "      <td>OUT046</td>\n",
       "      <td>19</td>\n",
       "      <td>Small</td>\n",
       "      <td>Tier 1</td>\n",
       "      <td>Supermarket Type1</td>\n",
       "      <td>0.0</td>\n",
       "    </tr>\n",
       "    <tr>\n",
       "      <th>14200</th>\n",
       "      <td>FDD47</td>\n",
       "      <td>7.6</td>\n",
       "      <td>Regular</td>\n",
       "      <td>0.142991</td>\n",
       "      <td>Starchy Foods</td>\n",
       "      <td>169.1448</td>\n",
       "      <td>OUT018</td>\n",
       "      <td>7</td>\n",
       "      <td>Medium</td>\n",
       "      <td>Tier 3</td>\n",
       "      <td>Supermarket Type2</td>\n",
       "      <td>0.0</td>\n",
       "    </tr>\n",
       "    <tr>\n",
       "      <th>14201</th>\n",
       "      <td>NCO17</td>\n",
       "      <td>10.0</td>\n",
       "      <td>Low Fat</td>\n",
       "      <td>0.073529</td>\n",
       "      <td>Health and Hygiene</td>\n",
       "      <td>118.7440</td>\n",
       "      <td>OUT045</td>\n",
       "      <td>14</td>\n",
       "      <td>Small</td>\n",
       "      <td>Tier 2</td>\n",
       "      <td>Supermarket Type1</td>\n",
       "      <td>0.0</td>\n",
       "    </tr>\n",
       "    <tr>\n",
       "      <th>14202</th>\n",
       "      <td>FDJ26</td>\n",
       "      <td>15.3</td>\n",
       "      <td>Regular</td>\n",
       "      <td>0.088380</td>\n",
       "      <td>Canned</td>\n",
       "      <td>214.6218</td>\n",
       "      <td>OUT017</td>\n",
       "      <td>9</td>\n",
       "      <td>Small</td>\n",
       "      <td>Tier 2</td>\n",
       "      <td>Supermarket Type1</td>\n",
       "      <td>0.0</td>\n",
       "    </tr>\n",
       "    <tr>\n",
       "      <th>14203</th>\n",
       "      <td>FDU37</td>\n",
       "      <td>9.5</td>\n",
       "      <td>Regular</td>\n",
       "      <td>0.104720</td>\n",
       "      <td>Canned</td>\n",
       "      <td>79.7960</td>\n",
       "      <td>OUT045</td>\n",
       "      <td>14</td>\n",
       "      <td>Small</td>\n",
       "      <td>Tier 2</td>\n",
       "      <td>Supermarket Type1</td>\n",
       "      <td>0.0</td>\n",
       "    </tr>\n",
       "  </tbody>\n",
       "</table>\n",
       "</div>"
      ],
      "text/plain": [
       "      Item_Identifier  Item_weight Item_Fat_Content  Item_Visibility  \\\n",
       "14199           FDB58         10.5          Regular         0.013496   \n",
       "14200           FDD47          7.6          Regular         0.142991   \n",
       "14201           NCO17         10.0          Low Fat         0.073529   \n",
       "14202           FDJ26         15.3          Regular         0.088380   \n",
       "14203           FDU37          9.5          Regular         0.104720   \n",
       "\n",
       "                Item_Type  Item_MRP Outlet_Identifier  \\\n",
       "14199         Snack Foods  141.3154            OUT046   \n",
       "14200       Starchy Foods  169.1448            OUT018   \n",
       "14201  Health and Hygiene  118.7440            OUT045   \n",
       "14202              Canned  214.6218            OUT017   \n",
       "14203              Canned   79.7960            OUT045   \n",
       "\n",
       "       Outlet_Establishment_Year Outlet_Size Outlet_Location_Type  \\\n",
       "14199                         19       Small               Tier 1   \n",
       "14200                          7      Medium               Tier 3   \n",
       "14201                         14       Small               Tier 2   \n",
       "14202                          9       Small               Tier 2   \n",
       "14203                         14       Small               Tier 2   \n",
       "\n",
       "             Outlet_Type  Item_Outlet_Sales  \n",
       "14199  Supermarket Type1                0.0  \n",
       "14200  Supermarket Type2                0.0  \n",
       "14201  Supermarket Type1                0.0  \n",
       "14202  Supermarket Type1                0.0  \n",
       "14203  Supermarket Type1                0.0  "
      ]
     },
     "execution_count": 429,
     "metadata": {},
     "output_type": "execute_result"
    }
   ],
   "source": [
    "alldata.tail()"
   ]
  },
  {
   "cell_type": "markdown",
   "metadata": {},
   "source": [
    "# Outlet Type"
   ]
  },
  {
   "cell_type": "code",
   "execution_count": 430,
   "metadata": {
    "collapsed": false
   },
   "outputs": [
    {
     "data": {
      "text/plain": [
       "array(['Supermarket Type1', 'Supermarket Type2', 'Grocery Store',\n",
       "       'Supermarket Type3'], dtype=object)"
      ]
     },
     "execution_count": 430,
     "metadata": {},
     "output_type": "execute_result"
    }
   ],
   "source": [
    "alldata['Outlet_Type'].unique()"
   ]
  },
  {
   "cell_type": "code",
   "execution_count": 431,
   "metadata": {
    "collapsed": true
   },
   "outputs": [],
   "source": [
    "#As there are no null values, this feature seems good to be used"
   ]
  },
  {
   "cell_type": "markdown",
   "metadata": {
    "collapsed": true
   },
   "source": [
    "# Building Model"
   ]
  },
  {
   "cell_type": "code",
   "execution_count": 465,
   "metadata": {
    "collapsed": true
   },
   "outputs": [],
   "source": [
    "traindata = alldata.loc[alldata['Item_Outlet_Sales']!=0].copy()\n",
    "testdata = alldata.loc[alldata['Item_Outlet_Sales']==0].copy()"
   ]
  },
  {
   "cell_type": "code",
   "execution_count": 466,
   "metadata": {
    "collapsed": false
   },
   "outputs": [
    {
     "name": "stdout",
     "output_type": "stream",
     "text": [
      "(8523, 12)\n",
      "(5681, 12)\n"
     ]
    }
   ],
   "source": [
    "print(traindata.shape)\n",
    "print(testdata.shape)"
   ]
  },
  {
   "cell_type": "code",
   "execution_count": 467,
   "metadata": {
    "collapsed": false
   },
   "outputs": [],
   "source": [
    "#Create a new column called item_sold instead of item outlet sales\n",
    "Item_Sold = round(traindata['Item_Outlet_Sales']/traindata['Item_MRP'])\n",
    "traindata['Item_Sold'] = Item_Sold\n",
    "testdata['Item_Sold'] = 0"
   ]
  },
  {
   "cell_type": "code",
   "execution_count": 468,
   "metadata": {
    "collapsed": false
   },
   "outputs": [
    {
     "name": "stdout",
     "output_type": "stream",
     "text": [
      "(8523, 13)\n",
      "(5681, 13)\n"
     ]
    }
   ],
   "source": [
    "print(traindata.shape)\n",
    "print(testdata.shape)"
   ]
  },
  {
   "cell_type": "code",
   "execution_count": 469,
   "metadata": {
    "collapsed": true
   },
   "outputs": [],
   "source": [
    "#We can now delete item outlet sales column\n",
    "del traindata['Item_Outlet_Sales']\n",
    "del testdata['Item_Outlet_Sales']"
   ]
  },
  {
   "cell_type": "code",
   "execution_count": 470,
   "metadata": {
    "collapsed": false
   },
   "outputs": [
    {
     "name": "stdout",
     "output_type": "stream",
     "text": [
      "(8523, 12)\n",
      "(5681, 12)\n"
     ]
    }
   ],
   "source": [
    "print(traindata.shape)\n",
    "print(testdata.shape)"
   ]
  },
  {
   "cell_type": "code",
   "execution_count": 471,
   "metadata": {
    "collapsed": true
   },
   "outputs": [],
   "source": [
    "#Item Identifier is not going to be important feature for my calculation, hence i drop it\n",
    "del traindata['Item_Identifier']\n",
    "del testdata['Item_Identifier']"
   ]
  },
  {
   "cell_type": "code",
   "execution_count": 472,
   "metadata": {
    "collapsed": false
   },
   "outputs": [
    {
     "name": "stdout",
     "output_type": "stream",
     "text": [
      "(8523, 11)\n",
      "(5681, 11)\n"
     ]
    }
   ],
   "source": [
    "print(traindata.shape)\n",
    "print(testdata.shape)"
   ]
  },
  {
   "cell_type": "code",
   "execution_count": 473,
   "metadata": {
    "collapsed": true
   },
   "outputs": [],
   "source": [
    "from sklearn.cross_validation import train_test_split\n",
    "from sklearn.linear_model import LinearRegression"
   ]
  },
  {
   "cell_type": "code",
   "execution_count": 474,
   "metadata": {
    "collapsed": false
   },
   "outputs": [
    {
     "data": {
      "text/plain": [
       "Index(['Item_weight', 'Item_Fat_Content', 'Item_Visibility', 'Item_Type',\n",
       "       'Item_MRP', 'Outlet_Identifier', 'Outlet_Establishment_Year',\n",
       "       'Outlet_Size', 'Outlet_Location_Type', 'Outlet_Type', 'Item_Sold'],\n",
       "      dtype='object')"
      ]
     },
     "execution_count": 474,
     "metadata": {},
     "output_type": "execute_result"
    }
   ],
   "source": [
    "traindata.columns"
   ]
  },
  {
   "cell_type": "code",
   "execution_count": 475,
   "metadata": {
    "collapsed": false
   },
   "outputs": [],
   "source": [
    "#Splitting the training data in dependent and independent variables\n",
    "xtr = traindata[['Item_weight', 'Item_Fat_Content', 'Item_Visibility', 'Item_Type','Item_MRP', 'Outlet_Identifier', 'Outlet_Establishment_Year',\n",
    "       'Outlet_Size', 'Outlet_Location_Type', 'Outlet_Type']]\n",
    "ytr = traindata['Item_Sold']"
   ]
  },
  {
   "cell_type": "code",
   "execution_count": 476,
   "metadata": {
    "collapsed": true
   },
   "outputs": [],
   "source": [
    "#Splitting the test data in dependent and independent variables\n",
    "xte = testdata[['Item_weight', 'Item_Fat_Content', 'Item_Visibility', 'Item_Type','Item_MRP', 'Outlet_Identifier', 'Outlet_Establishment_Year',\n",
    "       'Outlet_Size', 'Outlet_Location_Type', 'Outlet_Type']]"
   ]
  },
  {
   "cell_type": "code",
   "execution_count": 477,
   "metadata": {
    "collapsed": true
   },
   "outputs": [],
   "source": [
    "#Get dummy variables\n",
    "final_train = pd.get_dummies(xtr)\n",
    "final_test = pd.get_dummies(xte)"
   ]
  },
  {
   "cell_type": "code",
   "execution_count": 478,
   "metadata": {
    "collapsed": false
   },
   "outputs": [
    {
     "name": "stdout",
     "output_type": "stream",
     "text": [
      "(8523, 42)\n",
      "(5681, 42)\n"
     ]
    }
   ],
   "source": [
    "print(final_train.shape)\n",
    "print(final_test.shape)"
   ]
  },
  {
   "cell_type": "code",
   "execution_count": 479,
   "metadata": {
    "collapsed": true
   },
   "outputs": [],
   "source": [
    "#Crossvalidation\n",
    "x_train, x_test, y_train, y_test = train_test_split(final_train,ytr, test_size = 0.3, random_state = 101)"
   ]
  },
  {
   "cell_type": "code",
   "execution_count": 480,
   "metadata": {
    "collapsed": false
   },
   "outputs": [
    {
     "data": {
      "text/plain": [
       "LinearRegression(copy_X=True, fit_intercept=True, n_jobs=1, normalize=False)"
      ]
     },
     "execution_count": 480,
     "metadata": {},
     "output_type": "execute_result"
    }
   ],
   "source": [
    "lm = LinearRegression()\n",
    "lm.fit(x_train, y_train)"
   ]
  },
  {
   "cell_type": "code",
   "execution_count": 481,
   "metadata": {
    "collapsed": false
   },
   "outputs": [
    {
     "name": "stdout",
     "output_type": "stream",
     "text": [
      "11.8815950394\n"
     ]
    }
   ],
   "source": [
    "print(lm.intercept_)"
   ]
  },
  {
   "cell_type": "code",
   "execution_count": 482,
   "metadata": {
    "collapsed": false
   },
   "outputs": [
    {
     "name": "stdout",
     "output_type": "stream",
     "text": [
      "[  2.39765786e-03  -5.47908354e-01   1.35050906e-03   1.17109575e-01\n",
      "  -1.04412687e-01   1.04412687e-01  -2.86746293e-01   5.82695485e-01\n",
      "  -1.11305269e-01   1.58186553e-01  -5.45784322e-01  -6.38211353e-01\n",
      "   8.47625765e-03  -4.36358891e-01   9.20192394e-02  -2.49933887e-01\n",
      "   3.39088737e-01   1.42592375e-01   1.20454802e+00  -2.30917051e-02\n",
      "  -2.78126646e-01   4.19517001e-02  -3.12142650e+00  -7.72940968e-01\n",
      "   1.22052317e+00  -6.55178539e-01  -3.26568916e+00   4.29043519e+00\n",
      "   1.19697205e+00  -6.22607804e-01   2.74841010e+00  -1.01849754e+00\n",
      "  -7.72940968e-01   2.61675911e+00  -1.84381814e+00  -1.53577660e+00\n",
      "   1.79488742e+00  -2.59110823e-01  -6.38711566e+00   2.75185902e+00\n",
      "  -6.55178539e-01   4.29043519e+00]\n"
     ]
    }
   ],
   "source": [
    "print(lm.coef_)"
   ]
  },
  {
   "cell_type": "code",
   "execution_count": 483,
   "metadata": {
    "collapsed": true
   },
   "outputs": [
    {
     "data": {
      "text/html": [
       "<div>\n",
       "<table border=\"1\" class=\"dataframe\">\n",
       "  <thead>\n",
       "    <tr style=\"text-align: right;\">\n",
       "      <th></th>\n",
       "      <th>Coefficient</th>\n",
       "    </tr>\n",
       "  </thead>\n",
       "  <tbody>\n",
       "    <tr>\n",
       "      <th>Item_weight</th>\n",
       "      <td>0.002398</td>\n",
       "    </tr>\n",
       "    <tr>\n",
       "      <th>Item_Visibility</th>\n",
       "      <td>-0.547908</td>\n",
       "    </tr>\n",
       "    <tr>\n",
       "      <th>Item_MRP</th>\n",
       "      <td>0.001351</td>\n",
       "    </tr>\n",
       "    <tr>\n",
       "      <th>Outlet_Establishment_Year</th>\n",
       "      <td>0.117110</td>\n",
       "    </tr>\n",
       "    <tr>\n",
       "      <th>Item_Fat_Content_Low Fat</th>\n",
       "      <td>-0.104413</td>\n",
       "    </tr>\n",
       "    <tr>\n",
       "      <th>Item_Fat_Content_Regular</th>\n",
       "      <td>0.104413</td>\n",
       "    </tr>\n",
       "    <tr>\n",
       "      <th>Item_Type_Baking Goods</th>\n",
       "      <td>-0.286746</td>\n",
       "    </tr>\n",
       "    <tr>\n",
       "      <th>Item_Type_Breads</th>\n",
       "      <td>0.582695</td>\n",
       "    </tr>\n",
       "    <tr>\n",
       "      <th>Item_Type_Breakfast</th>\n",
       "      <td>-0.111305</td>\n",
       "    </tr>\n",
       "    <tr>\n",
       "      <th>Item_Type_Canned</th>\n",
       "      <td>0.158187</td>\n",
       "    </tr>\n",
       "    <tr>\n",
       "      <th>Item_Type_Dairy</th>\n",
       "      <td>-0.545784</td>\n",
       "    </tr>\n",
       "    <tr>\n",
       "      <th>Item_Type_Frozen Foods</th>\n",
       "      <td>-0.638211</td>\n",
       "    </tr>\n",
       "    <tr>\n",
       "      <th>Item_Type_Fruits and Vegetables</th>\n",
       "      <td>0.008476</td>\n",
       "    </tr>\n",
       "    <tr>\n",
       "      <th>Item_Type_Hard Drinks</th>\n",
       "      <td>-0.436359</td>\n",
       "    </tr>\n",
       "    <tr>\n",
       "      <th>Item_Type_Health and Hygiene</th>\n",
       "      <td>0.092019</td>\n",
       "    </tr>\n",
       "    <tr>\n",
       "      <th>Item_Type_Household</th>\n",
       "      <td>-0.249934</td>\n",
       "    </tr>\n",
       "    <tr>\n",
       "      <th>Item_Type_Meat</th>\n",
       "      <td>0.339089</td>\n",
       "    </tr>\n",
       "    <tr>\n",
       "      <th>Item_Type_Others</th>\n",
       "      <td>0.142592</td>\n",
       "    </tr>\n",
       "    <tr>\n",
       "      <th>Item_Type_Seafood</th>\n",
       "      <td>1.204548</td>\n",
       "    </tr>\n",
       "    <tr>\n",
       "      <th>Item_Type_Snack Foods</th>\n",
       "      <td>-0.023092</td>\n",
       "    </tr>\n",
       "    <tr>\n",
       "      <th>Item_Type_Soft Drinks</th>\n",
       "      <td>-0.278127</td>\n",
       "    </tr>\n",
       "    <tr>\n",
       "      <th>Item_Type_Starchy Foods</th>\n",
       "      <td>0.041952</td>\n",
       "    </tr>\n",
       "    <tr>\n",
       "      <th>Outlet_Identifier_OUT010</th>\n",
       "      <td>-3.121427</td>\n",
       "    </tr>\n",
       "    <tr>\n",
       "      <th>Outlet_Identifier_OUT013</th>\n",
       "      <td>-0.772941</td>\n",
       "    </tr>\n",
       "    <tr>\n",
       "      <th>Outlet_Identifier_OUT017</th>\n",
       "      <td>1.220523</td>\n",
       "    </tr>\n",
       "    <tr>\n",
       "      <th>Outlet_Identifier_OUT018</th>\n",
       "      <td>-0.655179</td>\n",
       "    </tr>\n",
       "    <tr>\n",
       "      <th>Outlet_Identifier_OUT019</th>\n",
       "      <td>-3.265689</td>\n",
       "    </tr>\n",
       "    <tr>\n",
       "      <th>Outlet_Identifier_OUT027</th>\n",
       "      <td>4.290435</td>\n",
       "    </tr>\n",
       "    <tr>\n",
       "      <th>Outlet_Identifier_OUT035</th>\n",
       "      <td>1.196972</td>\n",
       "    </tr>\n",
       "    <tr>\n",
       "      <th>Outlet_Identifier_OUT045</th>\n",
       "      <td>-0.622608</td>\n",
       "    </tr>\n",
       "    <tr>\n",
       "      <th>Outlet_Identifier_OUT046</th>\n",
       "      <td>2.748410</td>\n",
       "    </tr>\n",
       "    <tr>\n",
       "      <th>Outlet_Identifier_OUT049</th>\n",
       "      <td>-1.018498</td>\n",
       "    </tr>\n",
       "    <tr>\n",
       "      <th>Outlet_Size_High</th>\n",
       "      <td>-0.772941</td>\n",
       "    </tr>\n",
       "    <tr>\n",
       "      <th>Outlet_Size_Medium</th>\n",
       "      <td>2.616759</td>\n",
       "    </tr>\n",
       "    <tr>\n",
       "      <th>Outlet_Size_Small</th>\n",
       "      <td>-1.843818</td>\n",
       "    </tr>\n",
       "    <tr>\n",
       "      <th>Outlet_Location_Type_Tier 1</th>\n",
       "      <td>-1.535777</td>\n",
       "    </tr>\n",
       "    <tr>\n",
       "      <th>Outlet_Location_Type_Tier 2</th>\n",
       "      <td>1.794887</td>\n",
       "    </tr>\n",
       "    <tr>\n",
       "      <th>Outlet_Location_Type_Tier 3</th>\n",
       "      <td>-0.259111</td>\n",
       "    </tr>\n",
       "    <tr>\n",
       "      <th>Outlet_Type_Grocery Store</th>\n",
       "      <td>-6.387116</td>\n",
       "    </tr>\n",
       "    <tr>\n",
       "      <th>Outlet_Type_Supermarket Type1</th>\n",
       "      <td>2.751859</td>\n",
       "    </tr>\n",
       "    <tr>\n",
       "      <th>Outlet_Type_Supermarket Type2</th>\n",
       "      <td>-0.655179</td>\n",
       "    </tr>\n",
       "    <tr>\n",
       "      <th>Outlet_Type_Supermarket Type3</th>\n",
       "      <td>4.290435</td>\n",
       "    </tr>\n",
       "  </tbody>\n",
       "</table>\n",
       "</div>"
      ],
      "text/plain": [
       "                                 Coefficient\n",
       "Item_weight                         0.002398\n",
       "Item_Visibility                    -0.547908\n",
       "Item_MRP                            0.001351\n",
       "Outlet_Establishment_Year           0.117110\n",
       "Item_Fat_Content_Low Fat           -0.104413\n",
       "Item_Fat_Content_Regular            0.104413\n",
       "Item_Type_Baking Goods             -0.286746\n",
       "Item_Type_Breads                    0.582695\n",
       "Item_Type_Breakfast                -0.111305\n",
       "Item_Type_Canned                    0.158187\n",
       "Item_Type_Dairy                    -0.545784\n",
       "Item_Type_Frozen Foods             -0.638211\n",
       "Item_Type_Fruits and Vegetables     0.008476\n",
       "Item_Type_Hard Drinks              -0.436359\n",
       "Item_Type_Health and Hygiene        0.092019\n",
       "Item_Type_Household                -0.249934\n",
       "Item_Type_Meat                      0.339089\n",
       "Item_Type_Others                    0.142592\n",
       "Item_Type_Seafood                   1.204548\n",
       "Item_Type_Snack Foods              -0.023092\n",
       "Item_Type_Soft Drinks              -0.278127\n",
       "Item_Type_Starchy Foods             0.041952\n",
       "Outlet_Identifier_OUT010           -3.121427\n",
       "Outlet_Identifier_OUT013           -0.772941\n",
       "Outlet_Identifier_OUT017            1.220523\n",
       "Outlet_Identifier_OUT018           -0.655179\n",
       "Outlet_Identifier_OUT019           -3.265689\n",
       "Outlet_Identifier_OUT027            4.290435\n",
       "Outlet_Identifier_OUT035            1.196972\n",
       "Outlet_Identifier_OUT045           -0.622608\n",
       "Outlet_Identifier_OUT046            2.748410\n",
       "Outlet_Identifier_OUT049           -1.018498\n",
       "Outlet_Size_High                   -0.772941\n",
       "Outlet_Size_Medium                  2.616759\n",
       "Outlet_Size_Small                  -1.843818\n",
       "Outlet_Location_Type_Tier 1        -1.535777\n",
       "Outlet_Location_Type_Tier 2         1.794887\n",
       "Outlet_Location_Type_Tier 3        -0.259111\n",
       "Outlet_Type_Grocery Store          -6.387116\n",
       "Outlet_Type_Supermarket Type1       2.751859\n",
       "Outlet_Type_Supermarket Type2      -0.655179\n",
       "Outlet_Type_Supermarket Type3       4.290435"
      ]
     },
     "execution_count": 483,
     "metadata": {},
     "output_type": "execute_result"
    }
   ],
   "source": [
    "coeff_df = pd.DataFrame(lm.coef_, xdummy.columns, columns = ['Coefficient'])\n",
    "coeff_df"
   ]
  },
  {
   "cell_type": "code",
   "execution_count": 487,
   "metadata": {
    "collapsed": true
   },
   "outputs": [],
   "source": [
    "predictions = lm.predict(x_test)"
   ]
  },
  {
   "cell_type": "code",
   "execution_count": 494,
   "metadata": {
    "collapsed": false
   },
   "outputs": [],
   "source": [
    "Item_Outlet_Sales = pd.Series(predictions)"
   ]
  },
  {
   "cell_type": "code",
   "execution_count": 495,
   "metadata": {
    "collapsed": true
   },
   "outputs": [],
   "source": [
    "Final_result = test.Item_MRP * Item_Outlet_Sales"
   ]
  },
  {
   "cell_type": "code",
   "execution_count": null,
   "metadata": {
    "collapsed": true
   },
   "outputs": [],
   "source": [
    "test['Item_Outlet_Sales'] = Item_Outlet_Sales * testdata['Item_MRP']"
   ]
  },
  {
   "cell_type": "code",
   "execution_count": 488,
   "metadata": {
    "collapsed": true
   },
   "outputs": [],
   "source": [
    "from sklearn import metrics"
   ]
  },
  {
   "cell_type": "code",
   "execution_count": 489,
   "metadata": {
    "collapsed": false
   },
   "outputs": [
    {
     "name": "stdout",
     "output_type": "stream",
     "text": [
      "MSE: 46.9143314178\n",
      "RMSE: 6.84940372717\n"
     ]
    }
   ],
   "source": [
    "print('MSE:', metrics.mean_squared_error(y_test, predictions))\n",
    "print('RMSE:', np.sqrt(metrics.mean_squared_error(y_test, predictions)))"
   ]
  },
  {
   "cell_type": "markdown",
   "metadata": {},
   "source": [
    "# Submission"
   ]
  },
  {
   "cell_type": "code",
   "execution_count": 496,
   "metadata": {
    "collapsed": true
   },
   "outputs": [],
   "source": [
    "Submission = pd.DataFrame({'Item_Identifier': test.Item_Identifier, 'Outlet_Identifier': test.Outlet_Identifier, 'Item_Outlet_Sales': Final_result})"
   ]
  },
  {
   "cell_type": "code",
   "execution_count": 498,
   "metadata": {
    "collapsed": false
   },
   "outputs": [
    {
     "data": {
      "text/html": [
       "<div>\n",
       "<table border=\"1\" class=\"dataframe\">\n",
       "  <thead>\n",
       "    <tr style=\"text-align: right;\">\n",
       "      <th></th>\n",
       "      <th>Item_Identifier</th>\n",
       "      <th>Item_Outlet_Sales</th>\n",
       "      <th>Outlet_Identifier</th>\n",
       "    </tr>\n",
       "  </thead>\n",
       "  <tbody>\n",
       "    <tr>\n",
       "      <th>0</th>\n",
       "      <td>FDW58</td>\n",
       "      <td>1495.823746</td>\n",
       "      <td>OUT049</td>\n",
       "    </tr>\n",
       "    <tr>\n",
       "      <th>1</th>\n",
       "      <td>FDW14</td>\n",
       "      <td>1425.031008</td>\n",
       "      <td>OUT017</td>\n",
       "    </tr>\n",
       "    <tr>\n",
       "      <th>2</th>\n",
       "      <td>NCN55</td>\n",
       "      <td>4109.046077</td>\n",
       "      <td>OUT010</td>\n",
       "    </tr>\n",
       "    <tr>\n",
       "      <th>3</th>\n",
       "      <td>FDQ58</td>\n",
       "      <td>2610.743862</td>\n",
       "      <td>OUT017</td>\n",
       "    </tr>\n",
       "    <tr>\n",
       "      <th>4</th>\n",
       "      <td>FDY38</td>\n",
       "      <td>3716.046715</td>\n",
       "      <td>OUT027</td>\n",
       "    </tr>\n",
       "  </tbody>\n",
       "</table>\n",
       "</div>"
      ],
      "text/plain": [
       "  Item_Identifier  Item_Outlet_Sales Outlet_Identifier\n",
       "0           FDW58        1495.823746            OUT049\n",
       "1           FDW14        1425.031008            OUT017\n",
       "2           NCN55        4109.046077            OUT010\n",
       "3           FDQ58        2610.743862            OUT017\n",
       "4           FDY38        3716.046715            OUT027"
      ]
     },
     "execution_count": 498,
     "metadata": {},
     "output_type": "execute_result"
    }
   ],
   "source": [
    "Submission.head()"
   ]
  },
  {
   "cell_type": "code",
   "execution_count": 499,
   "metadata": {
    "collapsed": true
   },
   "outputs": [],
   "source": [
    "cols = ['Item_Identifier', 'Outlet_Identifier', 'Item_Outlet_Sales']"
   ]
  },
  {
   "cell_type": "code",
   "execution_count": 502,
   "metadata": {
    "collapsed": false
   },
   "outputs": [
    {
     "data": {
      "text/html": [
       "<div>\n",
       "<table border=\"1\" class=\"dataframe\">\n",
       "  <thead>\n",
       "    <tr style=\"text-align: right;\">\n",
       "      <th></th>\n",
       "      <th>Item_Identifier</th>\n",
       "      <th>Outlet_Identifier</th>\n",
       "      <th>Item_Outlet_Sales</th>\n",
       "    </tr>\n",
       "  </thead>\n",
       "  <tbody>\n",
       "    <tr>\n",
       "      <th>0</th>\n",
       "      <td>FDW58</td>\n",
       "      <td>OUT049</td>\n",
       "      <td>1495.823746</td>\n",
       "    </tr>\n",
       "    <tr>\n",
       "      <th>1</th>\n",
       "      <td>FDW14</td>\n",
       "      <td>OUT017</td>\n",
       "      <td>1425.031008</td>\n",
       "    </tr>\n",
       "    <tr>\n",
       "      <th>2</th>\n",
       "      <td>NCN55</td>\n",
       "      <td>OUT010</td>\n",
       "      <td>4109.046077</td>\n",
       "    </tr>\n",
       "    <tr>\n",
       "      <th>3</th>\n",
       "      <td>FDQ58</td>\n",
       "      <td>OUT017</td>\n",
       "      <td>2610.743862</td>\n",
       "    </tr>\n",
       "    <tr>\n",
       "      <th>4</th>\n",
       "      <td>FDY38</td>\n",
       "      <td>OUT027</td>\n",
       "      <td>3716.046715</td>\n",
       "    </tr>\n",
       "  </tbody>\n",
       "</table>\n",
       "</div>"
      ],
      "text/plain": [
       "  Item_Identifier Outlet_Identifier  Item_Outlet_Sales\n",
       "0           FDW58            OUT049        1495.823746\n",
       "1           FDW14            OUT017        1425.031008\n",
       "2           NCN55            OUT010        4109.046077\n",
       "3           FDQ58            OUT017        2610.743862\n",
       "4           FDY38            OUT027        3716.046715"
      ]
     },
     "execution_count": 502,
     "metadata": {},
     "output_type": "execute_result"
    }
   ],
   "source": [
    "Submission = Submission[cols]\n",
    "Submission.head()"
   ]
  },
  {
   "cell_type": "code",
   "execution_count": 504,
   "metadata": {
    "collapsed": true
   },
   "outputs": [],
   "source": [
    "Submission.to_csv(\"Sales_Prediction_submission_revised.csv\", index=False)"
   ]
  },
  {
   "cell_type": "code",
   "execution_count": null,
   "metadata": {
    "collapsed": true
   },
   "outputs": [],
   "source": []
  }
 ],
 "metadata": {
  "anaconda-cloud": {},
  "kernelspec": {
   "display_name": "Python [conda root]",
   "language": "python",
   "name": "conda-root-py"
  },
  "language_info": {
   "codemirror_mode": {
    "name": "ipython",
    "version": 3
   },
   "file_extension": ".py",
   "mimetype": "text/x-python",
   "name": "python",
   "nbconvert_exporter": "python",
   "pygments_lexer": "ipython3",
   "version": "3.5.2"
  }
 },
 "nbformat": 4,
 "nbformat_minor": 1
}
